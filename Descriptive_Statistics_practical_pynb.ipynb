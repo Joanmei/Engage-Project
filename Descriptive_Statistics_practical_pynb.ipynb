{
  "nbformat": 4,
  "nbformat_minor": 0,
  "metadata": {
    "colab": {
      "provenance": [],
      "include_colab_link": true
    },
    "kernelspec": {
      "name": "python3",
      "display_name": "Python 3"
    },
    "language_info": {
      "name": "python"
    }
  },
  "cells": [
    {
      "cell_type": "markdown",
      "metadata": {
        "id": "view-in-github",
        "colab_type": "text"
      },
      "source": [
        "<a href=\"https://colab.research.google.com/github/Joanmei/Engage-Project/blob/main/Descriptive_Statistics_practical_pynb.ipynb\" target=\"_parent\"><img src=\"https://colab.research.google.com/assets/colab-badge.svg\" alt=\"Open In Colab\"/></a>"
      ]
    },
    {
      "cell_type": "code",
      "source": [
        "from google.colab import drive\n",
        "drive.mount('/content/drive')"
      ],
      "metadata": {
        "id": "oA3h9EKeHK4y",
        "colab": {
          "base_uri": "https://localhost:8080/"
        },
        "outputId": "9adcb8b6-410f-43be-d338-115b59526395"
      },
      "execution_count": 2,
      "outputs": [
        {
          "output_type": "stream",
          "name": "stdout",
          "text": [
            "Mounted at /content/drive\n"
          ]
        }
      ]
    },
    {
      "cell_type": "markdown",
      "source": [
        "Activity 4:\n",
        "\n",
        "Compute the mean and median of the heights for the children under five years of age in Bungoma County.\n",
        "\n",
        "Interpret the results."
      ],
      "metadata": {
        "id": "ninDxrgCEB97"
      }
    },
    {
      "cell_type": "code",
      "execution_count": 4,
      "metadata": {
        "id": "_vT2TXiwDwte"
      },
      "outputs": [],
      "source": [
        "#Reading data\n",
        "import pandas as pd\n",
        "child = pd.read_csv(\"/content/childhealthdata.csv\")"
      ]
    },
    {
      "cell_type": "markdown",
      "source": [
        "Now to get the average height of the children"
      ],
      "metadata": {
        "id": "mGPKV-o1E6RF"
      }
    },
    {
      "cell_type": "code",
      "source": [
        "#mean of age of children\n",
        "mean_height = child['height'].mean()\n",
        "print(mean_height)"
      ],
      "metadata": {
        "id": "NhzWvIDzFAnA",
        "colab": {
          "base_uri": "https://localhost:8080/"
        },
        "outputId": "317b718c-4f48-49af-9042-cd0a6ee3575e"
      },
      "execution_count": 5,
      "outputs": [
        {
          "output_type": "stream",
          "name": "stdout",
          "text": [
            "83.85857321652065\n"
          ]
        }
      ]
    },
    {
      "cell_type": "markdown",
      "source": [
        "next the median of the heights"
      ],
      "metadata": {
        "id": "Hl9isGtAFIdb"
      }
    },
    {
      "cell_type": "code",
      "source": [
        "# median of age of children\n",
        "median_height = child['height'].median()\n",
        "print(median_height)"
      ],
      "metadata": {
        "id": "wFFkil_EFQtf",
        "colab": {
          "base_uri": "https://localhost:8080/"
        },
        "outputId": "fe750e51-86ac-4678-d2a1-7847604a8c18"
      },
      "execution_count": 6,
      "outputs": [
        {
          "output_type": "stream",
          "name": "stdout",
          "text": [
            "84.9\n"
          ]
        }
      ]
    },
    {
      "cell_type": "code",
      "source": [
        "# Simply add the cholesterol level values and divide by twelve\n",
        "cholesterol_levels = [182, 199, 160, 227, 173, 210, 227, 205, 275, 208, 169, 182]\n",
        "average_cholesterol = sum(cholesterol_levels) / 12\n",
        "print(average_cholesterol)\n"
      ],
      "metadata": {
        "colab": {
          "base_uri": "https://localhost:8080/"
        },
        "id": "Sr2WRZiL6ywN",
        "outputId": "6859551b-645b-490d-c0c4-b38138ccd67b"
      },
      "execution_count": 8,
      "outputs": [
        {
          "output_type": "stream",
          "name": "stdout",
          "text": [
            "201.41666666666666\n"
          ]
        }
      ]
    },
    {
      "cell_type": "code",
      "source": [
        "# Alternatively we can use the function np.mean() to get the average value\n",
        "import numpy as np\n",
        "m = [182, 199, 160, 227, 173, 210, 227, 205, 275, 208, 169, 182]\n",
        "mean_cholesterol = np.mean(m)\n",
        "print(mean_cholesterol)\n"
      ],
      "metadata": {
        "colab": {
          "base_uri": "https://localhost:8080/"
        },
        "id": "LVUmVbTZ6sdN",
        "outputId": "0bfc5b96-7a4c-474e-e945-4bb2687b3f0c"
      },
      "execution_count": 24,
      "outputs": [
        {
          "output_type": "stream",
          "name": "stdout",
          "text": [
            "201.41666666666666\n"
          ]
        }
      ]
    },
    {
      "cell_type": "code",
      "source": [
        "# Read CSV file\n",
        "import pandas as pd\n",
        "child = pd.read_csv(\"/content/childhealthdata.csv\")\n",
        "child.head()"
      ],
      "metadata": {
        "colab": {
          "base_uri": "https://localhost:8080/",
          "height": 276
        },
        "id": "Eqk61x10611c",
        "outputId": "2e05490b-2e09-4931-ae55-94543ccdd251"
      },
      "execution_count": 58,
      "outputs": [
        {
          "output_type": "execute_result",
          "data": {
            "text/plain": [
              "   Child participated in POLIO campaign August 2013  diarrhea_status  weight  \\\n",
              "0                                                 1               No    16.2   \n",
              "1                                                 1               No    13.5   \n",
              "2                                                 1               No    13.4   \n",
              "3                                                 1               No    15.0   \n",
              "4                                                 1               No    15.2   \n",
              "\n",
              "   height residence     Sex  age age_category   education wealth_index  \n",
              "0   102.4     Rural  Female   45        36-47  Secondary+      Richest  \n",
              "1    92.5     Rural    Male   45        36-47     Primary       Second  \n",
              "2    88.5     Rural    Male   36        36-47     Primary       Fourth  \n",
              "3   101.3     Rural  Female   51        48-59     Primary       Fourth  \n",
              "4   105.0     Rural  Female   56        48-59     Primary       Fourth  "
            ],
            "text/html": [
              "\n",
              "  <div id=\"df-b4b0b216-7daf-414a-8585-68c64c730d2e\" class=\"colab-df-container\">\n",
              "    <div>\n",
              "<style scoped>\n",
              "    .dataframe tbody tr th:only-of-type {\n",
              "        vertical-align: middle;\n",
              "    }\n",
              "\n",
              "    .dataframe tbody tr th {\n",
              "        vertical-align: top;\n",
              "    }\n",
              "\n",
              "    .dataframe thead th {\n",
              "        text-align: right;\n",
              "    }\n",
              "</style>\n",
              "<table border=\"1\" class=\"dataframe\">\n",
              "  <thead>\n",
              "    <tr style=\"text-align: right;\">\n",
              "      <th></th>\n",
              "      <th>Child participated in POLIO campaign August 2013</th>\n",
              "      <th>diarrhea_status</th>\n",
              "      <th>weight</th>\n",
              "      <th>height</th>\n",
              "      <th>residence</th>\n",
              "      <th>Sex</th>\n",
              "      <th>age</th>\n",
              "      <th>age_category</th>\n",
              "      <th>education</th>\n",
              "      <th>wealth_index</th>\n",
              "    </tr>\n",
              "  </thead>\n",
              "  <tbody>\n",
              "    <tr>\n",
              "      <th>0</th>\n",
              "      <td>1</td>\n",
              "      <td>No</td>\n",
              "      <td>16.2</td>\n",
              "      <td>102.4</td>\n",
              "      <td>Rural</td>\n",
              "      <td>Female</td>\n",
              "      <td>45</td>\n",
              "      <td>36-47</td>\n",
              "      <td>Secondary+</td>\n",
              "      <td>Richest</td>\n",
              "    </tr>\n",
              "    <tr>\n",
              "      <th>1</th>\n",
              "      <td>1</td>\n",
              "      <td>No</td>\n",
              "      <td>13.5</td>\n",
              "      <td>92.5</td>\n",
              "      <td>Rural</td>\n",
              "      <td>Male</td>\n",
              "      <td>45</td>\n",
              "      <td>36-47</td>\n",
              "      <td>Primary</td>\n",
              "      <td>Second</td>\n",
              "    </tr>\n",
              "    <tr>\n",
              "      <th>2</th>\n",
              "      <td>1</td>\n",
              "      <td>No</td>\n",
              "      <td>13.4</td>\n",
              "      <td>88.5</td>\n",
              "      <td>Rural</td>\n",
              "      <td>Male</td>\n",
              "      <td>36</td>\n",
              "      <td>36-47</td>\n",
              "      <td>Primary</td>\n",
              "      <td>Fourth</td>\n",
              "    </tr>\n",
              "    <tr>\n",
              "      <th>3</th>\n",
              "      <td>1</td>\n",
              "      <td>No</td>\n",
              "      <td>15.0</td>\n",
              "      <td>101.3</td>\n",
              "      <td>Rural</td>\n",
              "      <td>Female</td>\n",
              "      <td>51</td>\n",
              "      <td>48-59</td>\n",
              "      <td>Primary</td>\n",
              "      <td>Fourth</td>\n",
              "    </tr>\n",
              "    <tr>\n",
              "      <th>4</th>\n",
              "      <td>1</td>\n",
              "      <td>No</td>\n",
              "      <td>15.2</td>\n",
              "      <td>105.0</td>\n",
              "      <td>Rural</td>\n",
              "      <td>Female</td>\n",
              "      <td>56</td>\n",
              "      <td>48-59</td>\n",
              "      <td>Primary</td>\n",
              "      <td>Fourth</td>\n",
              "    </tr>\n",
              "  </tbody>\n",
              "</table>\n",
              "</div>\n",
              "    <div class=\"colab-df-buttons\">\n",
              "\n",
              "  <div class=\"colab-df-container\">\n",
              "    <button class=\"colab-df-convert\" onclick=\"convertToInteractive('df-b4b0b216-7daf-414a-8585-68c64c730d2e')\"\n",
              "            title=\"Convert this dataframe to an interactive table.\"\n",
              "            style=\"display:none;\">\n",
              "\n",
              "  <svg xmlns=\"http://www.w3.org/2000/svg\" height=\"24px\" viewBox=\"0 -960 960 960\">\n",
              "    <path d=\"M120-120v-720h720v720H120Zm60-500h600v-160H180v160Zm220 220h160v-160H400v160Zm0 220h160v-160H400v160ZM180-400h160v-160H180v160Zm440 0h160v-160H620v160ZM180-180h160v-160H180v160Zm440 0h160v-160H620v160Z\"/>\n",
              "  </svg>\n",
              "    </button>\n",
              "\n",
              "  <style>\n",
              "    .colab-df-container {\n",
              "      display:flex;\n",
              "      gap: 12px;\n",
              "    }\n",
              "\n",
              "    .colab-df-convert {\n",
              "      background-color: #E8F0FE;\n",
              "      border: none;\n",
              "      border-radius: 50%;\n",
              "      cursor: pointer;\n",
              "      display: none;\n",
              "      fill: #1967D2;\n",
              "      height: 32px;\n",
              "      padding: 0 0 0 0;\n",
              "      width: 32px;\n",
              "    }\n",
              "\n",
              "    .colab-df-convert:hover {\n",
              "      background-color: #E2EBFA;\n",
              "      box-shadow: 0px 1px 2px rgba(60, 64, 67, 0.3), 0px 1px 3px 1px rgba(60, 64, 67, 0.15);\n",
              "      fill: #174EA6;\n",
              "    }\n",
              "\n",
              "    .colab-df-buttons div {\n",
              "      margin-bottom: 4px;\n",
              "    }\n",
              "\n",
              "    [theme=dark] .colab-df-convert {\n",
              "      background-color: #3B4455;\n",
              "      fill: #D2E3FC;\n",
              "    }\n",
              "\n",
              "    [theme=dark] .colab-df-convert:hover {\n",
              "      background-color: #434B5C;\n",
              "      box-shadow: 0px 1px 3px 1px rgba(0, 0, 0, 0.15);\n",
              "      filter: drop-shadow(0px 1px 2px rgba(0, 0, 0, 0.3));\n",
              "      fill: #FFFFFF;\n",
              "    }\n",
              "  </style>\n",
              "\n",
              "    <script>\n",
              "      const buttonEl =\n",
              "        document.querySelector('#df-b4b0b216-7daf-414a-8585-68c64c730d2e button.colab-df-convert');\n",
              "      buttonEl.style.display =\n",
              "        google.colab.kernel.accessAllowed ? 'block' : 'none';\n",
              "\n",
              "      async function convertToInteractive(key) {\n",
              "        const element = document.querySelector('#df-b4b0b216-7daf-414a-8585-68c64c730d2e');\n",
              "        const dataTable =\n",
              "          await google.colab.kernel.invokeFunction('convertToInteractive',\n",
              "                                                    [key], {});\n",
              "        if (!dataTable) return;\n",
              "\n",
              "        const docLinkHtml = 'Like what you see? Visit the ' +\n",
              "          '<a target=\"_blank\" href=https://colab.research.google.com/notebooks/data_table.ipynb>data table notebook</a>'\n",
              "          + ' to learn more about interactive tables.';\n",
              "        element.innerHTML = '';\n",
              "        dataTable['output_type'] = 'display_data';\n",
              "        await google.colab.output.renderOutput(dataTable, element);\n",
              "        const docLink = document.createElement('div');\n",
              "        docLink.innerHTML = docLinkHtml;\n",
              "        element.appendChild(docLink);\n",
              "      }\n",
              "    </script>\n",
              "  </div>\n",
              "\n",
              "\n",
              "<div id=\"df-b8d62a85-3026-4f4a-bc3f-795fc1384607\">\n",
              "  <button class=\"colab-df-quickchart\" onclick=\"quickchart('df-b8d62a85-3026-4f4a-bc3f-795fc1384607')\"\n",
              "            title=\"Suggest charts\"\n",
              "            style=\"display:none;\">\n",
              "\n",
              "<svg xmlns=\"http://www.w3.org/2000/svg\" height=\"24px\"viewBox=\"0 0 24 24\"\n",
              "     width=\"24px\">\n",
              "    <g>\n",
              "        <path d=\"M19 3H5c-1.1 0-2 .9-2 2v14c0 1.1.9 2 2 2h14c1.1 0 2-.9 2-2V5c0-1.1-.9-2-2-2zM9 17H7v-7h2v7zm4 0h-2V7h2v10zm4 0h-2v-4h2v4z\"/>\n",
              "    </g>\n",
              "</svg>\n",
              "  </button>\n",
              "\n",
              "<style>\n",
              "  .colab-df-quickchart {\n",
              "      --bg-color: #E8F0FE;\n",
              "      --fill-color: #1967D2;\n",
              "      --hover-bg-color: #E2EBFA;\n",
              "      --hover-fill-color: #174EA6;\n",
              "      --disabled-fill-color: #AAA;\n",
              "      --disabled-bg-color: #DDD;\n",
              "  }\n",
              "\n",
              "  [theme=dark] .colab-df-quickchart {\n",
              "      --bg-color: #3B4455;\n",
              "      --fill-color: #D2E3FC;\n",
              "      --hover-bg-color: #434B5C;\n",
              "      --hover-fill-color: #FFFFFF;\n",
              "      --disabled-bg-color: #3B4455;\n",
              "      --disabled-fill-color: #666;\n",
              "  }\n",
              "\n",
              "  .colab-df-quickchart {\n",
              "    background-color: var(--bg-color);\n",
              "    border: none;\n",
              "    border-radius: 50%;\n",
              "    cursor: pointer;\n",
              "    display: none;\n",
              "    fill: var(--fill-color);\n",
              "    height: 32px;\n",
              "    padding: 0;\n",
              "    width: 32px;\n",
              "  }\n",
              "\n",
              "  .colab-df-quickchart:hover {\n",
              "    background-color: var(--hover-bg-color);\n",
              "    box-shadow: 0 1px 2px rgba(60, 64, 67, 0.3), 0 1px 3px 1px rgba(60, 64, 67, 0.15);\n",
              "    fill: var(--button-hover-fill-color);\n",
              "  }\n",
              "\n",
              "  .colab-df-quickchart-complete:disabled,\n",
              "  .colab-df-quickchart-complete:disabled:hover {\n",
              "    background-color: var(--disabled-bg-color);\n",
              "    fill: var(--disabled-fill-color);\n",
              "    box-shadow: none;\n",
              "  }\n",
              "\n",
              "  .colab-df-spinner {\n",
              "    border: 2px solid var(--fill-color);\n",
              "    border-color: transparent;\n",
              "    border-bottom-color: var(--fill-color);\n",
              "    animation:\n",
              "      spin 1s steps(1) infinite;\n",
              "  }\n",
              "\n",
              "  @keyframes spin {\n",
              "    0% {\n",
              "      border-color: transparent;\n",
              "      border-bottom-color: var(--fill-color);\n",
              "      border-left-color: var(--fill-color);\n",
              "    }\n",
              "    20% {\n",
              "      border-color: transparent;\n",
              "      border-left-color: var(--fill-color);\n",
              "      border-top-color: var(--fill-color);\n",
              "    }\n",
              "    30% {\n",
              "      border-color: transparent;\n",
              "      border-left-color: var(--fill-color);\n",
              "      border-top-color: var(--fill-color);\n",
              "      border-right-color: var(--fill-color);\n",
              "    }\n",
              "    40% {\n",
              "      border-color: transparent;\n",
              "      border-right-color: var(--fill-color);\n",
              "      border-top-color: var(--fill-color);\n",
              "    }\n",
              "    60% {\n",
              "      border-color: transparent;\n",
              "      border-right-color: var(--fill-color);\n",
              "    }\n",
              "    80% {\n",
              "      border-color: transparent;\n",
              "      border-right-color: var(--fill-color);\n",
              "      border-bottom-color: var(--fill-color);\n",
              "    }\n",
              "    90% {\n",
              "      border-color: transparent;\n",
              "      border-bottom-color: var(--fill-color);\n",
              "    }\n",
              "  }\n",
              "</style>\n",
              "\n",
              "  <script>\n",
              "    async function quickchart(key) {\n",
              "      const quickchartButtonEl =\n",
              "        document.querySelector('#' + key + ' button');\n",
              "      quickchartButtonEl.disabled = true;  // To prevent multiple clicks.\n",
              "      quickchartButtonEl.classList.add('colab-df-spinner');\n",
              "      try {\n",
              "        const charts = await google.colab.kernel.invokeFunction(\n",
              "            'suggestCharts', [key], {});\n",
              "      } catch (error) {\n",
              "        console.error('Error during call to suggestCharts:', error);\n",
              "      }\n",
              "      quickchartButtonEl.classList.remove('colab-df-spinner');\n",
              "      quickchartButtonEl.classList.add('colab-df-quickchart-complete');\n",
              "    }\n",
              "    (() => {\n",
              "      let quickchartButtonEl =\n",
              "        document.querySelector('#df-b8d62a85-3026-4f4a-bc3f-795fc1384607 button');\n",
              "      quickchartButtonEl.style.display =\n",
              "        google.colab.kernel.accessAllowed ? 'block' : 'none';\n",
              "    })();\n",
              "  </script>\n",
              "</div>\n",
              "\n",
              "    </div>\n",
              "  </div>\n"
            ],
            "application/vnd.google.colaboratory.intrinsic+json": {
              "type": "dataframe",
              "variable_name": "child",
              "summary": "{\n  \"name\": \"child\",\n  \"rows\": 799,\n  \"fields\": [\n    {\n      \"column\": \"Child participated in POLIO campaign August 2013\",\n      \"properties\": {\n        \"dtype\": \"number\",\n        \"std\": 0,\n        \"min\": 1,\n        \"max\": 9,\n        \"num_unique_values\": 4,\n        \"samples\": [\n          2,\n          9,\n          1\n        ],\n        \"semantic_type\": \"\",\n        \"description\": \"\"\n      }\n    },\n    {\n      \"column\": \" diarrhea_status\",\n      \"properties\": {\n        \"dtype\": \"category\",\n        \"num_unique_values\": 3,\n        \"samples\": [\n          \"No\",\n          \"Yes\",\n          \"DK\"\n        ],\n        \"semantic_type\": \"\",\n        \"description\": \"\"\n      }\n    },\n    {\n      \"column\": \"weight\",\n      \"properties\": {\n        \"dtype\": \"number\",\n        \"std\": 3.4087288270461737,\n        \"min\": 3.1,\n        \"max\": 25.0,\n        \"num_unique_values\": 154,\n        \"samples\": [\n          6.9,\n          9.7,\n          18.7\n        ],\n        \"semantic_type\": \"\",\n        \"description\": \"\"\n      }\n    },\n    {\n      \"column\": \"height\",\n      \"properties\": {\n        \"dtype\": \"number\",\n        \"std\": 13.795704117480783,\n        \"min\": 45.0,\n        \"max\": 124.8,\n        \"num_unique_values\": 396,\n        \"samples\": [\n          85.4,\n          68.7,\n          78.4\n        ],\n        \"semantic_type\": \"\",\n        \"description\": \"\"\n      }\n    },\n    {\n      \"column\": \"residence\",\n      \"properties\": {\n        \"dtype\": \"category\",\n        \"num_unique_values\": 2,\n        \"samples\": [\n          \"Urban\",\n          \"Rural\"\n        ],\n        \"semantic_type\": \"\",\n        \"description\": \"\"\n      }\n    },\n    {\n      \"column\": \"Sex\",\n      \"properties\": {\n        \"dtype\": \"category\",\n        \"num_unique_values\": 2,\n        \"samples\": [\n          \"Male\",\n          \"Female\"\n        ],\n        \"semantic_type\": \"\",\n        \"description\": \"\"\n      }\n    },\n    {\n      \"column\": \"age\",\n      \"properties\": {\n        \"dtype\": \"number\",\n        \"std\": 16,\n        \"min\": 0,\n        \"max\": 59,\n        \"num_unique_values\": 60,\n        \"samples\": [\n          45,\n          4\n        ],\n        \"semantic_type\": \"\",\n        \"description\": \"\"\n      }\n    },\n    {\n      \"column\": \"age_category\",\n      \"properties\": {\n        \"dtype\": \"category\",\n        \"num_unique_values\": 6,\n        \"samples\": [\n          \"36-47\",\n          \"48-59\"\n        ],\n        \"semantic_type\": \"\",\n        \"description\": \"\"\n      }\n    },\n    {\n      \"column\": \"education\",\n      \"properties\": {\n        \"dtype\": \"category\",\n        \"num_unique_values\": 2,\n        \"samples\": [\n          \"Primary\",\n          \"Secondary+\"\n        ],\n        \"semantic_type\": \"\",\n        \"description\": \"\"\n      }\n    },\n    {\n      \"column\": \"wealth_index\",\n      \"properties\": {\n        \"dtype\": \"category\",\n        \"num_unique_values\": 5,\n        \"samples\": [\n          \"Second\",\n          \"Middle\"\n        ],\n        \"semantic_type\": \"\",\n        \"description\": \"\"\n      }\n    }\n  ]\n}"
            }
          },
          "metadata": {},
          "execution_count": 58
        }
      ]
    },
    {
      "cell_type": "code",
      "source": [
        "child.info()"
      ],
      "metadata": {
        "colab": {
          "base_uri": "https://localhost:8080/"
        },
        "id": "nCDtsZfA7G39",
        "outputId": "b0b5fa93-b270-4918-8bbd-61fd6969d130"
      },
      "execution_count": 59,
      "outputs": [
        {
          "output_type": "stream",
          "name": "stdout",
          "text": [
            "<class 'pandas.core.frame.DataFrame'>\n",
            "RangeIndex: 799 entries, 0 to 798\n",
            "Data columns (total 10 columns):\n",
            " #   Column                                            Non-Null Count  Dtype  \n",
            "---  ------                                            --------------  -----  \n",
            " 0   Child participated in POLIO campaign August 2013  799 non-null    int64  \n",
            " 1    diarrhea_status                                  799 non-null    object \n",
            " 2   weight                                            799 non-null    float64\n",
            " 3   height                                            799 non-null    float64\n",
            " 4   residence                                         799 non-null    object \n",
            " 5   Sex                                               799 non-null    object \n",
            " 6   age                                               799 non-null    int64  \n",
            " 7   age_category                                      799 non-null    object \n",
            " 8   education                                         768 non-null    object \n",
            " 9   wealth_index                                      799 non-null    object \n",
            "dtypes: float64(2), int64(2), object(6)\n",
            "memory usage: 62.5+ KB\n"
          ]
        }
      ]
    },
    {
      "cell_type": "code",
      "source": [
        "# Calculate mean weight\n",
        "mean_weight = child['weight'].mean()\n",
        "print(mean_weight)\n"
      ],
      "metadata": {
        "colab": {
          "base_uri": "https://localhost:8080/"
        },
        "id": "mGuzPciE7Q5F",
        "outputId": "c903528d-e27b-4488-ebf3-c1c19fc83ad2"
      },
      "execution_count": 60,
      "outputs": [
        {
          "output_type": "stream",
          "name": "stdout",
          "text": [
            "11.591113892365458\n"
          ]
        }
      ]
    },
    {
      "cell_type": "code",
      "source": [
        "# Round off to the nearest whole number\n",
        "cig = [0, 0, 0, 2, 0, 0, 0, 3, 30, 2, 1, 0, 2, 3, 4]\n",
        "mean_cig = round(np.mean(cig))\n",
        "print(mean_cig)"
      ],
      "metadata": {
        "colab": {
          "base_uri": "https://localhost:8080/"
        },
        "id": "OiustRyF7qgM",
        "outputId": "0da02280-f066-486a-dd49-ef2cf3fd6d02"
      },
      "execution_count": 61,
      "outputs": [
        {
          "output_type": "stream",
          "name": "stdout",
          "text": [
            "3\n"
          ]
        }
      ]
    },
    {
      "cell_type": "markdown",
      "source": [
        "Activity 5:\n",
        "\n",
        "Compute the quartiles and the 10th and 80th percentiles of the heights for the children under five years of age in Bungoma County.\n",
        "\n",
        "Interpret the results."
      ],
      "metadata": {
        "id": "k8LMUGnXFa9e"
      }
    },
    {
      "cell_type": "markdown",
      "source": [
        "(i) the quartiles"
      ],
      "metadata": {
        "id": "3Q__LsEpGSfN"
      }
    },
    {
      "cell_type": "code",
      "source": [
        "#calculate quartiles of age of children\n",
        "quantiles_25_75 = child['height'].quantile([0.25, 0.75])\n",
        "print(quantiles_25_75)"
      ],
      "metadata": {
        "id": "EdR6mwhgGL5k",
        "colab": {
          "base_uri": "https://localhost:8080/"
        },
        "outputId": "cb4bab45-bb44-4976-ec20-87f35632bb29"
      },
      "execution_count": 62,
      "outputs": [
        {
          "output_type": "stream",
          "name": "stdout",
          "text": [
            "0.25    74.00\n",
            "0.75    93.85\n",
            "Name: height, dtype: float64\n"
          ]
        }
      ]
    },
    {
      "cell_type": "markdown",
      "source": [
        "(ii) the 10th and 80th percentiles"
      ],
      "metadata": {
        "id": "u9lQZ9TXGW-q"
      }
    },
    {
      "cell_type": "code",
      "source": [
        "# Calculate custom quantiles\n",
        "quantiles_10_80 = child['height'].quantile([0.25, 0.50, 0.75])\n",
        "print(quantiles_10_80)"
      ],
      "metadata": {
        "id": "DPa1LdbmGdS2",
        "colab": {
          "base_uri": "https://localhost:8080/"
        },
        "outputId": "78c2bd71-beef-4d5e-c893-69eba2d05517"
      },
      "execution_count": 63,
      "outputs": [
        {
          "output_type": "stream",
          "name": "stdout",
          "text": [
            "0.25    74.00\n",
            "0.50    84.90\n",
            "0.75    93.85\n",
            "Name: height, dtype: float64\n"
          ]
        }
      ]
    },
    {
      "cell_type": "markdown",
      "source": [
        "Activity 6:\n",
        "\n",
        "Compute the range, inter quartile range  and the standard deviation of the heights for the children under five years of age in Bungoma County.\n",
        "\n",
        "Interpret the results"
      ],
      "metadata": {
        "id": "38H0tbfsGqcx"
      }
    },
    {
      "cell_type": "markdown",
      "source": [
        "(i) the range"
      ],
      "metadata": {
        "id": "1xk3gm-zHLH7"
      }
    },
    {
      "cell_type": "code",
      "source": [
        "# Calculate range\n",
        "height_range = child['height'].max() - child['height'].min()\n",
        "print(height_range)"
      ],
      "metadata": {
        "id": "XD1BEp2oHJnn",
        "colab": {
          "base_uri": "https://localhost:8080/"
        },
        "outputId": "7e2baf38-da45-4458-b1d2-34ba7b194871"
      },
      "execution_count": 64,
      "outputs": [
        {
          "output_type": "stream",
          "name": "stdout",
          "text": [
            "79.8\n"
          ]
        }
      ]
    },
    {
      "cell_type": "markdown",
      "source": [
        "(ii) the inter quartile range"
      ],
      "metadata": {
        "id": "nf9aKaOYHY6x"
      }
    },
    {
      "cell_type": "code",
      "source": [
        "# Calculate interquartile range (IQR)\n",
        "iqr = child['height'].quantile(0.75) - child['height'].quantile(0.25)\n",
        "print(\"upper bound: \", child['height'].quantile(0.80))\n",
        "print(\"lower bound: \", child['height'].quantile(0.25))\n",
        "print(iqr)"
      ],
      "metadata": {
        "id": "fPCBSYjqHibp",
        "colab": {
          "base_uri": "https://localhost:8080/"
        },
        "outputId": "80adf2b3-0de5-41af-9547-c2a5826e6e3b"
      },
      "execution_count": 65,
      "outputs": [
        {
          "output_type": "stream",
          "name": "stdout",
          "text": [
            "upper bound:  95.76000000000003\n",
            "lower bound:  74.0\n",
            "19.849999999999994\n"
          ]
        }
      ]
    },
    {
      "cell_type": "markdown",
      "source": [
        "(iii) the standard deviation"
      ],
      "metadata": {
        "id": "08kA_s20HxxK"
      }
    },
    {
      "cell_type": "code",
      "source": [
        "# Calculate standard deviation of age of children\n",
        "std_deviation_height = child['height'].std()\n",
        "print(std_deviation_height)"
      ],
      "metadata": {
        "id": "fSZ6deIkH1w2",
        "colab": {
          "base_uri": "https://localhost:8080/"
        },
        "outputId": "b46085bb-d45a-482c-d0ce-3c99c6f2a4b1"
      },
      "execution_count": 66,
      "outputs": [
        {
          "output_type": "stream",
          "name": "stdout",
          "text": [
            "13.795704117480783\n"
          ]
        }
      ]
    },
    {
      "cell_type": "code",
      "source": [
        "# Calculate variance and standard deviation manually\n",
        "b = np.array(m) - np.mean(m) # difference between each value and mean\n",
        "b_squared = b ** 2 # square of each difference\n",
        "variance = np.sum(b_squared) / (len(m) - 1) # average of the squared differences\n",
        "std_deviation = np.sqrt(variance) # the standard deviation\n",
        "print(variance)\n",
        "print(std_deviation)"
      ],
      "metadata": {
        "colab": {
          "base_uri": "https://localhost:8080/"
        },
        "id": "DH1raWC3PIDy",
        "outputId": "99186d42-d3ce-4f3a-8d4a-f5db38ad4bf2"
      },
      "execution_count": 67,
      "outputs": [
        {
          "output_type": "stream",
          "name": "stdout",
          "text": [
            "1016.9924242424241\n",
            "31.890318660095325\n"
          ]
        }
      ]
    },
    {
      "cell_type": "code",
      "source": [
        "# Calculate variance and standard deviation using functions\n",
        "variance_func = np.var(m, ddof=1) # unbiased estimator, hence ddof=1\n",
        "std_deviation_func = np.std(m, ddof=1)\n",
        "print(variance_func)\n",
        "print(std_deviation_func)"
      ],
      "metadata": {
        "colab": {
          "base_uri": "https://localhost:8080/"
        },
        "id": "2j5qVWwiPT9B",
        "outputId": "584801b8-3f8d-44f9-9f1e-dfbe65afb1b9"
      },
      "execution_count": 68,
      "outputs": [
        {
          "output_type": "stream",
          "name": "stdout",
          "text": [
            "1016.9924242424241\n",
            "31.890318660095325\n"
          ]
        }
      ]
    },
    {
      "cell_type": "code",
      "source": [
        "# Summary statistics of weight\n",
        "summary_weight = child['weight'].describe()\n",
        "print(summary_weight)"
      ],
      "metadata": {
        "colab": {
          "base_uri": "https://localhost:8080/"
        },
        "id": "VSZ5NcNcPa4q",
        "outputId": "9610ebec-e048-42d3-892e-d59ca3700a43"
      },
      "execution_count": 69,
      "outputs": [
        {
          "output_type": "stream",
          "name": "stdout",
          "text": [
            "count    799.000000\n",
            "mean      11.591114\n",
            "std        3.408729\n",
            "min        3.100000\n",
            "25%        9.200000\n",
            "50%       11.700000\n",
            "75%       14.100000\n",
            "max       25.000000\n",
            "Name: weight, dtype: float64\n"
          ]
        }
      ]
    },
    {
      "cell_type": "code",
      "source": [
        "# Calculate standard deviation cholesterol level\n",
        "std_deviation_cholesterol = np.std(m) # Use np.std to calculate standard deviation\n",
        "print(std_deviation_cholesterol)"
      ],
      "metadata": {
        "colab": {
          "base_uri": "https://localhost:8080/"
        },
        "id": "M13QNLfAQj7h",
        "outputId": "7fe13065-7cde-4ce9-db6a-e78064abfbbe"
      },
      "execution_count": 52,
      "outputs": [
        {
          "output_type": "stream",
          "name": "stdout",
          "text": [
            "30.53265556016305\n"
          ]
        }
      ]
    },
    {
      "cell_type": "markdown",
      "source": [
        "Activity 7:\n",
        "\n",
        "Compute the measure of skewness for the height of the children under five years of age in Bungoma county.\n",
        "\n",
        "Describe the heights using the shape of the distribution\n",
        "\n",
        "Which measure of central tendency and measure of dispersion are to be reported in this case?\n"
      ],
      "metadata": {
        "id": "IUYZJZ9BIA8h"
      }
    },
    {
      "cell_type": "markdown",
      "source": [
        "(i) measure of skewness"
      ],
      "metadata": {
        "id": "2mKwcqmgKY5S"
      }
    },
    {
      "cell_type": "code",
      "source": [
        "#to calculate measure of skewness\n",
        "from scipy.stats import skew\n",
        "skewness_height = skew(child['height'])\n",
        "print(skewness_height)"
      ],
      "metadata": {
        "id": "OVPZmsT-KQqO",
        "colab": {
          "base_uri": "https://localhost:8080/"
        },
        "outputId": "7a36570a-a990-4e34-d68d-dbdb33604ee1"
      },
      "execution_count": 70,
      "outputs": [
        {
          "output_type": "stream",
          "name": "stdout",
          "text": [
            "-0.2416210650692944\n"
          ]
        }
      ]
    },
    {
      "cell_type": "markdown",
      "source": [
        "(iii)measure of central tendency and accompanying measure of dispersion to report"
      ],
      "metadata": {
        "id": "CGQvCLtcKdTl"
      }
    },
    {
      "cell_type": "code",
      "source": [
        "# calculate skewness and decide which measure of central tendency to report\n",
        "skew_ht = skew(child['height'])\n",
        "ht_measure = \"Mean\" if abs(skew_ht) <= 0.5 else \"Median\"\n",
        "print(ht_measure)"
      ],
      "metadata": {
        "id": "W4ghKblxKpMi",
        "colab": {
          "base_uri": "https://localhost:8080/"
        },
        "outputId": "e8424324-885a-46d4-98d6-6e5694a91fe7"
      },
      "execution_count": 71,
      "outputs": [
        {
          "output_type": "stream",
          "name": "stdout",
          "text": [
            "Mean\n"
          ]
        }
      ]
    },
    {
      "cell_type": "markdown",
      "source": [
        "Depending on result above:"
      ],
      "metadata": {
        "id": "dlyyqSeULJfQ"
      }
    },
    {
      "cell_type": "code",
      "source": [
        "#if mean, then\n",
        "# Calculate mean and standard deviation of height\n",
        "mean_weight = child['height'].mean()\n",
        "std_deviation_weight = child['height'].std()\n",
        "print(mean_height)\n",
        "print(std_deviation_height)"
      ],
      "metadata": {
        "id": "rokqZvyELSXJ",
        "colab": {
          "base_uri": "https://localhost:8080/"
        },
        "outputId": "026812bc-584b-4231-eb71-84f0fa8c35bb"
      },
      "execution_count": 72,
      "outputs": [
        {
          "output_type": "stream",
          "name": "stdout",
          "text": [
            "83.85857321652065\n",
            "13.795704117480783\n"
          ]
        }
      ]
    },
    {
      "cell_type": "code",
      "source": [
        "#if median,then\n",
        "#calculate median and inter quartile range of height\n",
        "median_height = child['height'].median()\n",
        "iqr_height = child['height'].quantile(0.75) - child['height'].quantile(0.25)\n",
        "print(median_height)\n",
        "print(iqr_height)"
      ],
      "metadata": {
        "id": "FeQYMPZNLd3C",
        "colab": {
          "base_uri": "https://localhost:8080/"
        },
        "outputId": "0d403d48-0dd2-403a-dc32-34d06fcd5e86"
      },
      "execution_count": 73,
      "outputs": [
        {
          "output_type": "stream",
          "name": "stdout",
          "text": [
            "84.9\n",
            "19.849999999999994\n"
          ]
        }
      ]
    },
    {
      "cell_type": "code",
      "source": [
        "# Install moments package (if needed) and calculate skewness\n",
        "from scipy.stats import skew\n",
        "skewness_weight = skew(child['weight'])\n",
        "print(skewness_weight)"
      ],
      "metadata": {
        "colab": {
          "base_uri": "https://localhost:8080/"
        },
        "id": "-drm3ZefVBfB",
        "outputId": "b54208d9-8cbc-468d-d05d-f4e84e4d75a0"
      },
      "execution_count": 74,
      "outputs": [
        {
          "output_type": "stream",
          "name": "stdout",
          "text": [
            "-0.09040012558770584\n"
          ]
        }
      ]
    },
    {
      "cell_type": "code",
      "source": [
        "# Determine measure to report based on skewness\n",
        "skew_wt = skew(child['weight'])\n",
        "wt_measure = \"Mean\" if abs(skew_wt) <= 0.5 else \"Median\"\n",
        "print(wt_measure)"
      ],
      "metadata": {
        "colab": {
          "base_uri": "https://localhost:8080/"
        },
        "id": "N8BzQW8FVMZa",
        "outputId": "cd56f14a-880a-475e-fb7f-d758b4f6928a"
      },
      "execution_count": 54,
      "outputs": [
        {
          "output_type": "stream",
          "name": "stdout",
          "text": [
            "Mean\n"
          ]
        }
      ]
    },
    {
      "cell_type": "code",
      "source": [
        "# Calculate mean and standard deviation of weight\n",
        "mean_weight = child['weight'].mean()\n",
        "std_deviation_weight = child['weight'].std()\n",
        "print(mean_weight)\n",
        "print(std_deviation_weight)"
      ],
      "metadata": {
        "colab": {
          "base_uri": "https://localhost:8080/"
        },
        "id": "Oervmwl-VVdZ",
        "outputId": "58f2539c-93bc-4049-a00f-fa4b89216c3f"
      },
      "execution_count": 55,
      "outputs": [
        {
          "output_type": "stream",
          "name": "stdout",
          "text": [
            "11.591113892365458\n",
            "3.4087288270461737\n"
          ]
        }
      ]
    }
  ]
}