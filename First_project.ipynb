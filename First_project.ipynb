{
  "nbformat": 4,
  "nbformat_minor": 0,
  "metadata": {
    "colab": {
      "provenance": [],
      "authorship_tag": "ABX9TyNtUDsQWlJxzmbgacfCCBud",
      "include_colab_link": true
    },
    "kernelspec": {
      "name": "python3",
      "display_name": "Python 3"
    },
    "language_info": {
      "name": "python"
    }
  },
  "cells": [
    {
      "cell_type": "markdown",
      "metadata": {
        "id": "view-in-github",
        "colab_type": "text"
      },
      "source": [
        "<a href=\"https://colab.research.google.com/github/Joanmei/Engage-Project/blob/main/First_project.ipynb\" target=\"_parent\"><img src=\"https://colab.research.google.com/assets/colab-badge.svg\" alt=\"Open In Colab\"/></a>"
      ]
    },
    {
      "cell_type": "code",
      "execution_count": 4,
      "metadata": {
        "colab": {
          "base_uri": "https://localhost:8080/"
        },
        "id": "BW_kmgDMFQPX",
        "outputId": "c19c579b-d613-43ad-bef9-97640f8a40a5"
      },
      "outputs": [
        {
          "output_type": "stream",
          "name": "stdout",
          "text": [
            "Hello World\n"
          ]
        }
      ],
      "source": [
        "print (\"Hello World\")"
      ]
    },
    {
      "cell_type": "markdown",
      "source": [
        "Hello world am learning data science"
      ],
      "metadata": {
        "id": "ANWE_2uaIYQu"
      }
    },
    {
      "cell_type": "code",
      "source": [
        "(34+56+38+45+90+40+31)/8"
      ],
      "metadata": {
        "id": "JxoIDlGZftVj",
        "colab": {
          "base_uri": "https://localhost:8080/"
        },
        "outputId": "cc4d2a99-ad7b-4491-980a-5b636c1c082c"
      },
      "execution_count": 3,
      "outputs": [
        {
          "output_type": "execute_result",
          "data": {
            "text/plain": [
              "41.75"
            ]
          },
          "metadata": {},
          "execution_count": 3
        }
      ]
    },
    {
      "cell_type": "code",
      "source": [
        "print('hello world')"
      ],
      "metadata": {
        "colab": {
          "base_uri": "https://localhost:8080/"
        },
        "id": "5Uv15zikhH8Y",
        "outputId": "7648071a-873f-4510-aea1-86aa5812b83b"
      },
      "execution_count": 5,
      "outputs": [
        {
          "output_type": "stream",
          "name": "stdout",
          "text": [
            "hello world\n"
          ]
        }
      ]
    },
    {
      "cell_type": "code",
      "source": [
        "(4+4)"
      ],
      "metadata": {
        "id": "1MqM5uibf8W-",
        "colab": {
          "base_uri": "https://localhost:8080/"
        },
        "outputId": "51177b7d-a4b0-4034-95cb-3aff17f6635b"
      },
      "execution_count": 6,
      "outputs": [
        {
          "output_type": "execute_result",
          "data": {
            "text/plain": [
              "8"
            ]
          },
          "metadata": {},
          "execution_count": 6
        }
      ]
    },
    {
      "cell_type": "code",
      "source": [
        "(40/4)"
      ],
      "metadata": {
        "colab": {
          "base_uri": "https://localhost:8080/"
        },
        "id": "Ta39bsavgSOM",
        "outputId": "c401a419-7c69-4ca0-9f68-023bf0206faf"
      },
      "execution_count": 7,
      "outputs": [
        {
          "output_type": "execute_result",
          "data": {
            "text/plain": [
              "10.0"
            ]
          },
          "metadata": {},
          "execution_count": 7
        }
      ]
    },
    {
      "cell_type": "code",
      "source": [
        "print('dear mum am learning python')"
      ],
      "metadata": {
        "colab": {
          "base_uri": "https://localhost:8080/"
        },
        "id": "RxQHbkB5hU-1",
        "outputId": "c880cbb0-e378-4143-b80d-4d45d6f2b5db"
      },
      "execution_count": 8,
      "outputs": [
        {
          "output_type": "stream",
          "name": "stdout",
          "text": [
            "dear mum am learning python\n"
          ]
        }
      ]
    },
    {
      "cell_type": "code",
      "source": [
        "print('hello world\\nam here in dekut\\nlearning data science\\nfor public health')"
      ],
      "metadata": {
        "colab": {
          "base_uri": "https://localhost:8080/"
        },
        "id": "pmja-YushhiV",
        "outputId": "e96a0367-4557-4d88-c818-e8d680912a98"
      },
      "execution_count": 9,
      "outputs": [
        {
          "output_type": "stream",
          "name": "stdout",
          "text": [
            "hello world\n",
            "am here in dekut\n",
            "learning data science\n",
            "for public health\n"
          ]
        }
      ]
    },
    {
      "cell_type": "code",
      "source": [
        "age=18\n",
        "name='mary'\n",
        "print(name)\n",
        "print(age)"
      ],
      "metadata": {
        "colab": {
          "base_uri": "https://localhost:8080/"
        },
        "id": "zr5CyuoJlIZN",
        "outputId": "207d626e-ece3-4818-f2b6-c777c85f2019"
      },
      "execution_count": 10,
      "outputs": [
        {
          "output_type": "stream",
          "name": "stdout",
          "text": [
            "mary\n",
            "18\n"
          ]
        }
      ]
    },
    {
      "cell_type": "code",
      "source": [
        "one=500\n",
        "two=200\n",
        "three=one + two\n",
        "print(three)"
      ],
      "metadata": {
        "colab": {
          "base_uri": "https://localhost:8080/"
        },
        "id": "K3iVNKddmCtu",
        "outputId": "1b550bee-c486-453e-b97f-f33824eecc1d"
      },
      "execution_count": 1,
      "outputs": [
        {
          "output_type": "stream",
          "name": "stdout",
          "text": [
            "700\n"
          ]
        }
      ]
    },
    {
      "cell_type": "code",
      "source": [
        "_numbers = 1\n",
        "_age = 10\n",
        "# If you want to print the word \"average\"\n",
        "print(\"average\")\n",
        "\n",
        "# If you have a list of numbers and want to calculate the average, use:\n",
        "import numpy as np\n",
        "numbers_list = [1, 2, 3, 4, 5]\n",
        "average = np.mean(numbers_list)\n",
        "print(average)\n",
        "\n",
        "print(_numbers)\n",
        "print(_age)"
      ],
      "metadata": {
        "colab": {
          "base_uri": "https://localhost:8080/"
        },
        "id": "-3QEm712njNU",
        "outputId": "af09ae58-33b8-418b-8d47-a8038025150b"
      },
      "execution_count": 12,
      "outputs": [
        {
          "output_type": "stream",
          "name": "stdout",
          "text": [
            "average\n",
            "3.0\n",
            "1\n",
            "10\n"
          ]
        }
      ]
    },
    {
      "cell_type": "code",
      "source": [
        "i=2\n",
        "a=40\n",
        "c=i+a\n",
        "d=c/2\n",
        "e=d*2\n",
        "print(e)"
      ],
      "metadata": {
        "colab": {
          "base_uri": "https://localhost:8080/"
        },
        "id": "GuP5UR4BocHN",
        "outputId": "c90d2052-05eb-4940-d833-2819beac06bc"
      },
      "execution_count": 13,
      "outputs": [
        {
          "output_type": "stream",
          "name": "stdout",
          "text": [
            "42.0\n"
          ]
        }
      ]
    },
    {
      "cell_type": "code",
      "source": [
        "a=60\n",
        "b=90\n",
        "c=b<a\n",
        "d=b>a\n",
        "print(c)\n",
        "print(d)"
      ],
      "metadata": {
        "colab": {
          "base_uri": "https://localhost:8080/"
        },
        "id": "6xYkIVfjpwBN",
        "outputId": "0f5a7946-2651-4e74-8e9b-4d9c10a5a3ed"
      },
      "execution_count": 14,
      "outputs": [
        {
          "output_type": "stream",
          "name": "stdout",
          "text": [
            "False\n",
            "True\n"
          ]
        }
      ]
    },
    {
      "cell_type": "code",
      "source": [
        "b=12/3\n",
        "c=10%3\n",
        "print(b)\n",
        "print(c)"
      ],
      "metadata": {
        "colab": {
          "base_uri": "https://localhost:8080/"
        },
        "id": "dS6qmtwFrxjU",
        "outputId": "93cfc65a-dd82-4912-f2e7-1bec66a14812"
      },
      "execution_count": 15,
      "outputs": [
        {
          "output_type": "stream",
          "name": "stdout",
          "text": [
            "4.0\n",
            "1\n"
          ]
        }
      ]
    },
    {
      "cell_type": "code",
      "source": [
        "c=2**3\n",
        "print(c)"
      ],
      "metadata": {
        "colab": {
          "base_uri": "https://localhost:8080/"
        },
        "id": "BazZazLnsR9L",
        "outputId": "37e121c1-a875-4b16-81f5-c10fa754e61c"
      },
      "execution_count": 16,
      "outputs": [
        {
          "output_type": "stream",
          "name": "stdout",
          "text": [
            "8\n"
          ]
        }
      ]
    },
    {
      "cell_type": "code",
      "source": [
        "l=10\n",
        "w=2\n",
        "area=l*w\n",
        "perimeter=(l+w)*2\n",
        "print(perimeter)\n",
        "print(area)"
      ],
      "metadata": {
        "colab": {
          "base_uri": "https://localhost:8080/"
        },
        "id": "hg5f86DYul1d",
        "outputId": "61a2274a-a3b9-4104-8c83-bbbc914f1c31"
      },
      "execution_count": 17,
      "outputs": [
        {
          "output_type": "stream",
          "name": "stdout",
          "text": [
            "24\n",
            "20\n"
          ]
        }
      ]
    },
    {
      "cell_type": "code",
      "source": [
        "a=40\n",
        "even=a/2\n",
        "odd=a/2\n",
        "print(even)\n",
        "print(odd)"
      ],
      "metadata": {
        "colab": {
          "base_uri": "https://localhost:8080/"
        },
        "id": "8nxWAFIpv5iE",
        "outputId": "78bac429-2568-47b5-85d8-343beb2751ed"
      },
      "execution_count": 18,
      "outputs": [
        {
          "output_type": "stream",
          "name": "stdout",
          "text": [
            "20.0\n",
            "20.0\n"
          ]
        }
      ]
    }
  ]
}