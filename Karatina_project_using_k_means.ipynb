{
  "nbformat": 4,
  "nbformat_minor": 0,
  "metadata": {
    "colab": {
      "provenance": [],
      "authorship_tag": "ABX9TyOxtjPTR7C6YFypMqJFuW1C",
      "include_colab_link": true
    },
    "kernelspec": {
      "name": "python3",
      "display_name": "Python 3"
    },
    "language_info": {
      "name": "python"
    }
  },
  "cells": [
    {
      "cell_type": "markdown",
      "metadata": {
        "id": "view-in-github",
        "colab_type": "text"
      },
      "source": [
        "<a href=\"https://colab.research.google.com/github/Joanmei/Engage-Project/blob/main/Karatina_project_using_k_means.ipynb\" target=\"_parent\"><img src=\"https://colab.research.google.com/assets/colab-badge.svg\" alt=\"Open In Colab\"/></a>"
      ]
    },
    {
      "cell_type": "code",
      "execution_count": 1,
      "metadata": {
        "id": "ZTgAP-ootvMU"
      },
      "outputs": [],
      "source": [
        "import pandas as pd\n",
        "import numpy as np"
      ]
    },
    {
      "cell_type": "code",
      "source": [
        "from google.colab import drive\n",
        "drive.mount('/content/drive')"
      ],
      "metadata": {
        "colab": {
          "base_uri": "https://localhost:8080/"
        },
        "id": "rKiTtd4i3trb",
        "outputId": "d9f86c36-170d-4bf2-a2ee-13ac9898d3ff"
      },
      "execution_count": 2,
      "outputs": [
        {
          "output_type": "stream",
          "name": "stdout",
          "text": [
            "Mounted at /content/drive\n"
          ]
        }
      ]
    },
    {
      "cell_type": "code",
      "source": [
        "# Load the dataset\n",
        "df = pd.read_excel('/content/drive/MyDrive/Karatina Project/CLIENTS LIST.xlsx')\n",
        "# View the first few rows of the DataFrame\n",
        "print(df.head())"
      ],
      "metadata": {
        "id": "bSYhZjsr357i",
        "colab": {
          "base_uri": "https://localhost:8080/"
        },
        "outputId": "44ce6af0-0f2b-41dd-92f1-3c7406d8451f"
      },
      "execution_count": 3,
      "outputs": [
        {
          "output_type": "stream",
          "name": "stdout",
          "text": [
            "   Weight  Height  ht in MTRS        BMI Blood Pressure  Age at Reporting Sex  \\\n",
            "0    64.0   165.0       1.650  23.507805         118/73                51   F   \n",
            "1    56.4   168.8       1.688  19.794030         133/82                54   M   \n",
            "2    73.0   160.0       1.600  28.515625         104/57                54   F   \n",
            "3    62.0   161.0       1.610  23.918830         108/68                45   F   \n",
            "4    90.0   175.0       1.750  29.387755         126/88                34   F   \n",
            "\n",
            "          Popolation Type Date confirmed HIV Positive Date enrolled in HIV  \\\n",
            "0  General Population\\n\\n                  2014-06-10  2014-08-04 00:00:00   \n",
            "1  General Population\\n\\n                  2012-09-04  2014-03-24 00:00:00   \n",
            "2  General Population\\n\\n                  2013-07-11  2013-07-11 00:00:00   \n",
            "3  General Population\\n\\n                  2014-04-21  2014-04-21 00:00:00   \n",
            "4  General Population\\n\\n                  2013-07-16  2013-07-16 00:00:00   \n",
            "\n",
            "   ... TPT Outcome Date Establishment Differentiated Care Model  \\\n",
            "0  ...       2015-09-16   Established                Fast Track   \n",
            "1  ...       2016-04-11   Established                Fast Track   \n",
            "2  ...       2016-01-06   Established                Fast Track   \n",
            "3  ...       2016-09-06   Established             Standard Care   \n",
            "4  ...       2017-09-29   Established                Fast Track   \n",
            "\n",
            "  Last Visit Date Self Visit Date Next Appointment Date  \\\n",
            "0      2024-07-25      2024-07-25            2025-01-23   \n",
            "1      2024-07-23      2024-07-23            2025-01-21   \n",
            "2      2024-08-30      2024-08-30            2025-02-27   \n",
            "3      2024-08-05      2024-08-05            2024-11-04   \n",
            "4      2024-05-02      2024-05-02            2024-10-31   \n",
            "\n",
            "   Months Of Prescription Refill Date  AHD Client Medical Cover  \n",
            "0                       5  2024-10-30          No           NaN  \n",
            "1                       5  2024-10-24          No           NaN  \n",
            "2                       5  2024-11-28         Yes           NaN  \n",
            "3                       2  2024-01-31          No           NaN  \n",
            "4                       5  2024-08-01          No           NaN  \n",
            "\n",
            "[5 rows x 38 columns]\n"
          ]
        }
      ]
    },
    {
      "cell_type": "code",
      "source": [
        "# Check for missing values\n",
        "print(df.isna().sum())"
      ],
      "metadata": {
        "colab": {
          "base_uri": "https://localhost:8080/"
        },
        "id": "wqPuSZC69vus",
        "outputId": "1eef7a2a-8423-4d11-e286-520c3db883c1"
      },
      "execution_count": 4,
      "outputs": [
        {
          "output_type": "stream",
          "name": "stdout",
          "text": [
            "Weight                            0\n",
            "Height                            0\n",
            "ht in MTRS                        0\n",
            "BMI                               0\n",
            "Blood Pressure                   34\n",
            "Age at Reporting                  0\n",
            "Sex                               0\n",
            "Popolation Type                   0\n",
            "Date confirmed HIV Positive       0\n",
            "Date enrolled in HIV              0\n",
            "ART Start Date                    0\n",
            "First Regimen                     0\n",
            "Current Regimen                   0\n",
            "Baseline CD4 result             644\n",
            "Baseline CD4 date               644\n",
            "Current Regimen Line              0\n",
            "Last WHO Stage                    0\n",
            "Last WHO Stage Date               0\n",
            "Last VL                          24\n",
            "Last VL Validity                 24\n",
            "Last VL Justification            37\n",
            "Last VL Date                     24\n",
            "Active in PMTCT                   0\n",
            "Active in OVC                     0\n",
            "Active in OTZ                     0\n",
            "Active in TB                      0\n",
            "TPT Start Date                   58\n",
            "TPT Outcome                      83\n",
            "TPT Outcome Date                 82\n",
            "Establishment                     1\n",
            "Differentiated Care Model         1\n",
            "Last Visit Date                   0\n",
            "Self Visit Date                   0\n",
            "Next Appointment Date             0\n",
            "Months Of Prescription            0\n",
            "Refill Date                     545\n",
            "AHD Client                        0\n",
            "Medical Cover                  2074\n",
            "dtype: int64\n"
          ]
        }
      ]
    },
    {
      "cell_type": "code",
      "source": [
        "# Drop columns with too many missing values\n",
        "df = df.drop(columns=['Medical Cover'])\n",
        "# Fill missing values for numeric columns with median (for example: 'Blood Pressure', 'Last VL')\n",
        "\n",
        "# Split the 'Blood Pressure' column into systolic and diastolic\n",
        "df[['Systolic', 'Diastolic']] = df['Blood Pressure'].str.split('/', expand=True).astype(float)\n",
        "\n",
        "# Calculate the median for Systolic and Diastolic separately\n",
        "df['Systolic'].fillna(df['Systolic'].median(), inplace=True)\n",
        "df['Diastolic'].fillna(df['Diastolic'].median(), inplace=True)\n",
        "\n",
        "# Combine the Systolic and Diastolic columns back to 'Blood Pressure' in the desired format\n",
        "df['Blood Pressure'] = df['Systolic'].astype(str) + '/' + df['Diastolic'].astype(str)\n",
        "\n",
        "df['Last VL'].fillna(df['Last VL'].median(), inplace=True)"
      ],
      "metadata": {
        "id": "vUsNFR-3GjmO"
      },
      "execution_count": 5,
      "outputs": []
    },
    {
      "cell_type": "code",
      "source": [
        "# Fill missing values for date columns using forward fill or backward fill\n",
        "df['Baseline CD4 date'].fillna(method='ffill', inplace=True)\n",
        "df['TPT Outcome Date'].fillna(method='bfill', inplace=True)"
      ],
      "metadata": {
        "colab": {
          "base_uri": "https://localhost:8080/"
        },
        "id": "v2ToIhV6HAM1",
        "outputId": "5087576e-cf11-4c1a-8454-f826e5589f3a"
      },
      "execution_count": 6,
      "outputs": [
        {
          "output_type": "stream",
          "name": "stderr",
          "text": [
            "<ipython-input-6-c840372d844e>:2: FutureWarning: Series.fillna with 'method' is deprecated and will raise in a future version. Use obj.ffill() or obj.bfill() instead.\n",
            "  df['Baseline CD4 date'].fillna(method='ffill', inplace=True)\n",
            "<ipython-input-6-c840372d844e>:3: FutureWarning: Series.fillna with 'method' is deprecated and will raise in a future version. Use obj.ffill() or obj.bfill() instead.\n",
            "  df['TPT Outcome Date'].fillna(method='bfill', inplace=True)\n"
          ]
        }
      ]
    },
    {
      "cell_type": "code",
      "source": [
        "# For categorical columns, you can fill missing values with the most frequent value\n",
        "df['Last VL Justification'].fillna(df['Last VL Justification'].mode()[0], inplace=True)\n",
        "# Drop rows where critical values like CD4 counts or visit dates are missing\n",
        "df = df.dropna(subset=['Baseline CD4 result', 'Last Visit Date'])"
      ],
      "metadata": {
        "id": "eo_H3DXqHKU7"
      },
      "execution_count": 7,
      "outputs": []
    },
    {
      "cell_type": "code",
      "source": [
        "#Check again for missing values\n",
        "print(df.isnull().sum())"
      ],
      "metadata": {
        "colab": {
          "base_uri": "https://localhost:8080/"
        },
        "id": "ouGG51qPHP1m",
        "outputId": "4b91978d-79e9-4085-80a1-0aa48c2b9f11"
      },
      "execution_count": 8,
      "outputs": [
        {
          "output_type": "stream",
          "name": "stdout",
          "text": [
            "Weight                           0\n",
            "Height                           0\n",
            "ht in MTRS                       0\n",
            "BMI                              0\n",
            "Blood Pressure                   0\n",
            "Age at Reporting                 0\n",
            "Sex                              0\n",
            "Popolation Type                  0\n",
            "Date confirmed HIV Positive      0\n",
            "Date enrolled in HIV             0\n",
            "ART Start Date                   0\n",
            "First Regimen                    0\n",
            "Current Regimen                  0\n",
            "Baseline CD4 result              0\n",
            "Baseline CD4 date                0\n",
            "Current Regimen Line             0\n",
            "Last WHO Stage                   0\n",
            "Last WHO Stage Date              0\n",
            "Last VL                          0\n",
            "Last VL Validity                 6\n",
            "Last VL Justification            0\n",
            "Last VL Date                     6\n",
            "Active in PMTCT                  0\n",
            "Active in OVC                    0\n",
            "Active in OTZ                    0\n",
            "Active in TB                     0\n",
            "TPT Start Date                  36\n",
            "TPT Outcome                     46\n",
            "TPT Outcome Date                 0\n",
            "Establishment                    0\n",
            "Differentiated Care Model        0\n",
            "Last Visit Date                  0\n",
            "Self Visit Date                  0\n",
            "Next Appointment Date            0\n",
            "Months Of Prescription           0\n",
            "Refill Date                    385\n",
            "AHD Client                       0\n",
            "Systolic                         0\n",
            "Diastolic                        0\n",
            "dtype: int64\n"
          ]
        }
      ]
    },
    {
      "cell_type": "code",
      "source": [
        "print(df.shape)"
      ],
      "metadata": {
        "colab": {
          "base_uri": "https://localhost:8080/"
        },
        "id": "EsJrcATQ9QLf",
        "outputId": "6de9142d-eb57-47cf-fe21-c14092e7fa57"
      },
      "execution_count": 9,
      "outputs": [
        {
          "output_type": "stream",
          "name": "stdout",
          "text": [
            "(1922, 39)\n"
          ]
        }
      ]
    },
    {
      "cell_type": "code",
      "source": [
        "# Save cleaned data\n",
        "df.to_excel(\"cleaned_data.xlsx\", index=False)"
      ],
      "metadata": {
        "id": "IxknyqCn-Q_K"
      },
      "execution_count": 10,
      "outputs": []
    },
    {
      "cell_type": "code",
      "source": [
        "from sklearn.preprocessing import LabelEncoder, OneHotEncoder\n",
        "# Separate numerical and categorical variables\n",
        "numerical_cols = df.select_dtypes(include=['int64', 'float64']).columns\n",
        "categorical_cols = df.select_dtypes(include=['object', 'category']).columns\n",
        "\n",
        "print(\"Numerical Columns:\", numerical_cols)\n",
        "print(\"Categorical Columns:\", categorical_cols)"
      ],
      "metadata": {
        "colab": {
          "base_uri": "https://localhost:8080/"
        },
        "id": "dxT-wuYvL5zV",
        "outputId": "1d481bf6-2d3d-45bd-b073-737d111d182f"
      },
      "execution_count": 11,
      "outputs": [
        {
          "output_type": "stream",
          "name": "stdout",
          "text": [
            "Numerical Columns: Index(['Weight', 'Height', 'ht in MTRS', 'BMI', 'Age at Reporting',\n",
            "       'Last WHO Stage', 'Last VL', 'Months Of Prescription', 'Systolic',\n",
            "       'Diastolic'],\n",
            "      dtype='object')\n",
            "Categorical Columns: Index(['Blood Pressure', 'Sex', 'Popolation Type', 'Date enrolled in HIV',\n",
            "       'First Regimen', 'Current Regimen', 'Baseline CD4 result',\n",
            "       'Baseline CD4 date', 'Current Regimen Line', 'Last VL Validity',\n",
            "       'Last VL Justification', 'Active in PMTCT', 'Active in OVC',\n",
            "       'Active in OTZ', 'Active in TB', 'TPT Outcome', 'Establishment',\n",
            "       'Differentiated Care Model', 'AHD Client'],\n",
            "      dtype='object')\n"
          ]
        }
      ]
    },
    {
      "cell_type": "code",
      "source": [
        "# Handle categorical encoding\n",
        "# Only 'Sex', 'Population Type', 'Current Regimen Line'\n",
        "label_encoder = LabelEncoder()\n",
        "\n",
        "df['Sex'] = label_encoder.fit_transform(df['Sex'])\n",
        "df['Popolation Type'] = label_encoder.fit_transform(df['Popolation Type'])\n",
        "df['Current Regimen Line'] = label_encoder.fit_transform(df['Current Regimen Line'])"
      ],
      "metadata": {
        "id": "hYstvvnpNhsx"
      },
      "execution_count": 12,
      "outputs": []
    },
    {
      "cell_type": "code",
      "source": [
        "df.head()"
      ],
      "metadata": {
        "colab": {
          "base_uri": "https://localhost:8080/",
          "height": 481
        },
        "id": "jZeFnI7UOQYa",
        "outputId": "c59431b6-8a27-4a0d-dd22-142fa68e3740"
      },
      "execution_count": 13,
      "outputs": [
        {
          "output_type": "execute_result",
          "data": {
            "text/plain": [
              "   Weight  Height  ht in MTRS        BMI Blood Pressure  Age at Reporting  \\\n",
              "2    73.0   160.0       1.600  28.515625     104.0/57.0                54   \n",
              "4    90.0   175.0       1.750  29.387755     126.0/88.0                34   \n",
              "5    73.0   157.0       1.570  29.615806     115.0/83.0                31   \n",
              "6    90.0   159.9       1.599  35.200237     102.0/65.0                42   \n",
              "8    62.2   174.0       1.740  20.544326      94.0/65.0                48   \n",
              "\n",
              "   Sex  Popolation Type Date confirmed HIV Positive Date enrolled in HIV  ...  \\\n",
              "2    0                1                  2013-07-11  2013-07-11 00:00:00  ...   \n",
              "4    0                1                  2013-07-16  2013-07-16 00:00:00  ...   \n",
              "5    0                1                  2013-07-16  2013-07-16 00:00:00  ...   \n",
              "6    0                0                  2013-09-17  2013-09-17 00:00:00  ...   \n",
              "8    1                1                  2008-06-15  2013-07-15 00:00:00  ...   \n",
              "\n",
              "     Establishment Differentiated Care Model Last Visit Date Self Visit Date  \\\n",
              "2      Established                Fast Track      2024-08-30      2024-08-30   \n",
              "4      Established                Fast Track      2024-05-02      2024-05-02   \n",
              "5      Established                Fast Track      2024-06-19      2024-06-19   \n",
              "6      Established             Standard Care      2024-06-04      2024-03-07   \n",
              "8  Not Established             Standard Care      2024-07-03      2024-07-03   \n",
              "\n",
              "  Next Appointment Date  Months Of Prescription  Refill Date AHD Client  \\\n",
              "2            2025-02-27                       5   2024-11-28        Yes   \n",
              "4            2024-10-31                       5   2024-08-01         No   \n",
              "5            2025-01-14                       6   2024-09-18         No   \n",
              "6            2024-09-03                       2   2023-06-07        Yes   \n",
              "8            2024-10-02                       2   2021-03-11         No   \n",
              "\n",
              "   Systolic Diastolic  \n",
              "2     104.0      57.0  \n",
              "4     126.0      88.0  \n",
              "5     115.0      83.0  \n",
              "6     102.0      65.0  \n",
              "8      94.0      65.0  \n",
              "\n",
              "[5 rows x 39 columns]"
            ],
            "text/html": [
              "\n",
              "  <div id=\"df-6f4830fe-3439-4d5a-a01d-fb7ec6502d53\" class=\"colab-df-container\">\n",
              "    <div>\n",
              "<style scoped>\n",
              "    .dataframe tbody tr th:only-of-type {\n",
              "        vertical-align: middle;\n",
              "    }\n",
              "\n",
              "    .dataframe tbody tr th {\n",
              "        vertical-align: top;\n",
              "    }\n",
              "\n",
              "    .dataframe thead th {\n",
              "        text-align: right;\n",
              "    }\n",
              "</style>\n",
              "<table border=\"1\" class=\"dataframe\">\n",
              "  <thead>\n",
              "    <tr style=\"text-align: right;\">\n",
              "      <th></th>\n",
              "      <th>Weight</th>\n",
              "      <th>Height</th>\n",
              "      <th>ht in MTRS</th>\n",
              "      <th>BMI</th>\n",
              "      <th>Blood Pressure</th>\n",
              "      <th>Age at Reporting</th>\n",
              "      <th>Sex</th>\n",
              "      <th>Popolation Type</th>\n",
              "      <th>Date confirmed HIV Positive</th>\n",
              "      <th>Date enrolled in HIV</th>\n",
              "      <th>...</th>\n",
              "      <th>Establishment</th>\n",
              "      <th>Differentiated Care Model</th>\n",
              "      <th>Last Visit Date</th>\n",
              "      <th>Self Visit Date</th>\n",
              "      <th>Next Appointment Date</th>\n",
              "      <th>Months Of Prescription</th>\n",
              "      <th>Refill Date</th>\n",
              "      <th>AHD Client</th>\n",
              "      <th>Systolic</th>\n",
              "      <th>Diastolic</th>\n",
              "    </tr>\n",
              "  </thead>\n",
              "  <tbody>\n",
              "    <tr>\n",
              "      <th>2</th>\n",
              "      <td>73.0</td>\n",
              "      <td>160.0</td>\n",
              "      <td>1.600</td>\n",
              "      <td>28.515625</td>\n",
              "      <td>104.0/57.0</td>\n",
              "      <td>54</td>\n",
              "      <td>0</td>\n",
              "      <td>1</td>\n",
              "      <td>2013-07-11</td>\n",
              "      <td>2013-07-11 00:00:00</td>\n",
              "      <td>...</td>\n",
              "      <td>Established</td>\n",
              "      <td>Fast Track</td>\n",
              "      <td>2024-08-30</td>\n",
              "      <td>2024-08-30</td>\n",
              "      <td>2025-02-27</td>\n",
              "      <td>5</td>\n",
              "      <td>2024-11-28</td>\n",
              "      <td>Yes</td>\n",
              "      <td>104.0</td>\n",
              "      <td>57.0</td>\n",
              "    </tr>\n",
              "    <tr>\n",
              "      <th>4</th>\n",
              "      <td>90.0</td>\n",
              "      <td>175.0</td>\n",
              "      <td>1.750</td>\n",
              "      <td>29.387755</td>\n",
              "      <td>126.0/88.0</td>\n",
              "      <td>34</td>\n",
              "      <td>0</td>\n",
              "      <td>1</td>\n",
              "      <td>2013-07-16</td>\n",
              "      <td>2013-07-16 00:00:00</td>\n",
              "      <td>...</td>\n",
              "      <td>Established</td>\n",
              "      <td>Fast Track</td>\n",
              "      <td>2024-05-02</td>\n",
              "      <td>2024-05-02</td>\n",
              "      <td>2024-10-31</td>\n",
              "      <td>5</td>\n",
              "      <td>2024-08-01</td>\n",
              "      <td>No</td>\n",
              "      <td>126.0</td>\n",
              "      <td>88.0</td>\n",
              "    </tr>\n",
              "    <tr>\n",
              "      <th>5</th>\n",
              "      <td>73.0</td>\n",
              "      <td>157.0</td>\n",
              "      <td>1.570</td>\n",
              "      <td>29.615806</td>\n",
              "      <td>115.0/83.0</td>\n",
              "      <td>31</td>\n",
              "      <td>0</td>\n",
              "      <td>1</td>\n",
              "      <td>2013-07-16</td>\n",
              "      <td>2013-07-16 00:00:00</td>\n",
              "      <td>...</td>\n",
              "      <td>Established</td>\n",
              "      <td>Fast Track</td>\n",
              "      <td>2024-06-19</td>\n",
              "      <td>2024-06-19</td>\n",
              "      <td>2025-01-14</td>\n",
              "      <td>6</td>\n",
              "      <td>2024-09-18</td>\n",
              "      <td>No</td>\n",
              "      <td>115.0</td>\n",
              "      <td>83.0</td>\n",
              "    </tr>\n",
              "    <tr>\n",
              "      <th>6</th>\n",
              "      <td>90.0</td>\n",
              "      <td>159.9</td>\n",
              "      <td>1.599</td>\n",
              "      <td>35.200237</td>\n",
              "      <td>102.0/65.0</td>\n",
              "      <td>42</td>\n",
              "      <td>0</td>\n",
              "      <td>0</td>\n",
              "      <td>2013-09-17</td>\n",
              "      <td>2013-09-17 00:00:00</td>\n",
              "      <td>...</td>\n",
              "      <td>Established</td>\n",
              "      <td>Standard Care</td>\n",
              "      <td>2024-06-04</td>\n",
              "      <td>2024-03-07</td>\n",
              "      <td>2024-09-03</td>\n",
              "      <td>2</td>\n",
              "      <td>2023-06-07</td>\n",
              "      <td>Yes</td>\n",
              "      <td>102.0</td>\n",
              "      <td>65.0</td>\n",
              "    </tr>\n",
              "    <tr>\n",
              "      <th>8</th>\n",
              "      <td>62.2</td>\n",
              "      <td>174.0</td>\n",
              "      <td>1.740</td>\n",
              "      <td>20.544326</td>\n",
              "      <td>94.0/65.0</td>\n",
              "      <td>48</td>\n",
              "      <td>1</td>\n",
              "      <td>1</td>\n",
              "      <td>2008-06-15</td>\n",
              "      <td>2013-07-15 00:00:00</td>\n",
              "      <td>...</td>\n",
              "      <td>Not Established</td>\n",
              "      <td>Standard Care</td>\n",
              "      <td>2024-07-03</td>\n",
              "      <td>2024-07-03</td>\n",
              "      <td>2024-10-02</td>\n",
              "      <td>2</td>\n",
              "      <td>2021-03-11</td>\n",
              "      <td>No</td>\n",
              "      <td>94.0</td>\n",
              "      <td>65.0</td>\n",
              "    </tr>\n",
              "  </tbody>\n",
              "</table>\n",
              "<p>5 rows × 39 columns</p>\n",
              "</div>\n",
              "    <div class=\"colab-df-buttons\">\n",
              "\n",
              "  <div class=\"colab-df-container\">\n",
              "    <button class=\"colab-df-convert\" onclick=\"convertToInteractive('df-6f4830fe-3439-4d5a-a01d-fb7ec6502d53')\"\n",
              "            title=\"Convert this dataframe to an interactive table.\"\n",
              "            style=\"display:none;\">\n",
              "\n",
              "  <svg xmlns=\"http://www.w3.org/2000/svg\" height=\"24px\" viewBox=\"0 -960 960 960\">\n",
              "    <path d=\"M120-120v-720h720v720H120Zm60-500h600v-160H180v160Zm220 220h160v-160H400v160Zm0 220h160v-160H400v160ZM180-400h160v-160H180v160Zm440 0h160v-160H620v160ZM180-180h160v-160H180v160Zm440 0h160v-160H620v160Z\"/>\n",
              "  </svg>\n",
              "    </button>\n",
              "\n",
              "  <style>\n",
              "    .colab-df-container {\n",
              "      display:flex;\n",
              "      gap: 12px;\n",
              "    }\n",
              "\n",
              "    .colab-df-convert {\n",
              "      background-color: #E8F0FE;\n",
              "      border: none;\n",
              "      border-radius: 50%;\n",
              "      cursor: pointer;\n",
              "      display: none;\n",
              "      fill: #1967D2;\n",
              "      height: 32px;\n",
              "      padding: 0 0 0 0;\n",
              "      width: 32px;\n",
              "    }\n",
              "\n",
              "    .colab-df-convert:hover {\n",
              "      background-color: #E2EBFA;\n",
              "      box-shadow: 0px 1px 2px rgba(60, 64, 67, 0.3), 0px 1px 3px 1px rgba(60, 64, 67, 0.15);\n",
              "      fill: #174EA6;\n",
              "    }\n",
              "\n",
              "    .colab-df-buttons div {\n",
              "      margin-bottom: 4px;\n",
              "    }\n",
              "\n",
              "    [theme=dark] .colab-df-convert {\n",
              "      background-color: #3B4455;\n",
              "      fill: #D2E3FC;\n",
              "    }\n",
              "\n",
              "    [theme=dark] .colab-df-convert:hover {\n",
              "      background-color: #434B5C;\n",
              "      box-shadow: 0px 1px 3px 1px rgba(0, 0, 0, 0.15);\n",
              "      filter: drop-shadow(0px 1px 2px rgba(0, 0, 0, 0.3));\n",
              "      fill: #FFFFFF;\n",
              "    }\n",
              "  </style>\n",
              "\n",
              "    <script>\n",
              "      const buttonEl =\n",
              "        document.querySelector('#df-6f4830fe-3439-4d5a-a01d-fb7ec6502d53 button.colab-df-convert');\n",
              "      buttonEl.style.display =\n",
              "        google.colab.kernel.accessAllowed ? 'block' : 'none';\n",
              "\n",
              "      async function convertToInteractive(key) {\n",
              "        const element = document.querySelector('#df-6f4830fe-3439-4d5a-a01d-fb7ec6502d53');\n",
              "        const dataTable =\n",
              "          await google.colab.kernel.invokeFunction('convertToInteractive',\n",
              "                                                    [key], {});\n",
              "        if (!dataTable) return;\n",
              "\n",
              "        const docLinkHtml = 'Like what you see? Visit the ' +\n",
              "          '<a target=\"_blank\" href=https://colab.research.google.com/notebooks/data_table.ipynb>data table notebook</a>'\n",
              "          + ' to learn more about interactive tables.';\n",
              "        element.innerHTML = '';\n",
              "        dataTable['output_type'] = 'display_data';\n",
              "        await google.colab.output.renderOutput(dataTable, element);\n",
              "        const docLink = document.createElement('div');\n",
              "        docLink.innerHTML = docLinkHtml;\n",
              "        element.appendChild(docLink);\n",
              "      }\n",
              "    </script>\n",
              "  </div>\n",
              "\n",
              "\n",
              "<div id=\"df-b6deb063-89c6-4641-b094-2bc64bbcc661\">\n",
              "  <button class=\"colab-df-quickchart\" onclick=\"quickchart('df-b6deb063-89c6-4641-b094-2bc64bbcc661')\"\n",
              "            title=\"Suggest charts\"\n",
              "            style=\"display:none;\">\n",
              "\n",
              "<svg xmlns=\"http://www.w3.org/2000/svg\" height=\"24px\"viewBox=\"0 0 24 24\"\n",
              "     width=\"24px\">\n",
              "    <g>\n",
              "        <path d=\"M19 3H5c-1.1 0-2 .9-2 2v14c0 1.1.9 2 2 2h14c1.1 0 2-.9 2-2V5c0-1.1-.9-2-2-2zM9 17H7v-7h2v7zm4 0h-2V7h2v10zm4 0h-2v-4h2v4z\"/>\n",
              "    </g>\n",
              "</svg>\n",
              "  </button>\n",
              "\n",
              "<style>\n",
              "  .colab-df-quickchart {\n",
              "      --bg-color: #E8F0FE;\n",
              "      --fill-color: #1967D2;\n",
              "      --hover-bg-color: #E2EBFA;\n",
              "      --hover-fill-color: #174EA6;\n",
              "      --disabled-fill-color: #AAA;\n",
              "      --disabled-bg-color: #DDD;\n",
              "  }\n",
              "\n",
              "  [theme=dark] .colab-df-quickchart {\n",
              "      --bg-color: #3B4455;\n",
              "      --fill-color: #D2E3FC;\n",
              "      --hover-bg-color: #434B5C;\n",
              "      --hover-fill-color: #FFFFFF;\n",
              "      --disabled-bg-color: #3B4455;\n",
              "      --disabled-fill-color: #666;\n",
              "  }\n",
              "\n",
              "  .colab-df-quickchart {\n",
              "    background-color: var(--bg-color);\n",
              "    border: none;\n",
              "    border-radius: 50%;\n",
              "    cursor: pointer;\n",
              "    display: none;\n",
              "    fill: var(--fill-color);\n",
              "    height: 32px;\n",
              "    padding: 0;\n",
              "    width: 32px;\n",
              "  }\n",
              "\n",
              "  .colab-df-quickchart:hover {\n",
              "    background-color: var(--hover-bg-color);\n",
              "    box-shadow: 0 1px 2px rgba(60, 64, 67, 0.3), 0 1px 3px 1px rgba(60, 64, 67, 0.15);\n",
              "    fill: var(--button-hover-fill-color);\n",
              "  }\n",
              "\n",
              "  .colab-df-quickchart-complete:disabled,\n",
              "  .colab-df-quickchart-complete:disabled:hover {\n",
              "    background-color: var(--disabled-bg-color);\n",
              "    fill: var(--disabled-fill-color);\n",
              "    box-shadow: none;\n",
              "  }\n",
              "\n",
              "  .colab-df-spinner {\n",
              "    border: 2px solid var(--fill-color);\n",
              "    border-color: transparent;\n",
              "    border-bottom-color: var(--fill-color);\n",
              "    animation:\n",
              "      spin 1s steps(1) infinite;\n",
              "  }\n",
              "\n",
              "  @keyframes spin {\n",
              "    0% {\n",
              "      border-color: transparent;\n",
              "      border-bottom-color: var(--fill-color);\n",
              "      border-left-color: var(--fill-color);\n",
              "    }\n",
              "    20% {\n",
              "      border-color: transparent;\n",
              "      border-left-color: var(--fill-color);\n",
              "      border-top-color: var(--fill-color);\n",
              "    }\n",
              "    30% {\n",
              "      border-color: transparent;\n",
              "      border-left-color: var(--fill-color);\n",
              "      border-top-color: var(--fill-color);\n",
              "      border-right-color: var(--fill-color);\n",
              "    }\n",
              "    40% {\n",
              "      border-color: transparent;\n",
              "      border-right-color: var(--fill-color);\n",
              "      border-top-color: var(--fill-color);\n",
              "    }\n",
              "    60% {\n",
              "      border-color: transparent;\n",
              "      border-right-color: var(--fill-color);\n",
              "    }\n",
              "    80% {\n",
              "      border-color: transparent;\n",
              "      border-right-color: var(--fill-color);\n",
              "      border-bottom-color: var(--fill-color);\n",
              "    }\n",
              "    90% {\n",
              "      border-color: transparent;\n",
              "      border-bottom-color: var(--fill-color);\n",
              "    }\n",
              "  }\n",
              "</style>\n",
              "\n",
              "  <script>\n",
              "    async function quickchart(key) {\n",
              "      const quickchartButtonEl =\n",
              "        document.querySelector('#' + key + ' button');\n",
              "      quickchartButtonEl.disabled = true;  // To prevent multiple clicks.\n",
              "      quickchartButtonEl.classList.add('colab-df-spinner');\n",
              "      try {\n",
              "        const charts = await google.colab.kernel.invokeFunction(\n",
              "            'suggestCharts', [key], {});\n",
              "      } catch (error) {\n",
              "        console.error('Error during call to suggestCharts:', error);\n",
              "      }\n",
              "      quickchartButtonEl.classList.remove('colab-df-spinner');\n",
              "      quickchartButtonEl.classList.add('colab-df-quickchart-complete');\n",
              "    }\n",
              "    (() => {\n",
              "      let quickchartButtonEl =\n",
              "        document.querySelector('#df-b6deb063-89c6-4641-b094-2bc64bbcc661 button');\n",
              "      quickchartButtonEl.style.display =\n",
              "        google.colab.kernel.accessAllowed ? 'block' : 'none';\n",
              "    })();\n",
              "  </script>\n",
              "</div>\n",
              "\n",
              "    </div>\n",
              "  </div>\n"
            ],
            "application/vnd.google.colaboratory.intrinsic+json": {
              "type": "dataframe",
              "variable_name": "df"
            }
          },
          "metadata": {},
          "execution_count": 13
        }
      ]
    },
    {
      "cell_type": "code",
      "source": [
        "from sklearn.preprocessing import StandardScaler\n",
        "continuous_cols = ['Weight', 'Height','Blood Pressure', 'BMI', 'Age at Reporting']\n",
        "# Handle 'Blood Pressure' column\n",
        "df[['Systolic', 'Diastolic']] = df['Blood Pressure'].str.split('/', expand=True).astype(float)\n",
        "\n",
        "# Update continuous_cols to include new columns and remove 'Blood Pressure'\n",
        "continuous_cols = ['Weight', 'Height', 'Systolic', 'Diastolic', 'BMI', 'Age at Reporting']\n",
        "\n",
        "# Now scale the data\n",
        "scaler = StandardScaler()\n",
        "df[continuous_cols] = scaler.fit_transform(df[continuous_cols])"
      ],
      "metadata": {
        "id": "MwoKpqzIIPp1"
      },
      "execution_count": 21,
      "outputs": []
    },
    {
      "cell_type": "code",
      "source": [
        "# Check the standardized data\n",
        "print(df[continuous_cols].head())"
      ],
      "metadata": {
        "colab": {
          "base_uri": "https://localhost:8080/"
        },
        "id": "uogdXz6sJ4f1",
        "outputId": "e0c3a614-e731-463b-cd31-2e21bfa4fd5f"
      },
      "execution_count": 22,
      "outputs": [
        {
          "output_type": "stream",
          "name": "stdout",
          "text": [
            "     Weight    Height  Systolic  Diastolic       BMI  Age at Reporting\n",
            "2  0.687485 -0.103844 -0.586998  -1.152144  0.776238          0.503237\n",
            "4  1.916363  1.438565  0.266883   0.795953  0.944725         -0.941347\n",
            "5  0.687485 -0.412326 -0.160057   0.481744  0.988782         -1.158035\n",
            "6  1.916363 -0.114127 -0.664623  -0.649409  2.067638         -0.363514\n",
            "8 -0.093213  1.335738 -0.975126  -0.649409 -0.763738          0.069862\n"
          ]
        }
      ]
    },
    {
      "cell_type": "code",
      "source": [
        "# Save the standardized dataframe\n",
        "df.to_excel('standardized_data.xlsx', index=False)"
      ],
      "metadata": {
        "id": "5r93yh19QWjf"
      },
      "execution_count": 24,
      "outputs": []
    },
    {
      "cell_type": "code",
      "source": [
        "from sklearn.decomposition import PCA\n",
        "df = pd.read_excel('/content/drive/MyDrive/Karatina Project/standardized_data.xlsx')\n",
        "# Select key features for clustering\n",
        "key_features = ['BMI', 'Systolic', 'Diastolic', 'Age at Reporting', 'Baseline CD4 result',\n",
        "                'Last VL', 'ART Start Date', 'Current Regimen', 'Current Regimen Line',\n",
        "                'Last WHO Stage', 'TPT Outcome']\n",
        "\n",
        "# Subset the dataframe for selected features\n",
        "df_selected = df[key_features]\n",
        "\n",
        "# Standardize the continuous variables\n",
        "scaler = StandardScaler()\n",
        "df_standardized = scaler.fit_transform(df_selected)\n"
      ],
      "metadata": {
        "colab": {
          "base_uri": "https://localhost:8080/",
          "height": 321
        },
        "id": "5cLD0WioOSC8",
        "outputId": "5aeb7bb1-fda1-41c8-db3c-9da3eec42ff2"
      },
      "execution_count": 26,
      "outputs": [
        {
          "output_type": "error",
          "ename": "ValueError",
          "evalue": "could not convert string to float: '>200'",
          "traceback": [
            "\u001b[0;31m---------------------------------------------------------------------------\u001b[0m",
            "\u001b[0;31mValueError\u001b[0m                                Traceback (most recent call last)",
            "\u001b[0;32m<ipython-input-26-a004a95153b3>\u001b[0m in \u001b[0;36m<cell line: 13>\u001b[0;34m()\u001b[0m\n\u001b[1;32m     11\u001b[0m \u001b[0;31m# Standardize the continuous variables\u001b[0m\u001b[0;34m\u001b[0m\u001b[0;34m\u001b[0m\u001b[0m\n\u001b[1;32m     12\u001b[0m \u001b[0mscaler\u001b[0m \u001b[0;34m=\u001b[0m \u001b[0mStandardScaler\u001b[0m\u001b[0;34m(\u001b[0m\u001b[0;34m)\u001b[0m\u001b[0;34m\u001b[0m\u001b[0;34m\u001b[0m\u001b[0m\n\u001b[0;32m---> 13\u001b[0;31m \u001b[0mdf_standardized\u001b[0m \u001b[0;34m=\u001b[0m \u001b[0mscaler\u001b[0m\u001b[0;34m.\u001b[0m\u001b[0mfit_transform\u001b[0m\u001b[0;34m(\u001b[0m\u001b[0mdf_selected\u001b[0m\u001b[0;34m)\u001b[0m\u001b[0;34m\u001b[0m\u001b[0;34m\u001b[0m\u001b[0m\n\u001b[0m",
            "\u001b[0;32m/usr/local/lib/python3.10/dist-packages/sklearn/utils/_set_output.py\u001b[0m in \u001b[0;36mwrapped\u001b[0;34m(self, X, *args, **kwargs)\u001b[0m\n\u001b[1;32m    155\u001b[0m     \u001b[0;34m@\u001b[0m\u001b[0mwraps\u001b[0m\u001b[0;34m(\u001b[0m\u001b[0mf\u001b[0m\u001b[0;34m)\u001b[0m\u001b[0;34m\u001b[0m\u001b[0;34m\u001b[0m\u001b[0m\n\u001b[1;32m    156\u001b[0m     \u001b[0;32mdef\u001b[0m \u001b[0mwrapped\u001b[0m\u001b[0;34m(\u001b[0m\u001b[0mself\u001b[0m\u001b[0;34m,\u001b[0m \u001b[0mX\u001b[0m\u001b[0;34m,\u001b[0m \u001b[0;34m*\u001b[0m\u001b[0margs\u001b[0m\u001b[0;34m,\u001b[0m \u001b[0;34m**\u001b[0m\u001b[0mkwargs\u001b[0m\u001b[0;34m)\u001b[0m\u001b[0;34m:\u001b[0m\u001b[0;34m\u001b[0m\u001b[0;34m\u001b[0m\u001b[0m\n\u001b[0;32m--> 157\u001b[0;31m         \u001b[0mdata_to_wrap\u001b[0m \u001b[0;34m=\u001b[0m \u001b[0mf\u001b[0m\u001b[0;34m(\u001b[0m\u001b[0mself\u001b[0m\u001b[0;34m,\u001b[0m \u001b[0mX\u001b[0m\u001b[0;34m,\u001b[0m \u001b[0;34m*\u001b[0m\u001b[0margs\u001b[0m\u001b[0;34m,\u001b[0m \u001b[0;34m**\u001b[0m\u001b[0mkwargs\u001b[0m\u001b[0;34m)\u001b[0m\u001b[0;34m\u001b[0m\u001b[0;34m\u001b[0m\u001b[0m\n\u001b[0m\u001b[1;32m    158\u001b[0m         \u001b[0;32mif\u001b[0m \u001b[0misinstance\u001b[0m\u001b[0;34m(\u001b[0m\u001b[0mdata_to_wrap\u001b[0m\u001b[0;34m,\u001b[0m \u001b[0mtuple\u001b[0m\u001b[0;34m)\u001b[0m\u001b[0;34m:\u001b[0m\u001b[0;34m\u001b[0m\u001b[0;34m\u001b[0m\u001b[0m\n\u001b[1;32m    159\u001b[0m             \u001b[0;31m# only wrap the first output for cross decomposition\u001b[0m\u001b[0;34m\u001b[0m\u001b[0;34m\u001b[0m\u001b[0m\n",
            "\u001b[0;32m/usr/local/lib/python3.10/dist-packages/sklearn/base.py\u001b[0m in \u001b[0;36mfit_transform\u001b[0;34m(self, X, y, **fit_params)\u001b[0m\n\u001b[1;32m    914\u001b[0m         \u001b[0;32mif\u001b[0m \u001b[0my\u001b[0m \u001b[0;32mis\u001b[0m \u001b[0;32mNone\u001b[0m\u001b[0;34m:\u001b[0m\u001b[0;34m\u001b[0m\u001b[0;34m\u001b[0m\u001b[0m\n\u001b[1;32m    915\u001b[0m             \u001b[0;31m# fit method of arity 1 (unsupervised transformation)\u001b[0m\u001b[0;34m\u001b[0m\u001b[0;34m\u001b[0m\u001b[0m\n\u001b[0;32m--> 916\u001b[0;31m             \u001b[0;32mreturn\u001b[0m \u001b[0mself\u001b[0m\u001b[0;34m.\u001b[0m\u001b[0mfit\u001b[0m\u001b[0;34m(\u001b[0m\u001b[0mX\u001b[0m\u001b[0;34m,\u001b[0m \u001b[0;34m**\u001b[0m\u001b[0mfit_params\u001b[0m\u001b[0;34m)\u001b[0m\u001b[0;34m.\u001b[0m\u001b[0mtransform\u001b[0m\u001b[0;34m(\u001b[0m\u001b[0mX\u001b[0m\u001b[0;34m)\u001b[0m\u001b[0;34m\u001b[0m\u001b[0;34m\u001b[0m\u001b[0m\n\u001b[0m\u001b[1;32m    917\u001b[0m         \u001b[0;32melse\u001b[0m\u001b[0;34m:\u001b[0m\u001b[0;34m\u001b[0m\u001b[0;34m\u001b[0m\u001b[0m\n\u001b[1;32m    918\u001b[0m             \u001b[0;31m# fit method of arity 2 (supervised transformation)\u001b[0m\u001b[0;34m\u001b[0m\u001b[0;34m\u001b[0m\u001b[0m\n",
            "\u001b[0;32m/usr/local/lib/python3.10/dist-packages/sklearn/preprocessing/_data.py\u001b[0m in \u001b[0;36mfit\u001b[0;34m(self, X, y, sample_weight)\u001b[0m\n\u001b[1;32m    837\u001b[0m         \u001b[0;31m# Reset internal state before fitting\u001b[0m\u001b[0;34m\u001b[0m\u001b[0;34m\u001b[0m\u001b[0m\n\u001b[1;32m    838\u001b[0m         \u001b[0mself\u001b[0m\u001b[0;34m.\u001b[0m\u001b[0m_reset\u001b[0m\u001b[0;34m(\u001b[0m\u001b[0;34m)\u001b[0m\u001b[0;34m\u001b[0m\u001b[0;34m\u001b[0m\u001b[0m\n\u001b[0;32m--> 839\u001b[0;31m         \u001b[0;32mreturn\u001b[0m \u001b[0mself\u001b[0m\u001b[0;34m.\u001b[0m\u001b[0mpartial_fit\u001b[0m\u001b[0;34m(\u001b[0m\u001b[0mX\u001b[0m\u001b[0;34m,\u001b[0m \u001b[0my\u001b[0m\u001b[0;34m,\u001b[0m \u001b[0msample_weight\u001b[0m\u001b[0;34m)\u001b[0m\u001b[0;34m\u001b[0m\u001b[0;34m\u001b[0m\u001b[0m\n\u001b[0m\u001b[1;32m    840\u001b[0m \u001b[0;34m\u001b[0m\u001b[0m\n\u001b[1;32m    841\u001b[0m     \u001b[0;34m@\u001b[0m\u001b[0m_fit_context\u001b[0m\u001b[0;34m(\u001b[0m\u001b[0mprefer_skip_nested_validation\u001b[0m\u001b[0;34m=\u001b[0m\u001b[0;32mTrue\u001b[0m\u001b[0;34m)\u001b[0m\u001b[0;34m\u001b[0m\u001b[0;34m\u001b[0m\u001b[0m\n",
            "\u001b[0;32m/usr/local/lib/python3.10/dist-packages/sklearn/base.py\u001b[0m in \u001b[0;36mwrapper\u001b[0;34m(estimator, *args, **kwargs)\u001b[0m\n\u001b[1;32m   1150\u001b[0m                 )\n\u001b[1;32m   1151\u001b[0m             ):\n\u001b[0;32m-> 1152\u001b[0;31m                 \u001b[0;32mreturn\u001b[0m \u001b[0mfit_method\u001b[0m\u001b[0;34m(\u001b[0m\u001b[0mestimator\u001b[0m\u001b[0;34m,\u001b[0m \u001b[0;34m*\u001b[0m\u001b[0margs\u001b[0m\u001b[0;34m,\u001b[0m \u001b[0;34m**\u001b[0m\u001b[0mkwargs\u001b[0m\u001b[0;34m)\u001b[0m\u001b[0;34m\u001b[0m\u001b[0;34m\u001b[0m\u001b[0m\n\u001b[0m\u001b[1;32m   1153\u001b[0m \u001b[0;34m\u001b[0m\u001b[0m\n\u001b[1;32m   1154\u001b[0m         \u001b[0;32mreturn\u001b[0m \u001b[0mwrapper\u001b[0m\u001b[0;34m\u001b[0m\u001b[0;34m\u001b[0m\u001b[0m\n",
            "\u001b[0;32m/usr/local/lib/python3.10/dist-packages/sklearn/preprocessing/_data.py\u001b[0m in \u001b[0;36mpartial_fit\u001b[0;34m(self, X, y, sample_weight)\u001b[0m\n\u001b[1;32m    873\u001b[0m         \"\"\"\n\u001b[1;32m    874\u001b[0m         \u001b[0mfirst_call\u001b[0m \u001b[0;34m=\u001b[0m \u001b[0;32mnot\u001b[0m \u001b[0mhasattr\u001b[0m\u001b[0;34m(\u001b[0m\u001b[0mself\u001b[0m\u001b[0;34m,\u001b[0m \u001b[0;34m\"n_samples_seen_\"\u001b[0m\u001b[0;34m)\u001b[0m\u001b[0;34m\u001b[0m\u001b[0;34m\u001b[0m\u001b[0m\n\u001b[0;32m--> 875\u001b[0;31m         X = self._validate_data(\n\u001b[0m\u001b[1;32m    876\u001b[0m             \u001b[0mX\u001b[0m\u001b[0;34m,\u001b[0m\u001b[0;34m\u001b[0m\u001b[0;34m\u001b[0m\u001b[0m\n\u001b[1;32m    877\u001b[0m             \u001b[0maccept_sparse\u001b[0m\u001b[0;34m=\u001b[0m\u001b[0;34m(\u001b[0m\u001b[0;34m\"csr\"\u001b[0m\u001b[0;34m,\u001b[0m \u001b[0;34m\"csc\"\u001b[0m\u001b[0;34m)\u001b[0m\u001b[0;34m,\u001b[0m\u001b[0;34m\u001b[0m\u001b[0;34m\u001b[0m\u001b[0m\n",
            "\u001b[0;32m/usr/local/lib/python3.10/dist-packages/sklearn/base.py\u001b[0m in \u001b[0;36m_validate_data\u001b[0;34m(self, X, y, reset, validate_separately, cast_to_ndarray, **check_params)\u001b[0m\n\u001b[1;32m    603\u001b[0m                 \u001b[0mout\u001b[0m \u001b[0;34m=\u001b[0m \u001b[0mX\u001b[0m\u001b[0;34m,\u001b[0m \u001b[0my\u001b[0m\u001b[0;34m\u001b[0m\u001b[0;34m\u001b[0m\u001b[0m\n\u001b[1;32m    604\u001b[0m         \u001b[0;32melif\u001b[0m \u001b[0;32mnot\u001b[0m \u001b[0mno_val_X\u001b[0m \u001b[0;32mand\u001b[0m \u001b[0mno_val_y\u001b[0m\u001b[0;34m:\u001b[0m\u001b[0;34m\u001b[0m\u001b[0;34m\u001b[0m\u001b[0m\n\u001b[0;32m--> 605\u001b[0;31m             \u001b[0mout\u001b[0m \u001b[0;34m=\u001b[0m \u001b[0mcheck_array\u001b[0m\u001b[0;34m(\u001b[0m\u001b[0mX\u001b[0m\u001b[0;34m,\u001b[0m \u001b[0minput_name\u001b[0m\u001b[0;34m=\u001b[0m\u001b[0;34m\"X\"\u001b[0m\u001b[0;34m,\u001b[0m \u001b[0;34m**\u001b[0m\u001b[0mcheck_params\u001b[0m\u001b[0;34m)\u001b[0m\u001b[0;34m\u001b[0m\u001b[0;34m\u001b[0m\u001b[0m\n\u001b[0m\u001b[1;32m    606\u001b[0m         \u001b[0;32melif\u001b[0m \u001b[0mno_val_X\u001b[0m \u001b[0;32mand\u001b[0m \u001b[0;32mnot\u001b[0m \u001b[0mno_val_y\u001b[0m\u001b[0;34m:\u001b[0m\u001b[0;34m\u001b[0m\u001b[0;34m\u001b[0m\u001b[0m\n\u001b[1;32m    607\u001b[0m             \u001b[0mout\u001b[0m \u001b[0;34m=\u001b[0m \u001b[0m_check_y\u001b[0m\u001b[0;34m(\u001b[0m\u001b[0my\u001b[0m\u001b[0;34m,\u001b[0m \u001b[0;34m**\u001b[0m\u001b[0mcheck_params\u001b[0m\u001b[0;34m)\u001b[0m\u001b[0;34m\u001b[0m\u001b[0;34m\u001b[0m\u001b[0m\n",
            "\u001b[0;32m/usr/local/lib/python3.10/dist-packages/sklearn/utils/validation.py\u001b[0m in \u001b[0;36mcheck_array\u001b[0;34m(array, accept_sparse, accept_large_sparse, dtype, order, copy, force_all_finite, ensure_2d, allow_nd, ensure_min_samples, ensure_min_features, estimator, input_name)\u001b[0m\n\u001b[1;32m    913\u001b[0m                     \u001b[0marray\u001b[0m \u001b[0;34m=\u001b[0m \u001b[0mxp\u001b[0m\u001b[0;34m.\u001b[0m\u001b[0mastype\u001b[0m\u001b[0;34m(\u001b[0m\u001b[0marray\u001b[0m\u001b[0;34m,\u001b[0m \u001b[0mdtype\u001b[0m\u001b[0;34m,\u001b[0m \u001b[0mcopy\u001b[0m\u001b[0;34m=\u001b[0m\u001b[0;32mFalse\u001b[0m\u001b[0;34m)\u001b[0m\u001b[0;34m\u001b[0m\u001b[0;34m\u001b[0m\u001b[0m\n\u001b[1;32m    914\u001b[0m                 \u001b[0;32melse\u001b[0m\u001b[0;34m:\u001b[0m\u001b[0;34m\u001b[0m\u001b[0;34m\u001b[0m\u001b[0m\n\u001b[0;32m--> 915\u001b[0;31m                     \u001b[0marray\u001b[0m \u001b[0;34m=\u001b[0m \u001b[0m_asarray_with_order\u001b[0m\u001b[0;34m(\u001b[0m\u001b[0marray\u001b[0m\u001b[0;34m,\u001b[0m \u001b[0morder\u001b[0m\u001b[0;34m=\u001b[0m\u001b[0morder\u001b[0m\u001b[0;34m,\u001b[0m \u001b[0mdtype\u001b[0m\u001b[0;34m=\u001b[0m\u001b[0mdtype\u001b[0m\u001b[0;34m,\u001b[0m \u001b[0mxp\u001b[0m\u001b[0;34m=\u001b[0m\u001b[0mxp\u001b[0m\u001b[0;34m)\u001b[0m\u001b[0;34m\u001b[0m\u001b[0;34m\u001b[0m\u001b[0m\n\u001b[0m\u001b[1;32m    916\u001b[0m             \u001b[0;32mexcept\u001b[0m \u001b[0mComplexWarning\u001b[0m \u001b[0;32mas\u001b[0m \u001b[0mcomplex_warning\u001b[0m\u001b[0;34m:\u001b[0m\u001b[0;34m\u001b[0m\u001b[0;34m\u001b[0m\u001b[0m\n\u001b[1;32m    917\u001b[0m                 raise ValueError(\n",
            "\u001b[0;32m/usr/local/lib/python3.10/dist-packages/sklearn/utils/_array_api.py\u001b[0m in \u001b[0;36m_asarray_with_order\u001b[0;34m(array, dtype, order, copy, xp)\u001b[0m\n\u001b[1;32m    378\u001b[0m             \u001b[0marray\u001b[0m \u001b[0;34m=\u001b[0m \u001b[0mnumpy\u001b[0m\u001b[0;34m.\u001b[0m\u001b[0marray\u001b[0m\u001b[0;34m(\u001b[0m\u001b[0marray\u001b[0m\u001b[0;34m,\u001b[0m \u001b[0morder\u001b[0m\u001b[0;34m=\u001b[0m\u001b[0morder\u001b[0m\u001b[0;34m,\u001b[0m \u001b[0mdtype\u001b[0m\u001b[0;34m=\u001b[0m\u001b[0mdtype\u001b[0m\u001b[0;34m)\u001b[0m\u001b[0;34m\u001b[0m\u001b[0;34m\u001b[0m\u001b[0m\n\u001b[1;32m    379\u001b[0m         \u001b[0;32melse\u001b[0m\u001b[0;34m:\u001b[0m\u001b[0;34m\u001b[0m\u001b[0;34m\u001b[0m\u001b[0m\n\u001b[0;32m--> 380\u001b[0;31m             \u001b[0marray\u001b[0m \u001b[0;34m=\u001b[0m \u001b[0mnumpy\u001b[0m\u001b[0;34m.\u001b[0m\u001b[0masarray\u001b[0m\u001b[0;34m(\u001b[0m\u001b[0marray\u001b[0m\u001b[0;34m,\u001b[0m \u001b[0morder\u001b[0m\u001b[0;34m=\u001b[0m\u001b[0morder\u001b[0m\u001b[0;34m,\u001b[0m \u001b[0mdtype\u001b[0m\u001b[0;34m=\u001b[0m\u001b[0mdtype\u001b[0m\u001b[0;34m)\u001b[0m\u001b[0;34m\u001b[0m\u001b[0;34m\u001b[0m\u001b[0m\n\u001b[0m\u001b[1;32m    381\u001b[0m \u001b[0;34m\u001b[0m\u001b[0m\n\u001b[1;32m    382\u001b[0m         \u001b[0;31m# At this point array is a NumPy ndarray. We convert it to an array\u001b[0m\u001b[0;34m\u001b[0m\u001b[0;34m\u001b[0m\u001b[0m\n",
            "\u001b[0;32m/usr/local/lib/python3.10/dist-packages/pandas/core/generic.py\u001b[0m in \u001b[0;36m__array__\u001b[0;34m(self, dtype)\u001b[0m\n\u001b[1;32m   2082\u001b[0m     \u001b[0;32mdef\u001b[0m \u001b[0m__array__\u001b[0m\u001b[0;34m(\u001b[0m\u001b[0mself\u001b[0m\u001b[0;34m,\u001b[0m \u001b[0mdtype\u001b[0m\u001b[0;34m:\u001b[0m \u001b[0mnpt\u001b[0m\u001b[0;34m.\u001b[0m\u001b[0mDTypeLike\u001b[0m \u001b[0;34m|\u001b[0m \u001b[0;32mNone\u001b[0m \u001b[0;34m=\u001b[0m \u001b[0;32mNone\u001b[0m\u001b[0;34m)\u001b[0m \u001b[0;34m->\u001b[0m \u001b[0mnp\u001b[0m\u001b[0;34m.\u001b[0m\u001b[0mndarray\u001b[0m\u001b[0;34m:\u001b[0m\u001b[0;34m\u001b[0m\u001b[0;34m\u001b[0m\u001b[0m\n\u001b[1;32m   2083\u001b[0m         \u001b[0mvalues\u001b[0m \u001b[0;34m=\u001b[0m \u001b[0mself\u001b[0m\u001b[0;34m.\u001b[0m\u001b[0m_values\u001b[0m\u001b[0;34m\u001b[0m\u001b[0;34m\u001b[0m\u001b[0m\n\u001b[0;32m-> 2084\u001b[0;31m         \u001b[0marr\u001b[0m \u001b[0;34m=\u001b[0m \u001b[0mnp\u001b[0m\u001b[0;34m.\u001b[0m\u001b[0masarray\u001b[0m\u001b[0;34m(\u001b[0m\u001b[0mvalues\u001b[0m\u001b[0;34m,\u001b[0m \u001b[0mdtype\u001b[0m\u001b[0;34m=\u001b[0m\u001b[0mdtype\u001b[0m\u001b[0;34m)\u001b[0m\u001b[0;34m\u001b[0m\u001b[0;34m\u001b[0m\u001b[0m\n\u001b[0m\u001b[1;32m   2085\u001b[0m         if (\n\u001b[1;32m   2086\u001b[0m             \u001b[0mastype_is_view\u001b[0m\u001b[0;34m(\u001b[0m\u001b[0mvalues\u001b[0m\u001b[0;34m.\u001b[0m\u001b[0mdtype\u001b[0m\u001b[0;34m,\u001b[0m \u001b[0marr\u001b[0m\u001b[0;34m.\u001b[0m\u001b[0mdtype\u001b[0m\u001b[0;34m)\u001b[0m\u001b[0;34m\u001b[0m\u001b[0;34m\u001b[0m\u001b[0m\n",
            "\u001b[0;31mValueError\u001b[0m: could not convert string to float: '>200'"
          ]
        }
      ]
    }
  ]
}