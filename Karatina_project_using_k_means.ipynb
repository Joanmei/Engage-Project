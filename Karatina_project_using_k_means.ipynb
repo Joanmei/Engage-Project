{
  "cells": [
    {
      "cell_type": "markdown",
      "metadata": {
        "id": "view-in-github",
        "colab_type": "text"
      },
      "source": [
        "<a href=\"https://colab.research.google.com/github/Joanmei/Engage-Project/blob/main/Karatina_project_using_k_means.ipynb\" target=\"_parent\"><img src=\"https://colab.research.google.com/assets/colab-badge.svg\" alt=\"Open In Colab\"/></a>"
      ]
    },
    {
      "cell_type": "code",
      "execution_count": 188,
      "metadata": {
        "id": "ZTgAP-ootvMU"
      },
      "outputs": [],
      "source": [
        "import pandas as pd\n",
        "import numpy as np\n",
        "import matplotlib.pyplot as plt\n",
        "import seaborn as sns\n",
        "from scipy import stats\n",
        "from sklearn.cluster import KMeans\n",
        "from sklearn.preprocessing import LabelEncoder, OneHotEncoder\n",
        "from sklearn.preprocessing import StandardScaler\n",
        "from sklearn.decomposition import PCA\n",
        "from sklearn.model_selection import train_test_split\n",
        "from sklearn.metrics import silhouette_score"
      ]
    },
    {
      "cell_type": "code",
      "execution_count": 189,
      "metadata": {
        "colab": {
          "base_uri": "https://localhost:8080/"
        },
        "id": "rKiTtd4i3trb",
        "outputId": "029ab1ce-cf0d-4d2d-f895-1faca0a4dbb0"
      },
      "outputs": [
        {
          "output_type": "stream",
          "name": "stdout",
          "text": [
            "Drive already mounted at /content/drive; to attempt to forcibly remount, call drive.mount(\"/content/drive\", force_remount=True).\n"
          ]
        }
      ],
      "source": [
        "from google.colab import drive\n",
        "drive.mount('/content/drive')"
      ]
    },
    {
      "cell_type": "code",
      "execution_count": 190,
      "metadata": {
        "colab": {
          "base_uri": "https://localhost:8080/"
        },
        "id": "bSYhZjsr357i",
        "outputId": "6a56b9b9-564b-4815-a3f9-f3609f20d915"
      },
      "outputs": [
        {
          "output_type": "stream",
          "name": "stdout",
          "text": [
            "   Weight  Height  ht in MTRS        BMI Blood Pressure  Age at Reporting Sex  \\\n",
            "0    64.0   165.0       1.650  23.507805         118/73                51   F   \n",
            "1    56.4   168.8       1.688  19.794030         133/82                54   M   \n",
            "2    73.0   160.0       1.600  28.515625         104/57                54   F   \n",
            "3    62.0   161.0       1.610  23.918830         108/68                45   F   \n",
            "4    90.0   175.0       1.750  29.387755         126/88                34   F   \n",
            "\n",
            "          Popolation Type Date confirmed HIV Positive Date enrolled in HIV  \\\n",
            "0  General Population\\n\\n                  2014-06-10  2014-08-04 00:00:00   \n",
            "1  General Population\\n\\n                  2012-09-04  2014-03-24 00:00:00   \n",
            "2  General Population\\n\\n                  2013-07-11  2013-07-11 00:00:00   \n",
            "3  General Population\\n\\n                  2014-04-21  2014-04-21 00:00:00   \n",
            "4  General Population\\n\\n                  2013-07-16  2013-07-16 00:00:00   \n",
            "\n",
            "   ... TPT Outcome Date Establishment Differentiated Care Model  \\\n",
            "0  ...       2015-09-16   Established                Fast Track   \n",
            "1  ...       2016-04-11   Established                Fast Track   \n",
            "2  ...       2016-01-06   Established                Fast Track   \n",
            "3  ...       2016-09-06   Established             Standard Care   \n",
            "4  ...       2017-09-29   Established                Fast Track   \n",
            "\n",
            "  Last Visit Date Self Visit Date Next Appointment Date  \\\n",
            "0      2024-07-25      2024-07-25            2025-01-23   \n",
            "1      2024-07-23      2024-07-23            2025-01-21   \n",
            "2      2024-08-30      2024-08-30            2025-02-27   \n",
            "3      2024-08-05      2024-08-05            2024-11-04   \n",
            "4      2024-05-02      2024-05-02            2024-10-31   \n",
            "\n",
            "   Months Of Prescription Refill Date  AHD Client Medical Cover  \n",
            "0                       5  2024-10-30          No           NaN  \n",
            "1                       5  2024-10-24          No           NaN  \n",
            "2                       5  2024-11-28         Yes           NaN  \n",
            "3                       2  2024-01-31          No           NaN  \n",
            "4                       5  2024-08-01          No           NaN  \n",
            "\n",
            "[5 rows x 38 columns]\n"
          ]
        }
      ],
      "source": [
        "# Load the dataset\n",
        "df = pd.read_excel('/content/drive/MyDrive/Karatina Project/CLIENTS LIST.xlsx')\n",
        "# View the first few rows of the DataFrame\n",
        "print(df.head())"
      ]
    },
    {
      "cell_type": "code",
      "execution_count": 191,
      "metadata": {
        "colab": {
          "base_uri": "https://localhost:8080/"
        },
        "id": "wqPuSZC69vus",
        "outputId": "c41f20fc-457d-40c1-f066-5428c92751cc"
      },
      "outputs": [
        {
          "output_type": "stream",
          "name": "stdout",
          "text": [
            "Weight                            0\n",
            "Height                            0\n",
            "ht in MTRS                        0\n",
            "BMI                               0\n",
            "Blood Pressure                   34\n",
            "Age at Reporting                  0\n",
            "Sex                               0\n",
            "Popolation Type                   0\n",
            "Date confirmed HIV Positive       0\n",
            "Date enrolled in HIV              0\n",
            "ART Start Date                    0\n",
            "First Regimen                     0\n",
            "Current Regimen                   0\n",
            "Baseline CD4 result             644\n",
            "Baseline CD4 date               644\n",
            "Current Regimen Line              0\n",
            "Last WHO Stage                    0\n",
            "Last WHO Stage Date               0\n",
            "Last VL                          24\n",
            "Last VL Validity                 24\n",
            "Last VL Justification            37\n",
            "Last VL Date                     24\n",
            "Active in PMTCT                   0\n",
            "Active in OVC                     0\n",
            "Active in OTZ                     0\n",
            "Active in TB                      0\n",
            "TPT Start Date                   58\n",
            "TPT Outcome                      83\n",
            "TPT Outcome Date                 82\n",
            "Establishment                     1\n",
            "Differentiated Care Model         1\n",
            "Last Visit Date                   0\n",
            "Self Visit Date                   0\n",
            "Next Appointment Date             0\n",
            "Months Of Prescription            0\n",
            "Refill Date                     545\n",
            "AHD Client                        0\n",
            "Medical Cover                  2074\n",
            "dtype: int64\n"
          ]
        }
      ],
      "source": [
        "# Check for missing values\n",
        "print(df.isna().sum())"
      ]
    },
    {
      "cell_type": "code",
      "execution_count": 192,
      "metadata": {
        "id": "vUsNFR-3GjmO"
      },
      "outputs": [],
      "source": [
        "# Drop columns with too many missing values\n",
        "df = df.drop(columns=['Medical Cover'])\n",
        "\n",
        "# Split the 'Blood Pressure' column into systolic and diastolic\n",
        "df[['Systolic', 'Diastolic']] = df['Blood Pressure'].str.split('/', expand=True).astype(float)\n",
        "\n",
        "# Calculate the median for Systolic and Diastolic separately\n",
        "df['Systolic'].fillna(df['Systolic'].median(), inplace=True)\n",
        "df['Diastolic'].fillna(df['Diastolic'].median(), inplace=True)\n",
        "\n",
        "# Combine the Systolic and Diastolic columns back to 'Blood Pressure' in the desired format\n",
        "df['Blood Pressure'] = df['Systolic'].astype(str) + '/' + df['Diastolic'].astype(str)\n",
        "\n",
        "df['Last VL'].fillna(df['Last VL'].median(), inplace=True)"
      ]
    },
    {
      "cell_type": "code",
      "execution_count": 193,
      "metadata": {
        "colab": {
          "base_uri": "https://localhost:8080/"
        },
        "id": "v2ToIhV6HAM1",
        "outputId": "727f1f22-13fe-4dc5-93dd-10c7c3f87257"
      },
      "outputs": [
        {
          "output_type": "stream",
          "name": "stderr",
          "text": [
            "<ipython-input-193-c840372d844e>:2: FutureWarning: Series.fillna with 'method' is deprecated and will raise in a future version. Use obj.ffill() or obj.bfill() instead.\n",
            "  df['Baseline CD4 date'].fillna(method='ffill', inplace=True)\n",
            "<ipython-input-193-c840372d844e>:3: FutureWarning: Series.fillna with 'method' is deprecated and will raise in a future version. Use obj.ffill() or obj.bfill() instead.\n",
            "  df['TPT Outcome Date'].fillna(method='bfill', inplace=True)\n"
          ]
        }
      ],
      "source": [
        "# Fill missing values for date columns using forward fill or backward fill\n",
        "df['Baseline CD4 date'].fillna(method='ffill', inplace=True)\n",
        "df['TPT Outcome Date'].fillna(method='bfill', inplace=True)"
      ]
    },
    {
      "cell_type": "code",
      "execution_count": 194,
      "metadata": {
        "id": "eo_H3DXqHKU7"
      },
      "outputs": [],
      "source": [
        "# For categorical columns, you can fill missing values with the most frequent value\n",
        "df['Last VL Justification'].fillna(df['Last VL Justification'].mode()[0], inplace=True)\n",
        "# Drop rows where critical values like CD4 counts or visit dates are missing\n",
        "df = df.dropna(subset=['Baseline CD4 result', 'Last Visit Date'])"
      ]
    },
    {
      "cell_type": "code",
      "execution_count": 195,
      "metadata": {
        "colab": {
          "base_uri": "https://localhost:8080/"
        },
        "id": "ouGG51qPHP1m",
        "outputId": "819d09d8-3f35-4fa3-c805-165514ecd41b"
      },
      "outputs": [
        {
          "output_type": "stream",
          "name": "stdout",
          "text": [
            "Weight                           0\n",
            "Height                           0\n",
            "ht in MTRS                       0\n",
            "BMI                              0\n",
            "Blood Pressure                   0\n",
            "Age at Reporting                 0\n",
            "Sex                              0\n",
            "Popolation Type                  0\n",
            "Date confirmed HIV Positive      0\n",
            "Date enrolled in HIV             0\n",
            "ART Start Date                   0\n",
            "First Regimen                    0\n",
            "Current Regimen                  0\n",
            "Baseline CD4 result              0\n",
            "Baseline CD4 date                0\n",
            "Current Regimen Line             0\n",
            "Last WHO Stage                   0\n",
            "Last WHO Stage Date              0\n",
            "Last VL                          0\n",
            "Last VL Validity                 6\n",
            "Last VL Justification            0\n",
            "Last VL Date                     6\n",
            "Active in PMTCT                  0\n",
            "Active in OVC                    0\n",
            "Active in OTZ                    0\n",
            "Active in TB                     0\n",
            "TPT Start Date                  36\n",
            "TPT Outcome                     46\n",
            "TPT Outcome Date                 0\n",
            "Establishment                    0\n",
            "Differentiated Care Model        0\n",
            "Last Visit Date                  0\n",
            "Self Visit Date                  0\n",
            "Next Appointment Date            0\n",
            "Months Of Prescription           0\n",
            "Refill Date                    385\n",
            "AHD Client                       0\n",
            "Systolic                         0\n",
            "Diastolic                        0\n",
            "dtype: int64\n"
          ]
        }
      ],
      "source": [
        "#Check again for missing values\n",
        "print(df.isnull().sum())"
      ]
    },
    {
      "cell_type": "code",
      "execution_count": 196,
      "metadata": {
        "colab": {
          "base_uri": "https://localhost:8080/"
        },
        "id": "EsJrcATQ9QLf",
        "outputId": "2f77af2a-d0b0-46da-ecb2-8d399fea8263"
      },
      "outputs": [
        {
          "output_type": "stream",
          "name": "stdout",
          "text": [
            "(1922, 39)\n"
          ]
        }
      ],
      "source": [
        "print(df.shape)"
      ]
    },
    {
      "cell_type": "code",
      "execution_count": 197,
      "metadata": {
        "id": "IxknyqCn-Q_K"
      },
      "outputs": [],
      "source": [
        "# Save cleaned data\n",
        "df.to_excel(\"cleaned_data.xlsx\", index=False)"
      ]
    },
    {
      "cell_type": "code",
      "source": [
        "df = pd.read_excel('/content/drive/MyDrive/Karatina Project/cleaned_data.xlsx')\n",
        "print(df.head())"
      ],
      "metadata": {
        "colab": {
          "base_uri": "https://localhost:8080/"
        },
        "id": "HtjyByO3KzAW",
        "outputId": "4f971c84-b5dd-4393-a3db-d827e9c9dc9e"
      },
      "execution_count": 200,
      "outputs": [
        {
          "output_type": "stream",
          "name": "stdout",
          "text": [
            "   Weight  Height  ht in MTRS        BMI Blood Pressure  Age at Reporting Sex  \\\n",
            "0    73.0   160.0       1.600  28.515625     104.0/57.0                54   F   \n",
            "1    90.0   175.0       1.750  29.387755     126.0/88.0                34   F   \n",
            "2    73.0   157.0       1.570  29.615806     115.0/83.0                31   F   \n",
            "3    90.0   159.9       1.599  35.200237     102.0/65.0                42   F   \n",
            "4    62.2   174.0       1.740  20.544326      94.0/65.0                48   M   \n",
            "\n",
            "          Popolation Type Date confirmed HIV Positive Date enrolled in HIV  \\\n",
            "0  General Population\\n\\n                  2013-07-11  2013-07-11 00:00:00   \n",
            "1  General Population\\n\\n                  2013-07-16  2013-07-16 00:00:00   \n",
            "2  General Population\\n\\n                  2013-07-16  2013-07-16 00:00:00   \n",
            "3                    \\n\\n                  2013-09-17  2013-09-17 00:00:00   \n",
            "4  General Population\\n\\n                  2008-06-15  2013-07-15 00:00:00   \n",
            "\n",
            "   ...    Establishment Differentiated Care Model Last Visit Date  \\\n",
            "0  ...      Established                Fast Track      2024-08-30   \n",
            "1  ...      Established                Fast Track      2024-05-02   \n",
            "2  ...      Established                Fast Track      2024-06-19   \n",
            "3  ...      Established             Standard Care      2024-06-04   \n",
            "4  ...  Not Established             Standard Care      2024-07-03   \n",
            "\n",
            "  Self Visit Date Next Appointment Date Months Of Prescription  Refill Date  \\\n",
            "0      2024-08-30            2025-02-27                      5   2024-11-28   \n",
            "1      2024-05-02            2024-10-31                      5   2024-08-01   \n",
            "2      2024-06-19            2025-01-14                      6   2024-09-18   \n",
            "3      2024-03-07            2024-09-03                      2   2023-06-07   \n",
            "4      2024-07-03            2024-10-02                      2   2021-03-11   \n",
            "\n",
            "  AHD Client  Systolic Diastolic  \n",
            "0        Yes       104        57  \n",
            "1         No       126        88  \n",
            "2         No       115        83  \n",
            "3        Yes       102        65  \n",
            "4         No        94        65  \n",
            "\n",
            "[5 rows x 39 columns]\n"
          ]
        }
      ]
    },
    {
      "cell_type": "code",
      "execution_count": 201,
      "metadata": {
        "colab": {
          "base_uri": "https://localhost:8080/"
        },
        "id": "dxT-wuYvL5zV",
        "outputId": "a01fd3cd-816a-4ec4-cc9e-ff457234be7a"
      },
      "outputs": [
        {
          "output_type": "stream",
          "name": "stdout",
          "text": [
            "Numerical Columns: Index(['Weight', 'Height', 'ht in MTRS', 'BMI', 'Age at Reporting',\n",
            "       'Last WHO Stage', 'Last VL', 'Months Of Prescription', 'Systolic',\n",
            "       'Diastolic'],\n",
            "      dtype='object')\n",
            "Categorical Columns: Index(['Blood Pressure', 'Sex', 'Popolation Type', 'Date enrolled in HIV',\n",
            "       'First Regimen', 'Current Regimen', 'Baseline CD4 result',\n",
            "       'Baseline CD4 date', 'Current Regimen Line', 'Last VL Validity',\n",
            "       'Last VL Justification', 'Active in PMTCT', 'Active in OVC',\n",
            "       'Active in OTZ', 'Active in TB', 'TPT Outcome', 'Establishment',\n",
            "       'Differentiated Care Model', 'AHD Client'],\n",
            "      dtype='object')\n"
          ]
        }
      ],
      "source": [
        "# Separate numerical and categorical variables\n",
        "numerical_cols = df.select_dtypes(include=['int64', 'float64']).columns\n",
        "categorical_cols = df.select_dtypes(include=['object', 'category']).columns\n",
        "\n",
        "print(\"Numerical Columns:\", numerical_cols)\n",
        "print(\"Categorical Columns:\", categorical_cols)"
      ]
    },
    {
      "cell_type": "code",
      "execution_count": 237,
      "metadata": {
        "id": "hYstvvnpNhsx"
      },
      "outputs": [],
      "source": [
        "# Handle categorical encoding\n",
        "label_encoder = LabelEncoder()\n",
        "\n",
        "df['Sex'] = label_encoder.fit_transform(df['Sex'])\n",
        "df['Popolation Type'] = label_encoder.fit_transform(df['Popolation Type'])\n",
        "df['Current Regimen Line'] = label_encoder.fit_transform(df['Current Regimen Line'])\n",
        "df['Current Regimen'] = label_encoder.fit_transform(df['Current Regimen'])\n"
      ]
    },
    {
      "cell_type": "code",
      "execution_count": 238,
      "metadata": {
        "colab": {
          "base_uri": "https://localhost:8080/",
          "height": 481
        },
        "id": "jZeFnI7UOQYa",
        "outputId": "b8e29b72-527d-4d9a-ff67-0863a39f2ffe"
      },
      "outputs": [
        {
          "output_type": "execute_result",
          "data": {
            "text/plain": [
              "   Weight  Height  ht in MTRS        BMI Blood Pressure  Age at Reporting  \\\n",
              "0    73.0   160.0       1.600  28.515625     104.0/57.0                54   \n",
              "1    90.0   175.0       1.750  29.387755     126.0/88.0                34   \n",
              "2    73.0   157.0       1.570  29.615806     115.0/83.0                31   \n",
              "3    90.0   159.9       1.599  35.200237     102.0/65.0                42   \n",
              "4    62.2   174.0       1.740  20.544326      94.0/65.0                48   \n",
              "\n",
              "   Sex  Popolation Type Date confirmed HIV Positive Date enrolled in HIV  ...  \\\n",
              "0    0                1                  2013-07-11  2013-07-11 00:00:00  ...   \n",
              "1    0                1                  2013-07-16  2013-07-16 00:00:00  ...   \n",
              "2    0                1                  2013-07-16  2013-07-16 00:00:00  ...   \n",
              "3    0                0                  2013-09-17  2013-09-17 00:00:00  ...   \n",
              "4    1                1                  2008-06-15  2013-07-15 00:00:00  ...   \n",
              "\n",
              "  Differentiated Care Model Last Visit Date  Self Visit Date  \\\n",
              "0                Fast Track      2024-08-30       2024-08-30   \n",
              "1                Fast Track      2024-05-02       2024-05-02   \n",
              "2                Fast Track      2024-06-19       2024-06-19   \n",
              "3             Standard Care      2024-06-04       2024-03-07   \n",
              "4             Standard Care      2024-07-03       2024-07-03   \n",
              "\n",
              "   Next Appointment Date Months Of Prescription  Refill Date  AHD Client  \\\n",
              "0             2025-02-27                      5   2024-11-28         Yes   \n",
              "1             2024-10-31                      5   2024-08-01          No   \n",
              "2             2025-01-14                      6   2024-09-18          No   \n",
              "3             2024-09-03                      2   2023-06-07         Yes   \n",
              "4             2024-10-02                      2   2021-03-11          No   \n",
              "\n",
              "  Systolic  Diastolic cluster_labels  \n",
              "0      104         57              0  \n",
              "1      126         88              0  \n",
              "2      115         83              0  \n",
              "3      102         65              0  \n",
              "4       94         65              2  \n",
              "\n",
              "[5 rows x 40 columns]"
            ],
            "text/html": [
              "\n",
              "  <div id=\"df-887aeb1b-b14c-47aa-befa-2da628d26148\" class=\"colab-df-container\">\n",
              "    <div>\n",
              "<style scoped>\n",
              "    .dataframe tbody tr th:only-of-type {\n",
              "        vertical-align: middle;\n",
              "    }\n",
              "\n",
              "    .dataframe tbody tr th {\n",
              "        vertical-align: top;\n",
              "    }\n",
              "\n",
              "    .dataframe thead th {\n",
              "        text-align: right;\n",
              "    }\n",
              "</style>\n",
              "<table border=\"1\" class=\"dataframe\">\n",
              "  <thead>\n",
              "    <tr style=\"text-align: right;\">\n",
              "      <th></th>\n",
              "      <th>Weight</th>\n",
              "      <th>Height</th>\n",
              "      <th>ht in MTRS</th>\n",
              "      <th>BMI</th>\n",
              "      <th>Blood Pressure</th>\n",
              "      <th>Age at Reporting</th>\n",
              "      <th>Sex</th>\n",
              "      <th>Popolation Type</th>\n",
              "      <th>Date confirmed HIV Positive</th>\n",
              "      <th>Date enrolled in HIV</th>\n",
              "      <th>...</th>\n",
              "      <th>Differentiated Care Model</th>\n",
              "      <th>Last Visit Date</th>\n",
              "      <th>Self Visit Date</th>\n",
              "      <th>Next Appointment Date</th>\n",
              "      <th>Months Of Prescription</th>\n",
              "      <th>Refill Date</th>\n",
              "      <th>AHD Client</th>\n",
              "      <th>Systolic</th>\n",
              "      <th>Diastolic</th>\n",
              "      <th>cluster_labels</th>\n",
              "    </tr>\n",
              "  </thead>\n",
              "  <tbody>\n",
              "    <tr>\n",
              "      <th>0</th>\n",
              "      <td>73.0</td>\n",
              "      <td>160.0</td>\n",
              "      <td>1.600</td>\n",
              "      <td>28.515625</td>\n",
              "      <td>104.0/57.0</td>\n",
              "      <td>54</td>\n",
              "      <td>0</td>\n",
              "      <td>1</td>\n",
              "      <td>2013-07-11</td>\n",
              "      <td>2013-07-11 00:00:00</td>\n",
              "      <td>...</td>\n",
              "      <td>Fast Track</td>\n",
              "      <td>2024-08-30</td>\n",
              "      <td>2024-08-30</td>\n",
              "      <td>2025-02-27</td>\n",
              "      <td>5</td>\n",
              "      <td>2024-11-28</td>\n",
              "      <td>Yes</td>\n",
              "      <td>104</td>\n",
              "      <td>57</td>\n",
              "      <td>0</td>\n",
              "    </tr>\n",
              "    <tr>\n",
              "      <th>1</th>\n",
              "      <td>90.0</td>\n",
              "      <td>175.0</td>\n",
              "      <td>1.750</td>\n",
              "      <td>29.387755</td>\n",
              "      <td>126.0/88.0</td>\n",
              "      <td>34</td>\n",
              "      <td>0</td>\n",
              "      <td>1</td>\n",
              "      <td>2013-07-16</td>\n",
              "      <td>2013-07-16 00:00:00</td>\n",
              "      <td>...</td>\n",
              "      <td>Fast Track</td>\n",
              "      <td>2024-05-02</td>\n",
              "      <td>2024-05-02</td>\n",
              "      <td>2024-10-31</td>\n",
              "      <td>5</td>\n",
              "      <td>2024-08-01</td>\n",
              "      <td>No</td>\n",
              "      <td>126</td>\n",
              "      <td>88</td>\n",
              "      <td>0</td>\n",
              "    </tr>\n",
              "    <tr>\n",
              "      <th>2</th>\n",
              "      <td>73.0</td>\n",
              "      <td>157.0</td>\n",
              "      <td>1.570</td>\n",
              "      <td>29.615806</td>\n",
              "      <td>115.0/83.0</td>\n",
              "      <td>31</td>\n",
              "      <td>0</td>\n",
              "      <td>1</td>\n",
              "      <td>2013-07-16</td>\n",
              "      <td>2013-07-16 00:00:00</td>\n",
              "      <td>...</td>\n",
              "      <td>Fast Track</td>\n",
              "      <td>2024-06-19</td>\n",
              "      <td>2024-06-19</td>\n",
              "      <td>2025-01-14</td>\n",
              "      <td>6</td>\n",
              "      <td>2024-09-18</td>\n",
              "      <td>No</td>\n",
              "      <td>115</td>\n",
              "      <td>83</td>\n",
              "      <td>0</td>\n",
              "    </tr>\n",
              "    <tr>\n",
              "      <th>3</th>\n",
              "      <td>90.0</td>\n",
              "      <td>159.9</td>\n",
              "      <td>1.599</td>\n",
              "      <td>35.200237</td>\n",
              "      <td>102.0/65.0</td>\n",
              "      <td>42</td>\n",
              "      <td>0</td>\n",
              "      <td>0</td>\n",
              "      <td>2013-09-17</td>\n",
              "      <td>2013-09-17 00:00:00</td>\n",
              "      <td>...</td>\n",
              "      <td>Standard Care</td>\n",
              "      <td>2024-06-04</td>\n",
              "      <td>2024-03-07</td>\n",
              "      <td>2024-09-03</td>\n",
              "      <td>2</td>\n",
              "      <td>2023-06-07</td>\n",
              "      <td>Yes</td>\n",
              "      <td>102</td>\n",
              "      <td>65</td>\n",
              "      <td>0</td>\n",
              "    </tr>\n",
              "    <tr>\n",
              "      <th>4</th>\n",
              "      <td>62.2</td>\n",
              "      <td>174.0</td>\n",
              "      <td>1.740</td>\n",
              "      <td>20.544326</td>\n",
              "      <td>94.0/65.0</td>\n",
              "      <td>48</td>\n",
              "      <td>1</td>\n",
              "      <td>1</td>\n",
              "      <td>2008-06-15</td>\n",
              "      <td>2013-07-15 00:00:00</td>\n",
              "      <td>...</td>\n",
              "      <td>Standard Care</td>\n",
              "      <td>2024-07-03</td>\n",
              "      <td>2024-07-03</td>\n",
              "      <td>2024-10-02</td>\n",
              "      <td>2</td>\n",
              "      <td>2021-03-11</td>\n",
              "      <td>No</td>\n",
              "      <td>94</td>\n",
              "      <td>65</td>\n",
              "      <td>2</td>\n",
              "    </tr>\n",
              "  </tbody>\n",
              "</table>\n",
              "<p>5 rows × 40 columns</p>\n",
              "</div>\n",
              "    <div class=\"colab-df-buttons\">\n",
              "\n",
              "  <div class=\"colab-df-container\">\n",
              "    <button class=\"colab-df-convert\" onclick=\"convertToInteractive('df-887aeb1b-b14c-47aa-befa-2da628d26148')\"\n",
              "            title=\"Convert this dataframe to an interactive table.\"\n",
              "            style=\"display:none;\">\n",
              "\n",
              "  <svg xmlns=\"http://www.w3.org/2000/svg\" height=\"24px\" viewBox=\"0 -960 960 960\">\n",
              "    <path d=\"M120-120v-720h720v720H120Zm60-500h600v-160H180v160Zm220 220h160v-160H400v160Zm0 220h160v-160H400v160ZM180-400h160v-160H180v160Zm440 0h160v-160H620v160ZM180-180h160v-160H180v160Zm440 0h160v-160H620v160Z\"/>\n",
              "  </svg>\n",
              "    </button>\n",
              "\n",
              "  <style>\n",
              "    .colab-df-container {\n",
              "      display:flex;\n",
              "      gap: 12px;\n",
              "    }\n",
              "\n",
              "    .colab-df-convert {\n",
              "      background-color: #E8F0FE;\n",
              "      border: none;\n",
              "      border-radius: 50%;\n",
              "      cursor: pointer;\n",
              "      display: none;\n",
              "      fill: #1967D2;\n",
              "      height: 32px;\n",
              "      padding: 0 0 0 0;\n",
              "      width: 32px;\n",
              "    }\n",
              "\n",
              "    .colab-df-convert:hover {\n",
              "      background-color: #E2EBFA;\n",
              "      box-shadow: 0px 1px 2px rgba(60, 64, 67, 0.3), 0px 1px 3px 1px rgba(60, 64, 67, 0.15);\n",
              "      fill: #174EA6;\n",
              "    }\n",
              "\n",
              "    .colab-df-buttons div {\n",
              "      margin-bottom: 4px;\n",
              "    }\n",
              "\n",
              "    [theme=dark] .colab-df-convert {\n",
              "      background-color: #3B4455;\n",
              "      fill: #D2E3FC;\n",
              "    }\n",
              "\n",
              "    [theme=dark] .colab-df-convert:hover {\n",
              "      background-color: #434B5C;\n",
              "      box-shadow: 0px 1px 3px 1px rgba(0, 0, 0, 0.15);\n",
              "      filter: drop-shadow(0px 1px 2px rgba(0, 0, 0, 0.3));\n",
              "      fill: #FFFFFF;\n",
              "    }\n",
              "  </style>\n",
              "\n",
              "    <script>\n",
              "      const buttonEl =\n",
              "        document.querySelector('#df-887aeb1b-b14c-47aa-befa-2da628d26148 button.colab-df-convert');\n",
              "      buttonEl.style.display =\n",
              "        google.colab.kernel.accessAllowed ? 'block' : 'none';\n",
              "\n",
              "      async function convertToInteractive(key) {\n",
              "        const element = document.querySelector('#df-887aeb1b-b14c-47aa-befa-2da628d26148');\n",
              "        const dataTable =\n",
              "          await google.colab.kernel.invokeFunction('convertToInteractive',\n",
              "                                                    [key], {});\n",
              "        if (!dataTable) return;\n",
              "\n",
              "        const docLinkHtml = 'Like what you see? Visit the ' +\n",
              "          '<a target=\"_blank\" href=https://colab.research.google.com/notebooks/data_table.ipynb>data table notebook</a>'\n",
              "          + ' to learn more about interactive tables.';\n",
              "        element.innerHTML = '';\n",
              "        dataTable['output_type'] = 'display_data';\n",
              "        await google.colab.output.renderOutput(dataTable, element);\n",
              "        const docLink = document.createElement('div');\n",
              "        docLink.innerHTML = docLinkHtml;\n",
              "        element.appendChild(docLink);\n",
              "      }\n",
              "    </script>\n",
              "  </div>\n",
              "\n",
              "\n",
              "<div id=\"df-ae4ad936-2ed5-4bca-b157-9f7029a0e846\">\n",
              "  <button class=\"colab-df-quickchart\" onclick=\"quickchart('df-ae4ad936-2ed5-4bca-b157-9f7029a0e846')\"\n",
              "            title=\"Suggest charts\"\n",
              "            style=\"display:none;\">\n",
              "\n",
              "<svg xmlns=\"http://www.w3.org/2000/svg\" height=\"24px\"viewBox=\"0 0 24 24\"\n",
              "     width=\"24px\">\n",
              "    <g>\n",
              "        <path d=\"M19 3H5c-1.1 0-2 .9-2 2v14c0 1.1.9 2 2 2h14c1.1 0 2-.9 2-2V5c0-1.1-.9-2-2-2zM9 17H7v-7h2v7zm4 0h-2V7h2v10zm4 0h-2v-4h2v4z\"/>\n",
              "    </g>\n",
              "</svg>\n",
              "  </button>\n",
              "\n",
              "<style>\n",
              "  .colab-df-quickchart {\n",
              "      --bg-color: #E8F0FE;\n",
              "      --fill-color: #1967D2;\n",
              "      --hover-bg-color: #E2EBFA;\n",
              "      --hover-fill-color: #174EA6;\n",
              "      --disabled-fill-color: #AAA;\n",
              "      --disabled-bg-color: #DDD;\n",
              "  }\n",
              "\n",
              "  [theme=dark] .colab-df-quickchart {\n",
              "      --bg-color: #3B4455;\n",
              "      --fill-color: #D2E3FC;\n",
              "      --hover-bg-color: #434B5C;\n",
              "      --hover-fill-color: #FFFFFF;\n",
              "      --disabled-bg-color: #3B4455;\n",
              "      --disabled-fill-color: #666;\n",
              "  }\n",
              "\n",
              "  .colab-df-quickchart {\n",
              "    background-color: var(--bg-color);\n",
              "    border: none;\n",
              "    border-radius: 50%;\n",
              "    cursor: pointer;\n",
              "    display: none;\n",
              "    fill: var(--fill-color);\n",
              "    height: 32px;\n",
              "    padding: 0;\n",
              "    width: 32px;\n",
              "  }\n",
              "\n",
              "  .colab-df-quickchart:hover {\n",
              "    background-color: var(--hover-bg-color);\n",
              "    box-shadow: 0 1px 2px rgba(60, 64, 67, 0.3), 0 1px 3px 1px rgba(60, 64, 67, 0.15);\n",
              "    fill: var(--button-hover-fill-color);\n",
              "  }\n",
              "\n",
              "  .colab-df-quickchart-complete:disabled,\n",
              "  .colab-df-quickchart-complete:disabled:hover {\n",
              "    background-color: var(--disabled-bg-color);\n",
              "    fill: var(--disabled-fill-color);\n",
              "    box-shadow: none;\n",
              "  }\n",
              "\n",
              "  .colab-df-spinner {\n",
              "    border: 2px solid var(--fill-color);\n",
              "    border-color: transparent;\n",
              "    border-bottom-color: var(--fill-color);\n",
              "    animation:\n",
              "      spin 1s steps(1) infinite;\n",
              "  }\n",
              "\n",
              "  @keyframes spin {\n",
              "    0% {\n",
              "      border-color: transparent;\n",
              "      border-bottom-color: var(--fill-color);\n",
              "      border-left-color: var(--fill-color);\n",
              "    }\n",
              "    20% {\n",
              "      border-color: transparent;\n",
              "      border-left-color: var(--fill-color);\n",
              "      border-top-color: var(--fill-color);\n",
              "    }\n",
              "    30% {\n",
              "      border-color: transparent;\n",
              "      border-left-color: var(--fill-color);\n",
              "      border-top-color: var(--fill-color);\n",
              "      border-right-color: var(--fill-color);\n",
              "    }\n",
              "    40% {\n",
              "      border-color: transparent;\n",
              "      border-right-color: var(--fill-color);\n",
              "      border-top-color: var(--fill-color);\n",
              "    }\n",
              "    60% {\n",
              "      border-color: transparent;\n",
              "      border-right-color: var(--fill-color);\n",
              "    }\n",
              "    80% {\n",
              "      border-color: transparent;\n",
              "      border-right-color: var(--fill-color);\n",
              "      border-bottom-color: var(--fill-color);\n",
              "    }\n",
              "    90% {\n",
              "      border-color: transparent;\n",
              "      border-bottom-color: var(--fill-color);\n",
              "    }\n",
              "  }\n",
              "</style>\n",
              "\n",
              "  <script>\n",
              "    async function quickchart(key) {\n",
              "      const quickchartButtonEl =\n",
              "        document.querySelector('#' + key + ' button');\n",
              "      quickchartButtonEl.disabled = true;  // To prevent multiple clicks.\n",
              "      quickchartButtonEl.classList.add('colab-df-spinner');\n",
              "      try {\n",
              "        const charts = await google.colab.kernel.invokeFunction(\n",
              "            'suggestCharts', [key], {});\n",
              "      } catch (error) {\n",
              "        console.error('Error during call to suggestCharts:', error);\n",
              "      }\n",
              "      quickchartButtonEl.classList.remove('colab-df-spinner');\n",
              "      quickchartButtonEl.classList.add('colab-df-quickchart-complete');\n",
              "    }\n",
              "    (() => {\n",
              "      let quickchartButtonEl =\n",
              "        document.querySelector('#df-ae4ad936-2ed5-4bca-b157-9f7029a0e846 button');\n",
              "      quickchartButtonEl.style.display =\n",
              "        google.colab.kernel.accessAllowed ? 'block' : 'none';\n",
              "    })();\n",
              "  </script>\n",
              "</div>\n",
              "\n",
              "    </div>\n",
              "  </div>\n"
            ],
            "application/vnd.google.colaboratory.intrinsic+json": {
              "type": "dataframe",
              "variable_name": "df"
            }
          },
          "metadata": {},
          "execution_count": 238
        }
      ],
      "source": [
        "df.head()"
      ]
    },
    {
      "cell_type": "code",
      "execution_count": 239,
      "metadata": {
        "id": "MwoKpqzIIPp1"
      },
      "outputs": [],
      "source": [
        "#standardization\n",
        "continuous_cols = ['Weight', 'Height','Blood Pressure', 'BMI', 'Age at Reporting']\n",
        "#'Blood Pressure' column\n",
        "df[['Systolic', 'Diastolic']] = df['Blood Pressure'].str.split('/', expand=True).astype(float)\n",
        "\n",
        "# Update continuous_cols\n",
        "continuous_cols = ['Weight', 'Height', 'Systolic', 'Diastolic', 'BMI', 'Age at Reporting']\n",
        "\n",
        "# Now scale the data\n",
        "scaler = StandardScaler()\n",
        "df[continuous_cols] = scaler.fit_transform(df[continuous_cols])"
      ]
    },
    {
      "cell_type": "code",
      "execution_count": 214,
      "metadata": {
        "colab": {
          "base_uri": "https://localhost:8080/"
        },
        "id": "uogdXz6sJ4f1",
        "outputId": "d8857450-a306-4372-a742-d91e0fb39303"
      },
      "outputs": [
        {
          "output_type": "stream",
          "name": "stdout",
          "text": [
            "     Weight    Height  Systolic  Diastolic       BMI  Age at Reporting\n",
            "0  0.687485 -0.103844 -0.586998  -1.152144  0.776238          0.503237\n",
            "1  1.916363  1.438565  0.266883   0.795953  0.944725         -0.941347\n",
            "2  0.687485 -0.412326 -0.160057   0.481744  0.988782         -1.158035\n",
            "3  1.916363 -0.114127 -0.664623  -0.649409  2.067638         -0.363514\n",
            "4 -0.093213  1.335738 -0.975126  -0.649409 -0.763738          0.069862\n"
          ]
        }
      ],
      "source": [
        "# Check the standardized data\n",
        "print(df[continuous_cols].head())"
      ]
    },
    {
      "cell_type": "code",
      "execution_count": 248,
      "metadata": {
        "id": "5r93yh19QWjf"
      },
      "outputs": [],
      "source": [
        "# Save the standardized dataframe\n",
        "df.to_excel('standardized_data.xlsx', index=False)"
      ]
    },
    {
      "cell_type": "code",
      "source": [
        "df[\"Current Regimen\"].unique()"
      ],
      "metadata": {
        "colab": {
          "base_uri": "https://localhost:8080/"
        },
        "id": "hqmAhc_GSXDy",
        "outputId": "87d0c90b-b03d-448c-81c8-cdcddf18e5f7"
      },
      "execution_count": 249,
      "outputs": [
        {
          "output_type": "execute_result",
          "data": {
            "text/plain": [
              "array(['TDF/3TC/DTG', 'AZT/3TC/ATV/r', 'TDF/3TC/ATV/r', 'AZT/3TC/DTG',\n",
              "       'ABC+3TC+ATV/r', 'ABC/3TC/DTG', 'TDF/3TC/DTG/DRV/r'], dtype=object)"
            ]
          },
          "metadata": {},
          "execution_count": 249
        }
      ]
    },
    {
      "cell_type": "code",
      "source": [
        "df[\"Current Regimen Line\"].unique()"
      ],
      "metadata": {
        "colab": {
          "base_uri": "https://localhost:8080/"
        },
        "id": "MNABfGhyOHzD",
        "outputId": "ab9f3387-1dcd-4b1e-fc51-27cd6e13b45a"
      },
      "execution_count": 244,
      "outputs": [
        {
          "output_type": "execute_result",
          "data": {
            "text/plain": [
              "array([0, 1, 2])"
            ]
          },
          "metadata": {},
          "execution_count": 244
        }
      ]
    },
    {
      "cell_type": "code",
      "source": [
        "df = pd.read_excel('/content/drive/MyDrive/Karatina Project/standardized_data.xlsx')\n",
        "print(df.head())"
      ],
      "metadata": {
        "colab": {
          "base_uri": "https://localhost:8080/"
        },
        "id": "dRRJqKtULdOK",
        "outputId": "98457174-35fe-4544-8fc3-0c16127b6d59"
      },
      "execution_count": 245,
      "outputs": [
        {
          "output_type": "stream",
          "name": "stdout",
          "text": [
            "     Weight    Height  ht in MTRS       BMI Blood Pressure  Age at Reporting  \\\n",
            "0  0.687485 -0.103844       1.600  0.776238     104.0/57.0          0.503237   \n",
            "1  1.916363  1.438565       1.750  0.944725     126.0/88.0         -0.941347   \n",
            "2  0.687485 -0.412326       1.570  0.988782     115.0/83.0         -1.158035   \n",
            "3  1.916363 -0.114127       1.599  2.067638     102.0/65.0         -0.363514   \n",
            "4 -0.093213  1.335738       1.740 -0.763738      94.0/65.0          0.069862   \n",
            "\n",
            "   Sex  Popolation Type Date confirmed HIV Positive Date enrolled in HIV  ...  \\\n",
            "0    0                1                  2013-07-11  2013-07-11 00:00:00  ...   \n",
            "1    0                1                  2013-07-16  2013-07-16 00:00:00  ...   \n",
            "2    0                1                  2013-07-16  2013-07-16 00:00:00  ...   \n",
            "3    0                0                  2013-09-17  2013-09-17 00:00:00  ...   \n",
            "4    1                1                  2008-06-15  2013-07-15 00:00:00  ...   \n",
            "\n",
            "     Establishment Differentiated Care Model Last Visit Date Self Visit Date  \\\n",
            "0      Established                Fast Track      2024-08-30      2024-08-30   \n",
            "1      Established                Fast Track      2024-05-02      2024-05-02   \n",
            "2      Established                Fast Track      2024-06-19      2024-06-19   \n",
            "3      Established             Standard Care      2024-06-04      2024-03-07   \n",
            "4  Not Established             Standard Care      2024-07-03      2024-07-03   \n",
            "\n",
            "  Next Appointment Date  Months Of Prescription  Refill Date AHD Client  \\\n",
            "0            2025-02-27                       5   2024-11-28        Yes   \n",
            "1            2024-10-31                       5   2024-08-01         No   \n",
            "2            2025-01-14                       6   2024-09-18         No   \n",
            "3            2024-09-03                       2   2023-06-07        Yes   \n",
            "4            2024-10-02                       2   2021-03-11         No   \n",
            "\n",
            "   Systolic Diastolic  \n",
            "0 -0.586998 -1.152144  \n",
            "1  0.266883  0.795953  \n",
            "2 -0.160057  0.481744  \n",
            "3 -0.664623 -0.649409  \n",
            "4 -0.975126 -0.649409  \n",
            "\n",
            "[5 rows x 39 columns]\n"
          ]
        }
      ]
    },
    {
      "cell_type": "code",
      "execution_count": 217,
      "metadata": {
        "colab": {
          "base_uri": "https://localhost:8080/"
        },
        "id": "Ld_V-Sy1rq0J",
        "outputId": "8a5106c4-cc43-42e3-9c74-451dd3bb6fa2"
      },
      "outputs": [
        {
          "output_type": "execute_result",
          "data": {
            "text/plain": [
              "array(['TDF/3TC/DTG', 'AZT/3TC/ATV/r', 'TDF/3TC/ATV/r', 'AZT/3TC/DTG',\n",
              "       'ABC+3TC+ATV/r', 'ABC/3TC/DTG', 'TDF/3TC/DTG/DRV/r'], dtype=object)"
            ]
          },
          "metadata": {},
          "execution_count": 217
        }
      ],
      "source": [
        "df[\"Current Regimen\"].unique()"
      ]
    },
    {
      "cell_type": "code",
      "source": [
        "df[\"Sex\"].unique()"
      ],
      "metadata": {
        "colab": {
          "base_uri": "https://localhost:8080/"
        },
        "id": "O_r4EytoyFs5",
        "outputId": "a50ce719-9dae-4efd-c6e1-0562386a26a3"
      },
      "execution_count": 218,
      "outputs": [
        {
          "output_type": "execute_result",
          "data": {
            "text/plain": [
              "array([0, 1])"
            ]
          },
          "metadata": {},
          "execution_count": 218
        }
      ]
    },
    {
      "cell_type": "code",
      "source": [
        "# 3 Select key features\n",
        "selected_features = [\n",
        "    'Weight', 'Height', 'BMI', 'Blood Pressure', 'Age at Reporting',\n",
        "    'Baseline CD4 result', 'Last VL', 'Systolic', 'Diastolic',\n",
        "    'Sex', 'Popolation Type', 'Current Regimen', 'First Regimen',\n",
        "    'Current Regimen Line', 'Last WHO Stage'\n",
        "]\n",
        "# Filter the dataset\n",
        "df_selected = df[selected_features]"
      ],
      "metadata": {
        "id": "Pd7PvORU1Ugi"
      },
      "execution_count": 219,
      "outputs": []
    },
    {
      "cell_type": "code",
      "source": [
        "#4a Summary statistics\n",
        "#df = pd.read_excel('/content/drive/MyDrive/Karatina Project/cleaned_data.xlsx')\n",
        "summary_stats = df[['Weight','Height', 'Systolic', 'Diastolic', 'Age at Reporting']].describe().T[['mean', '50%', 'std']]\n",
        "summary_stats.rename(columns={'50%': 'median'}, inplace=True)\n",
        "\n",
        "print(summary_stats)\n"
      ],
      "metadata": {
        "colab": {
          "base_uri": "https://localhost:8080/"
        },
        "id": "50GMGmA7hV2U",
        "outputId": "8abfce4d-3404-4d1f-ab17-b9704f9b3c84"
      },
      "execution_count": 221,
      "outputs": [
        {
          "output_type": "stream",
          "name": "stdout",
          "text": [
            "                        mean  median        std\n",
            "Weight             63.489490    62.0  13.837364\n",
            "Height            161.009886   160.0   9.727577\n",
            "Systolic          119.123829   119.0  25.771415\n",
            "Diastolic          75.334027    76.0  15.917106\n",
            "Age at Reporting   47.032778    49.0  13.848420\n"
          ]
        }
      ]
    },
    {
      "cell_type": "code",
      "execution_count": 222,
      "metadata": {
        "colab": {
          "base_uri": "https://localhost:8080/"
        },
        "id": "kpRYTZbp8gtR",
        "outputId": "1fca5d5c-e815-4a73-a80e-54143050a40e"
      },
      "outputs": [
        {
          "output_type": "stream",
          "name": "stdout",
          "text": [
            "Frequency Counts for Sex:\n",
            " Sex\n",
            "F    1263\n",
            "M     659\n",
            "Name: count, dtype: int64\n",
            "\n",
            "Frequency Counts for Population Type:\n",
            " Popolation Type\n",
            "General Population\\n\\n    1786\n",
            "\\n\\n                       135\n",
            "Key Population\\n\\n           1\n",
            "Name: count, dtype: int64\n",
            "\n",
            "Frequency Counts for Current Regimen Line:\n",
            " Current Regimen Line\n",
            "First line     1732\n",
            "Second line     186\n",
            "Third line        4\n",
            "Name: count, dtype: int64\n"
          ]
        }
      ],
      "source": [
        "# bFrequency counts\n",
        "sex_counts = df['Sex'].value_counts()\n",
        "population_type_counts = df['Popolation Type'].value_counts()\n",
        "regimen_line_counts = df['Current Regimen Line'].value_counts()\n",
        "\n",
        "print(\"Frequency Counts for Sex:\\n\", sex_counts)\n",
        "print(\"\\nFrequency Counts for Population Type:\\n\", population_type_counts)\n",
        "print(\"\\nFrequency Counts for Current Regimen Line:\\n\", regimen_line_counts)\n"
      ]
    },
    {
      "cell_type": "markdown",
      "metadata": {
        "id": "KIJ-2lnsvMjY"
      },
      "source": [
        "5.\tCorrelation Analysis"
      ]
    },
    {
      "cell_type": "code",
      "execution_count": 223,
      "metadata": {
        "colab": {
          "base_uri": "https://localhost:8080/",
          "height": 1000
        },
        "id": "i4DGiCvu-di2",
        "outputId": "69ebc9ac-afb5-4c83-dd5a-4eade4c11249"
      },
      "outputs": [
        {
          "output_type": "stream",
          "name": "stdout",
          "text": [
            "                          Sex    Weight    Height       BMI  Age at Reporting  \\\n",
            "Sex                  1.000000 -0.095698  0.471071 -0.361970          0.006761   \n",
            "Weight              -0.095698  1.000000  0.349661  0.868647          0.167350   \n",
            "Height               0.471071  0.349661  1.000000 -0.140942          0.141962   \n",
            "BMI                 -0.361970  0.868647 -0.140942  1.000000          0.124504   \n",
            "Age at Reporting     0.006761  0.167350  0.141962  0.124504          1.000000   \n",
            "Baseline CD4 result -0.114552 -0.052366 -0.141501  0.009946         -0.210258   \n",
            "Last VL              0.021514 -0.080366 -0.042197 -0.068546         -0.103070   \n",
            "Systolic            -0.006280  0.216217  0.131271  0.168619          0.409929   \n",
            "Diastolic           -0.090244  0.239927  0.096216  0.213292          0.324568   \n",
            "\n",
            "                     Baseline CD4 result   Last VL  Systolic  Diastolic  \n",
            "Sex                            -0.114552  0.021514 -0.006280  -0.090244  \n",
            "Weight                         -0.052366 -0.080366  0.216217   0.239927  \n",
            "Height                         -0.141501 -0.042197  0.131271   0.096216  \n",
            "BMI                             0.009946 -0.068546  0.168619   0.213292  \n",
            "Age at Reporting               -0.210258 -0.103070  0.409929   0.324568  \n",
            "Baseline CD4 result             1.000000  0.013392 -0.163378  -0.155172  \n",
            "Last VL                         0.013392  1.000000 -0.078116  -0.066735  \n",
            "Systolic                       -0.163378 -0.078116  1.000000   0.836225  \n",
            "Diastolic                      -0.155172 -0.066735  0.836225   1.000000  \n"
          ]
        },
        {
          "output_type": "display_data",
          "data": {
            "text/plain": [
              "<Figure size 800x600 with 2 Axes>"
            ],
            "image/png": "[encoded data removed]"
          },
          "metadata": {}
        }
      ],
      "source": [
        "# Handle categorical encoding\n",
        "label_encoder = LabelEncoder()\n",
        "\n",
        "df['Sex'] = label_encoder.fit_transform(df['Sex'])\n",
        "df['Popolation Type'] = label_encoder.fit_transform(df['Popolation Type'])\n",
        "df['Current Regimen Line'] = label_encoder.fit_transform(df['Current Regimen Line'])\n",
        "df['Current Regimen'] = label_encoder.fit_transform(df['Current Regimen'])\n",
        "\n",
        "# Select numerical variables for correlation analysis\n",
        "numerical_vars = ['Current Regimen Line','Population Type','Current Regimen','Sex','Weight', 'Height', 'BMI', 'Age at Reporting',\n",
        "                  'Baseline CD4 result', 'Last VL', 'Systolic', 'Diastolic']\n",
        "# Replace '>200' with a numeric value (e.g., 201) in the 'Last VL' column\n",
        "df['Baseline CD4 result'] = df['Baseline CD4 result'].replace('>200', 201)\n",
        "# Replace '<=200' with a numeric value (e.g., 200) in the 'Last VL' column\n",
        "df['Baseline CD4 result'] = df['Baseline CD4 result'].replace('<=200', 200)\n",
        "\n",
        "# Convert the 'Last VL' column to numeric type\n",
        "df['Last VL'] = pd.to_numeric(df['Last VL'])\n",
        "\n",
        "# Calculate the Pearson correlation matrix\n",
        "correlation_matrix = df[['Sex','Weight','Height', 'BMI', 'Age at Reporting',\n",
        "                  'Baseline CD4 result', 'Last VL', 'Systolic', 'Diastolic']].corr()\n",
        "\n",
        "# Display\n",
        "print(correlation_matrix)\n",
        "\n",
        "# Visualize using a heatmap\n",
        "plt.figure(figsize=(8, 6))\n",
        "sns.heatmap(correlation_matrix, annot=True, cmap='coolwarm', fmt='.2f')\n",
        "plt.title('Correlation Matrix of Numerical Variables')\n",
        "plt.show()"
      ]
    },
    {
      "cell_type": "markdown",
      "source": [
        "The correlation coefficients range from -1 to 1:\n",
        "\n",
        "1: Perfect positive correlation (as one variable increases, the other also increases).\n",
        "\n",
        "0: No correlation.\n",
        "\n",
        "-1: Perfect negative correlation (as one variable increases, the other decreases).\n",
        "Look for high positive or negative values (close to 1 or -1) to identify strong relationships between variables."
      ],
      "metadata": {
        "id": "Xd7sljTQ8Vnq"
      }
    },
    {
      "cell_type": "markdown",
      "metadata": {
        "id": "e9uSX3F8FLiN"
      },
      "source": [
        "6.\tHypothesis Testing"
      ]
    },
    {
      "cell_type": "code",
      "source": [
        "\n",
        "\n",
        "# Group the data by ART regimen and extract baseline CD4 counts\n",
        "groups = df.groupby('Current Regimen')['Baseline CD4 result'].apply(list)\n",
        "\n",
        "# Perform the ANOVA test\n",
        "f_statistic, p_value_anova = stats.f_oneway(*groups)\n",
        "\n",
        "# Print the results\n",
        "print(f\"ANOVA Test results:\\nF-statistic: {f_statistic}\\nP-value: {p_value_anova}\")\n"
      ],
      "metadata": {
        "colab": {
          "base_uri": "https://localhost:8080/"
        },
        "id": "4XevRXLH950c",
        "outputId": "3eacd9e0-31b8-4ecd-f018-a26683877e9f"
      },
      "execution_count": 224,
      "outputs": [
        {
          "output_type": "stream",
          "name": "stdout",
          "text": [
            "ANOVA Test results:\n",
            "F-statistic: 3.235915271356243\n",
            "P-value: 0.003629477099356891\n"
          ]
        }
      ]
    },
    {
      "cell_type": "markdown",
      "source": [
        "Significant Difference: There is a statistically significant difference in baseline CD4 counts among the different ART regimens. This suggests that at least one ART regimen has a different baseline CD4 count compared to the others."
      ],
      "metadata": {
        "id": "n4f69sxy--6h"
      }
    },
    {
      "cell_type": "code",
      "source": [
        "print(selected_features.columns)\n"
      ],
      "metadata": {
        "colab": {
          "base_uri": "https://localhost:8080/"
        },
        "id": "J1tgRK1eHX0r",
        "outputId": "05c8bc22-0e98-4f07-b7aa-a0cc7683509e"
      },
      "execution_count": 227,
      "outputs": [
        {
          "output_type": "stream",
          "name": "stdout",
          "text": [
            "Index(['Weight', 'Height', 'BMI', 'Age at Reporting', 'Baseline CD4 result',\n",
            "       'Last VL', 'Systolic', 'Diastolic'],\n",
            "      dtype='object')\n"
          ]
        }
      ]
    },
    {
      "cell_type": "markdown",
      "metadata": {
        "id": "8HjcSDvRJ6uM"
      },
      "source": [
        "7"
      ]
    },
    {
      "cell_type": "code",
      "execution_count": 226,
      "metadata": {
        "colab": {
          "base_uri": "https://localhost:8080/",
          "height": 564
        },
        "id": "hVv2_fPWN5yS",
        "outputId": "76af4b1c-3fe3-490b-83d0-600029441260"
      },
      "outputs": [
        {
          "output_type": "display_data",
          "data": {
            "text/plain": [
              "<Figure size 1000x600 with 1 Axes>"
            ],
            "image/png": "[encoded data removed]"
          },
          "metadata": {}
        }
      ],
      "source": [
        "#7\n",
        "\n",
        "\n",
        "# Select features for clustering (replace these with the relevant columns from your dataset)\n",
        "selected_features = df[[\n",
        "    'Weight', 'Height','BMI', 'Age at Reporting',\n",
        "    'Baseline CD4 result', 'Last VL', 'Systolic', 'Diastolic'\n",
        "    # Removed categorical features\n",
        "]]\n",
        "\n",
        "# List to hold WCSS values\n",
        "wcss = []\n",
        "\n",
        "# Range of cluster values to try\n",
        "k_values = range(1, 11)\n",
        "\n",
        "# Calculate WCSS for each k\n",
        "for k in k_values:\n",
        "    kmeans = KMeans(n_clusters=k, random_state=42)\n",
        "    kmeans.fit(selected_features)\n",
        "    wcss.append(kmeans.inertia_)  # WCSS is stored in inertia_\n",
        "\n",
        "# Plotting the Elbow Curve\n",
        "plt.figure(figsize=(10, 6))\n",
        "plt.plot(k_values, wcss, marker='o')\n",
        "plt.title('Elbow Method For Optimal k')\n",
        "plt.xlabel('Number of Clusters (k)')\n",
        "plt.ylabel('Within-Cluster Sum of Squares (WCSS)')\n",
        "plt.xticks(k_values)\n",
        "plt.grid()\n",
        "plt.show()"
      ]
    },
    {
      "cell_type": "code",
      "execution_count": 228,
      "metadata": {
        "id": "zJRoCsUqKMhM"
      },
      "outputs": [],
      "source": [
        "X = df.drop(columns=['Age at Reporting','BMI', 'Baseline CD4 result'])"
      ]
    },
    {
      "cell_type": "code",
      "execution_count": 229,
      "metadata": {
        "id": "CxiXtQrFOKNm"
      },
      "outputs": [],
      "source": [
        "# Import the necessary function\n",
        "\n",
        "# Splitting the data into training and test sets\n",
        "X_train, X_test = train_test_split(X, test_size=0.2, random_state=42)"
      ]
    },
    {
      "cell_type": "code",
      "execution_count": 230,
      "metadata": {
        "id": "AaNrWK9wOdve"
      },
      "outputs": [],
      "source": [
        "\n",
        "# Select only the numerical features for scaling\n",
        "numerical_features = df.select_dtypes(include=['number']).columns\n",
        "X = df[numerical_features]\n",
        "\n",
        "# Splitting the data into training and test sets\n",
        "X_train, X_test = train_test_split(X, test_size=0.2, random_state=42)\n",
        "\n",
        "# Standardize the features\n",
        "scaler = StandardScaler()\n",
        "X_train_scaled = scaler.fit_transform(X_train)\n",
        "X_test_scaled = scaler.transform(X_test)"
      ]
    },
    {
      "cell_type": "code",
      "execution_count": 231,
      "metadata": {
        "colab": {
          "base_uri": "https://localhost:8080/",
          "height": 80
        },
        "id": "oMufXkKZPbXY",
        "outputId": "8933584c-a655-43a7-be7e-cf890bddf42a"
      },
      "outputs": [
        {
          "output_type": "execute_result",
          "data": {
            "text/plain": [
              "KMeans(n_clusters=3, random_state=42)"
            ],
            "text/html": [
              "<style>#sk-container-id-1 {\n",
              "  /* Definition of color scheme common for light and dark mode */\n",
              "  --sklearn-color-text: black;\n",
              "  --sklearn-color-line: gray;\n",
              "  /* Definition of color scheme for unfitted estimators */\n",
              "  --sklearn-color-unfitted-level-0: #fff5e6;\n",
              "  --sklearn-color-unfitted-level-1: #f6e4d2;\n",
              "  --sklearn-color-unfitted-level-2: #ffe0b3;\n",
              "  --sklearn-color-unfitted-level-3: chocolate;\n",
              "  /* Definition of color scheme for fitted estimators */\n",
              "  --sklearn-color-fitted-level-0: #f0f8ff;\n",
              "  --sklearn-color-fitted-level-1: #d4ebff;\n",
              "  --sklearn-color-fitted-level-2: #b3dbfd;\n",
              "  --sklearn-color-fitted-level-3: cornflowerblue;\n",
              "\n",
              "  /* Specific color for light theme */\n",
              "  --sklearn-color-text-on-default-background: var(--sg-text-color, var(--theme-code-foreground, var(--jp-content-font-color1, black)));\n",
              "  --sklearn-color-background: var(--sg-background-color, var(--theme-background, var(--jp-layout-color0, white)));\n",
              "  --sklearn-color-border-box: var(--sg-text-color, var(--theme-code-foreground, var(--jp-content-font-color1, black)));\n",
              "  --sklearn-color-icon: #696969;\n",
              "\n",
              "  @media (prefers-color-scheme: dark) {\n",
              "    /* Redefinition of color scheme for dark theme */\n",
              "    --sklearn-color-text-on-default-background: var(--sg-text-color, var(--theme-code-foreground, var(--jp-content-font-color1, white)));\n",
              "    --sklearn-color-background: var(--sg-background-color, var(--theme-background, var(--jp-layout-color0, #111)));\n",
              "    --sklearn-color-border-box: var(--sg-text-color, var(--theme-code-foreground, var(--jp-content-font-color1, white)));\n",
              "    --sklearn-color-icon: #878787;\n",
              "  }\n",
              "}\n",
              "\n",
              "#sk-container-id-1 {\n",
              "  color: var(--sklearn-color-text);\n",
              "}\n",
              "\n",
              "#sk-container-id-1 pre {\n",
              "  padding: 0;\n",
              "}\n",
              "\n",
              "#sk-container-id-1 input.sk-hidden--visually {\n",
              "  border: 0;\n",
              "  clip: rect(1px 1px 1px 1px);\n",
              "  clip: rect(1px, 1px, 1px, 1px);\n",
              "  height: 1px;\n",
              "  margin: -1px;\n",
              "  overflow: hidden;\n",
              "  padding: 0;\n",
              "  position: absolute;\n",
              "  width: 1px;\n",
              "}\n",
              "\n",
              "#sk-container-id-1 div.sk-dashed-wrapped {\n",
              "  border: 1px dashed var(--sklearn-color-line);\n",
              "  margin: 0 0.4em 0.5em 0.4em;\n",
              "  box-sizing: border-box;\n",
              "  padding-bottom: 0.4em;\n",
              "  background-color: var(--sklearn-color-background);\n",
              "}\n",
              "\n",
              "#sk-container-id-1 div.sk-container {\n",
              "  /* jupyter's `normalize.less` sets `[hidden] { display: none; }`\n",
              "     but bootstrap.min.css set `[hidden] { display: none !important; }`\n",
              "     so we also need the `!important` here to be able to override the\n",
              "     default hidden behavior on the sphinx rendered scikit-learn.org.\n",
              "     See: https://github.com/scikit-learn/scikit-learn/issues/21755 */\n",
              "  display: inline-block !important;\n",
              "  position: relative;\n",
              "}\n",
              "\n",
              "#sk-container-id-1 div.sk-text-repr-fallback {\n",
              "  display: none;\n",
              "}\n",
              "\n",
              "div.sk-parallel-item,\n",
              "div.sk-serial,\n",
              "div.sk-item {\n",
              "  /* draw centered vertical line to link estimators */\n",
              "  background-image: linear-gradient(var(--sklearn-color-text-on-default-background), var(--sklearn-color-text-on-default-background));\n",
              "  background-size: 2px 100%;\n",
              "  background-repeat: no-repeat;\n",
              "  background-position: center center;\n",
              "}\n",
              "\n",
              "/* Parallel-specific style estimator block */\n",
              "\n",
              "#sk-container-id-1 div.sk-parallel-item::after {\n",
              "  content: \"\";\n",
              "  width: 100%;\n",
              "  border-bottom: 2px solid var(--sklearn-color-text-on-default-background);\n",
              "  flex-grow: 1;\n",
              "}\n",
              "\n",
              "#sk-container-id-1 div.sk-parallel {\n",
              "  display: flex;\n",
              "  align-items: stretch;\n",
              "  justify-content: center;\n",
              "  background-color: var(--sklearn-color-background);\n",
              "  position: relative;\n",
              "}\n",
              "\n",
              "#sk-container-id-1 div.sk-parallel-item {\n",
              "  display: flex;\n",
              "  flex-direction: column;\n",
              "}\n",
              "\n",
              "#sk-container-id-1 div.sk-parallel-item:first-child::after {\n",
              "  align-self: flex-end;\n",
              "  width: 50%;\n",
              "}\n",
              "\n",
              "#sk-container-id-1 div.sk-parallel-item:last-child::after {\n",
              "  align-self: flex-start;\n",
              "  width: 50%;\n",
              "}\n",
              "\n",
              "#sk-container-id-1 div.sk-parallel-item:only-child::after {\n",
              "  width: 0;\n",
              "}\n",
              "\n",
              "/* Serial-specific style estimator block */\n",
              "\n",
              "#sk-container-id-1 div.sk-serial {\n",
              "  display: flex;\n",
              "  flex-direction: column;\n",
              "  align-items: center;\n",
              "  background-color: var(--sklearn-color-background);\n",
              "  padding-right: 1em;\n",
              "  padding-left: 1em;\n",
              "}\n",
              "\n",
              "\n",
              "/* Toggleable style: style used for estimator/Pipeline/ColumnTransformer box that is\n",
              "clickable and can be expanded/collapsed.\n",
              "- Pipeline and ColumnTransformer use this feature and define the default style\n",
              "- Estimators will overwrite some part of the style using the `sk-estimator` class\n",
              "*/\n",
              "\n",
              "/* Pipeline and ColumnTransformer style (default) */\n",
              "\n",
              "#sk-container-id-1 div.sk-toggleable {\n",
              "  /* Default theme specific background. It is overwritten whether we have a\n",
              "  specific estimator or a Pipeline/ColumnTransformer */\n",
              "  background-color: var(--sklearn-color-background);\n",
              "}\n",
              "\n",
              "/* Toggleable label */\n",
              "#sk-container-id-1 label.sk-toggleable__label {\n",
              "  cursor: pointer;\n",
              "  display: block;\n",
              "  width: 100%;\n",
              "  margin-bottom: 0;\n",
              "  padding: 0.5em;\n",
              "  box-sizing: border-box;\n",
              "  text-align: center;\n",
              "}\n",
              "\n",
              "#sk-container-id-1 label.sk-toggleable__label-arrow:before {\n",
              "  /* Arrow on the left of the label */\n",
              "  content: \"▸\";\n",
              "  float: left;\n",
              "  margin-right: 0.25em;\n",
              "  color: var(--sklearn-color-icon);\n",
              "}\n",
              "\n",
              "#sk-container-id-1 label.sk-toggleable__label-arrow:hover:before {\n",
              "  color: var(--sklearn-color-text);\n",
              "}\n",
              "\n",
              "/* Toggleable content - dropdown */\n",
              "\n",
              "#sk-container-id-1 div.sk-toggleable__content {\n",
              "  max-height: 0;\n",
              "  max-width: 0;\n",
              "  overflow: hidden;\n",
              "  text-align: left;\n",
              "  /* unfitted */\n",
              "  background-color: var(--sklearn-color-unfitted-level-0);\n",
              "}\n",
              "\n",
              "#sk-container-id-1 div.sk-toggleable__content.fitted {\n",
              "  /* fitted */\n",
              "  background-color: var(--sklearn-color-fitted-level-0);\n",
              "}\n",
              "\n",
              "#sk-container-id-1 div.sk-toggleable__content pre {\n",
              "  margin: 0.2em;\n",
              "  border-radius: 0.25em;\n",
              "  color: var(--sklearn-color-text);\n",
              "  /* unfitted */\n",
              "  background-color: var(--sklearn-color-unfitted-level-0);\n",
              "}\n",
              "\n",
              "#sk-container-id-1 div.sk-toggleable__content.fitted pre {\n",
              "  /* unfitted */\n",
              "  background-color: var(--sklearn-color-fitted-level-0);\n",
              "}\n",
              "\n",
              "#sk-container-id-1 input.sk-toggleable__control:checked~div.sk-toggleable__content {\n",
              "  /* Expand drop-down */\n",
              "  max-height: 200px;\n",
              "  max-width: 100%;\n",
              "  overflow: auto;\n",
              "}\n",
              "\n",
              "#sk-container-id-1 input.sk-toggleable__control:checked~label.sk-toggleable__label-arrow:before {\n",
              "  content: \"▾\";\n",
              "}\n",
              "\n",
              "/* Pipeline/ColumnTransformer-specific style */\n",
              "\n",
              "#sk-container-id-1 div.sk-label input.sk-toggleable__control:checked~label.sk-toggleable__label {\n",
              "  color: var(--sklearn-color-text);\n",
              "  background-color: var(--sklearn-color-unfitted-level-2);\n",
              "}\n",
              "\n",
              "#sk-container-id-1 div.sk-label.fitted input.sk-toggleable__control:checked~label.sk-toggleable__label {\n",
              "  background-color: var(--sklearn-color-fitted-level-2);\n",
              "}\n",
              "\n",
              "/* Estimator-specific style */\n",
              "\n",
              "/* Colorize estimator box */\n",
              "#sk-container-id-1 div.sk-estimator input.sk-toggleable__control:checked~label.sk-toggleable__label {\n",
              "  /* unfitted */\n",
              "  background-color: var(--sklearn-color-unfitted-level-2);\n",
              "}\n",
              "\n",
              "#sk-container-id-1 div.sk-estimator.fitted input.sk-toggleable__control:checked~label.sk-toggleable__label {\n",
              "  /* fitted */\n",
              "  background-color: var(--sklearn-color-fitted-level-2);\n",
              "}\n",
              "\n",
              "#sk-container-id-1 div.sk-label label.sk-toggleable__label,\n",
              "#sk-container-id-1 div.sk-label label {\n",
              "  /* The background is the default theme color */\n",
              "  color: var(--sklearn-color-text-on-default-background);\n",
              "}\n",
              "\n",
              "/* On hover, darken the color of the background */\n",
              "#sk-container-id-1 div.sk-label:hover label.sk-toggleable__label {\n",
              "  color: var(--sklearn-color-text);\n",
              "  background-color: var(--sklearn-color-unfitted-level-2);\n",
              "}\n",
              "\n",
              "/* Label box, darken color on hover, fitted */\n",
              "#sk-container-id-1 div.sk-label.fitted:hover label.sk-toggleable__label.fitted {\n",
              "  color: var(--sklearn-color-text);\n",
              "  background-color: var(--sklearn-color-fitted-level-2);\n",
              "}\n",
              "\n",
              "/* Estimator label */\n",
              "\n",
              "#sk-container-id-1 div.sk-label label {\n",
              "  font-family: monospace;\n",
              "  font-weight: bold;\n",
              "  display: inline-block;\n",
              "  line-height: 1.2em;\n",
              "}\n",
              "\n",
              "#sk-container-id-1 div.sk-label-container {\n",
              "  text-align: center;\n",
              "}\n",
              "\n",
              "/* Estimator-specific */\n",
              "#sk-container-id-1 div.sk-estimator {\n",
              "  font-family: monospace;\n",
              "  border: 1px dotted var(--sklearn-color-border-box);\n",
              "  border-radius: 0.25em;\n",
              "  box-sizing: border-box;\n",
              "  margin-bottom: 0.5em;\n",
              "  /* unfitted */\n",
              "  background-color: var(--sklearn-color-unfitted-level-0);\n",
              "}\n",
              "\n",
              "#sk-container-id-1 div.sk-estimator.fitted {\n",
              "  /* fitted */\n",
              "  background-color: var(--sklearn-color-fitted-level-0);\n",
              "}\n",
              "\n",
              "/* on hover */\n",
              "#sk-container-id-1 div.sk-estimator:hover {\n",
              "  /* unfitted */\n",
              "  background-color: var(--sklearn-color-unfitted-level-2);\n",
              "}\n",
              "\n",
              "#sk-container-id-1 div.sk-estimator.fitted:hover {\n",
              "  /* fitted */\n",
              "  background-color: var(--sklearn-color-fitted-level-2);\n",
              "}\n",
              "\n",
              "/* Specification for estimator info (e.g. \"i\" and \"?\") */\n",
              "\n",
              "/* Common style for \"i\" and \"?\" */\n",
              "\n",
              ".sk-estimator-doc-link,\n",
              "a:link.sk-estimator-doc-link,\n",
              "a:visited.sk-estimator-doc-link {\n",
              "  float: right;\n",
              "  font-size: smaller;\n",
              "  line-height: 1em;\n",
              "  font-family: monospace;\n",
              "  background-color: var(--sklearn-color-background);\n",
              "  border-radius: 1em;\n",
              "  height: 1em;\n",
              "  width: 1em;\n",
              "  text-decoration: none !important;\n",
              "  margin-left: 1ex;\n",
              "  /* unfitted */\n",
              "  border: var(--sklearn-color-unfitted-level-1) 1pt solid;\n",
              "  color: var(--sklearn-color-unfitted-level-1);\n",
              "}\n",
              "\n",
              ".sk-estimator-doc-link.fitted,\n",
              "a:link.sk-estimator-doc-link.fitted,\n",
              "a:visited.sk-estimator-doc-link.fitted {\n",
              "  /* fitted */\n",
              "  border: var(--sklearn-color-fitted-level-1) 1pt solid;\n",
              "  color: var(--sklearn-color-fitted-level-1);\n",
              "}\n",
              "\n",
              "/* On hover */\n",
              "div.sk-estimator:hover .sk-estimator-doc-link:hover,\n",
              ".sk-estimator-doc-link:hover,\n",
              "div.sk-label-container:hover .sk-estimator-doc-link:hover,\n",
              ".sk-estimator-doc-link:hover {\n",
              "  /* unfitted */\n",
              "  background-color: var(--sklearn-color-unfitted-level-3);\n",
              "  color: var(--sklearn-color-background);\n",
              "  text-decoration: none;\n",
              "}\n",
              "\n",
              "div.sk-estimator.fitted:hover .sk-estimator-doc-link.fitted:hover,\n",
              ".sk-estimator-doc-link.fitted:hover,\n",
              "div.sk-label-container:hover .sk-estimator-doc-link.fitted:hover,\n",
              ".sk-estimator-doc-link.fitted:hover {\n",
              "  /* fitted */\n",
              "  background-color: var(--sklearn-color-fitted-level-3);\n",
              "  color: var(--sklearn-color-background);\n",
              "  text-decoration: none;\n",
              "}\n",
              "\n",
              "/* Span, style for the box shown on hovering the info icon */\n",
              ".sk-estimator-doc-link span {\n",
              "  display: none;\n",
              "  z-index: 9999;\n",
              "  position: relative;\n",
              "  font-weight: normal;\n",
              "  right: .2ex;\n",
              "  padding: .5ex;\n",
              "  margin: .5ex;\n",
              "  width: min-content;\n",
              "  min-width: 20ex;\n",
              "  max-width: 50ex;\n",
              "  color: var(--sklearn-color-text);\n",
              "  box-shadow: 2pt 2pt 4pt #999;\n",
              "  /* unfitted */\n",
              "  background: var(--sklearn-color-unfitted-level-0);\n",
              "  border: .5pt solid var(--sklearn-color-unfitted-level-3);\n",
              "}\n",
              "\n",
              ".sk-estimator-doc-link.fitted span {\n",
              "  /* fitted */\n",
              "  background: var(--sklearn-color-fitted-level-0);\n",
              "  border: var(--sklearn-color-fitted-level-3);\n",
              "}\n",
              "\n",
              ".sk-estimator-doc-link:hover span {\n",
              "  display: block;\n",
              "}\n",
              "\n",
              "/* \"?\"-specific style due to the `<a>` HTML tag */\n",
              "\n",
              "#sk-container-id-1 a.estimator_doc_link {\n",
              "  float: right;\n",
              "  font-size: 1rem;\n",
              "  line-height: 1em;\n",
              "  font-family: monospace;\n",
              "  background-color: var(--sklearn-color-background);\n",
              "  border-radius: 1rem;\n",
              "  height: 1rem;\n",
              "  width: 1rem;\n",
              "  text-decoration: none;\n",
              "  /* unfitted */\n",
              "  color: var(--sklearn-color-unfitted-level-1);\n",
              "  border: var(--sklearn-color-unfitted-level-1) 1pt solid;\n",
              "}\n",
              "\n",
              "#sk-container-id-1 a.estimator_doc_link.fitted {\n",
              "  /* fitted */\n",
              "  border: var(--sklearn-color-fitted-level-1) 1pt solid;\n",
              "  color: var(--sklearn-color-fitted-level-1);\n",
              "}\n",
              "\n",
              "/* On hover */\n",
              "#sk-container-id-1 a.estimator_doc_link:hover {\n",
              "  /* unfitted */\n",
              "  background-color: var(--sklearn-color-unfitted-level-3);\n",
              "  color: var(--sklearn-color-background);\n",
              "  text-decoration: none;\n",
              "}\n",
              "\n",
              "#sk-container-id-1 a.estimator_doc_link.fitted:hover {\n",
              "  /* fitted */\n",
              "  background-color: var(--sklearn-color-fitted-level-3);\n",
              "}\n",
              "</style><div id=\"sk-container-id-1\" class=\"sk-top-container\"><div class=\"sk-text-repr-fallback\"><pre>KMeans(n_clusters=3, random_state=42)</pre><b>In a Jupyter environment, please rerun this cell to show the HTML representation or trust the notebook. <br />On GitHub, the HTML representation is unable to render, please try loading this page with nbviewer.org.</b></div><div class=\"sk-container\" hidden><div class=\"sk-item\"><div class=\"sk-estimator fitted sk-toggleable\"><input class=\"sk-toggleable__control sk-hidden--visually\" id=\"sk-estimator-id-1\" type=\"checkbox\" checked><label for=\"sk-estimator-id-1\" class=\"sk-toggleable__label fitted sk-toggleable__label-arrow fitted\">&nbsp;&nbsp;KMeans<a class=\"sk-estimator-doc-link fitted\" rel=\"noreferrer\" target=\"_blank\" href=\"https://scikit-learn.org/1.5/modules/generated/sklearn.cluster.KMeans.html\">?<span>Documentation for KMeans</span></a><span class=\"sk-estimator-doc-link fitted\">i<span>Fitted</span></span></label><div class=\"sk-toggleable__content fitted\"><pre>KMeans(n_clusters=3, random_state=42)</pre></div> </div></div></div></div>"
            ]
          },
          "metadata": {},
          "execution_count": 231
        }
      ],
      "source": [
        "# Train the KMeans model on the training set\n",
        "kmeans = KMeans(n_clusters=3, init='k-means++', random_state=42)\n",
        "kmeans.fit(X_train_scaled)"
      ]
    },
    {
      "cell_type": "code",
      "execution_count": 232,
      "metadata": {
        "id": "i2UBytGwPo0K"
      },
      "outputs": [],
      "source": [
        "# Apply the trained model to the test set and get cluster labels\n",
        "train_labels = kmeans.predict(X_train_scaled)\n",
        "test_labels = kmeans.predict(X_test_scaled)"
      ]
    },
    {
      "cell_type": "code",
      "execution_count": 234,
      "metadata": {
        "colab": {
          "base_uri": "https://localhost:8080/"
        },
        "id": "9v0gL-f1PymU",
        "outputId": "4796b621-0fcf-4b3f-f47f-88fc8a06fcea"
      },
      "outputs": [
        {
          "output_type": "stream",
          "name": "stdout",
          "text": [
            "Silhouette Score on Training Data: 0.16765393976649232\n",
            "Silhouette Score on Test Data: 0.18160506345278365\n"
          ]
        }
      ],
      "source": [
        "from sklearn.metrics import silhouette_score\n",
        "\n",
        "# Assess the clustering performance using Silhouette Score on both train and test data\n",
        "train_silhouette = silhouette_score(X_train_scaled, train_labels)\n",
        "test_silhouette = silhouette_score(X_test_scaled, test_labels)\n",
        "\n",
        "print(f\"Silhouette Score on Training Data: {train_silhouette}\")\n",
        "print(f\"Silhouette Score on Test Data: {test_silhouette}\")"
      ]
    },
    {
      "cell_type": "code",
      "execution_count": 235,
      "metadata": {
        "colab": {
          "base_uri": "https://localhost:8080/",
          "height": 564
        },
        "id": "DjBe5spLhCU-",
        "outputId": "1ffb0c22-8164-4ce9-ec2b-83e35e1e35aa"
      },
      "outputs": [
        {
          "output_type": "display_data",
          "data": {
            "text/plain": [
              "<Figure size 1000x600 with 1 Axes>"
            ],
            "image/png": "[encoded data removed]"
          },
          "metadata": {}
        }
      ],
      "source": [
        "\n",
        "\n",
        "# 2. Select the features for clustering\n",
        "features = df[['Age at Reporting', 'BMI', 'Baseline CD4 result']]\n",
        "\n",
        "# 3. Standardize the features\n",
        "scaler = StandardScaler()\n",
        "scaled_features = scaler.fit_transform(features)\n",
        "\n",
        "# 4. Apply K-Means Clustering\n",
        "optimal_k = 3\n",
        "kmeans = KMeans(n_clusters=optimal_k, random_state=42)\n",
        "df['cluster_labels'] = kmeans.fit_predict(scaled_features)\n",
        "\n",
        "# For 2D visualization\n",
        "plt.figure(figsize=(10, 6))\n",
        "sns.scatterplot(data=df, x='Age at Reporting', y='BMI', hue='cluster_labels', palette='viridis', style='cluster_labels', markers=[\"o\", \"s\", \"D\"])\n",
        "plt.title('K-Means Clustering')\n",
        "plt.xlabel('Age at Reporting')\n",
        "plt.ylabel('BMI')\n",
        "plt.legend(title='Cluster Labels')\n",
        "plt.show()\n",
        "\n",
        "# If you have more than two features, consider using PCA for visualization\n"
      ]
    },
    {
      "cell_type": "code",
      "execution_count": 236,
      "metadata": {
        "colab": {
          "base_uri": "https://localhost:8080/"
        },
        "id": "AN3RYgTYjRoT",
        "outputId": "ebbf0a6c-5b53-49c3-d815-dfd4af91eda0"
      },
      "outputs": [
        {
          "output_type": "stream",
          "name": "stdout",
          "text": [
            "Cluster Centroids (Original Scale):\n",
            "         BMI  Age at Reporting  Baseline CD4 result\n",
            "0  49.081790         30.159471           279.800742\n",
            "1  25.111111         21.411375           534.188125\n",
            "2  53.379384         21.690872           202.680686\n",
            "\n",
            "Cluster 0 Characteristics:\n",
            "Average BMI: 49.08\n",
            "Average Age at Reporting: 30.16\n",
            "Average Baseline CD4 result: 279.80\n",
            "\n",
            "Cluster 1 Characteristics:\n",
            "Average BMI: 25.11\n",
            "Average Age at Reporting: 21.41\n",
            "Average Baseline CD4 result: 534.19\n",
            "\n",
            "Cluster 2 Characteristics:\n",
            "Average BMI: 53.38\n",
            "Average Age at Reporting: 21.69\n",
            "Average Baseline CD4 result: 202.68\n"
          ]
        }
      ],
      "source": [
        "\n",
        "\n",
        "# 1. Extract centroids\n",
        "centroids = kmeans.cluster_centers_\n",
        "\n",
        "# 2. Create a DataFrame for centroids (assuming 'BMI', 'Age', 'BloodPressure' are your features)\n",
        "centroids_df = pd.DataFrame(centroids, columns=['BMI', 'Age at Reporting', 'Baseline CD4 result'])\n",
        "\n",
        "# 3. If you standardized the features, inverse transform the centroids\n",
        "centroids_original = scaler.inverse_transform(centroids)\n",
        "centroids_original_df = pd.DataFrame(centroids_original, columns=['BMI', 'Age at Reporting', 'Baseline CD4 result'])\n",
        "\n",
        "# 4. Display the centroids in original scale\n",
        "print(\"Cluster Centroids (Original Scale):\")\n",
        "print(centroids_original_df)\n",
        "\n",
        "# 5. Optionally, analyze defining characteristics for each cluster\n",
        "for i in range(optimal_k):\n",
        "    print(f\"\\nCluster {i} Characteristics:\")\n",
        "    print(f\"Average BMI: {centroids_original_df.iloc[i]['BMI']:.2f}\")\n",
        "    print(f\"Average Age at Reporting: {centroids_original_df.iloc[i]['Age at Reporting']:.2f}\")\n",
        "    print(f\"Average Baseline CD4 result: {centroids_original_df.iloc[i]['Baseline CD4 result']:.2f}\")\n"
      ]
    },
    {
      "cell_type": "markdown",
      "metadata": {
        "id": "biYsR72dkgVg"
      },
      "source": [
        "Describe clusters\n",
        "Based on the cluster centroids above, we can describe each cluster in detail and identify significant differences or patterns among them. The features you're examining are BMI, Age at Reporting, and Baseline CD4 result. Below is an interpretation of the centroids and a description of each cluster.\n",
        "\n",
        "### Cluster Centroids (Original Scale)\n",
        "| Cluster | Average BMI | Average Age at Reporting | Average Baseline CD4 result |\n",
        "|---------|-------------|--------------------------|------------------------------|\n",
        "| 0       | 0.15        | 1.09                     | 279.80                       |\n",
        "| 1       | -1.58       | -0.60                    | 534.19                       |\n",
        "| 2       | 0.46        | -0.54                    | 202.68                       |\n",
        "\n",
        "### Interpretation of Each Cluster\n",
        "\n",
        "#### **Cluster 0 Characteristics**\n",
        "- **Average BMI**: 0.15\n",
        "- **Average Age at Reporting**: 1.09\n",
        "- **Average Baseline CD4 Result**: 279.80\n",
        "\n",
        "**Interpretation**:\n",
        "- **Demographics**: This cluster likely represents individuals with slightly higher than average BMI, younger age at reporting, and a lower baseline CD4 count.\n",
        "- **Health Profile**: The average baseline CD4 count of 279.80 indicates that these individuals may be at moderate risk for immune deficiencies, potentially requiring monitoring and intervention.\n",
        "- **Potential Group**: This group may consist of younger patients who are newly diagnosed or in the early stages of treatment, exhibiting some health risks due to a moderate BMI and CD4 levels.\n",
        "\n",
        "#### **Cluster 1 Characteristics**\n",
        "- **Average BMI**: -1.58\n",
        "- **Average Age at Reporting**: -0.60\n",
        "- **Average Baseline CD4 Result**: 534.19\n",
        "\n",
        "**Interpretation**:\n",
        "- **Demographics**: This cluster has a notably lower average BMI, older age at reporting, and a high baseline CD4 count.\n",
        "- **Health Profile**: A CD4 count of 534.19 suggests that individuals in this cluster are healthier immunologically and may have a better response to treatment or be in a stable condition.\n",
        "- **Potential Group**: This could represent older patients who are well-managed and have lower health risks, possibly benefiting from effective treatment regimens that maintain their immune function.\n",
        "\n",
        "#### **Cluster 2 Characteristics**\n",
        "- **Average BMI**: 0.46\n",
        "- **Average Age at Reporting**: -0.54\n",
        "- **Average Baseline CD4 Result**: 202.68\n",
        "\n",
        "**Interpretation**:\n",
        "- **Demographics**: This cluster exhibits a higher average BMI and a younger age at reporting, along with a significantly lower baseline CD4 count.\n",
        "- **Health Profile**: The CD4 count of 202.68 indicates a higher risk for immunocompromised conditions, which may require more intensive medical management or interventions.\n",
        "- **Potential Group**: This cluster might include younger patients who have higher BMI and significant immune suppression, indicating potential health vulnerabilities.\n",
        "\n",
        "### Significant Differences and Patterns\n",
        "\n",
        "1. **BMI Variation**:\n",
        "   - **Cluster 1** shows the lowest BMI, suggesting a healthier weight status compared to the other clusters, while **Cluster 0** and **Cluster 2** have higher BMI values, indicating overweight or obesity in these groups.\n",
        "\n",
        "2. **Age Considerations**:\n",
        "   - **Cluster 1** has older patients who are generally healthier, while **Cluster 0** and **Cluster 2** include younger individuals, with **Cluster 2** at higher risk due to low CD4 counts.\n",
        "\n",
        "3. **CD4 Count Insights**:\n",
        "   - **Cluster 1** has the highest average CD4 count, suggesting better immune health, while **Cluster 0** presents a moderate risk, and **Cluster 2** shows significant immune compromise. This could guide treatment plans and monitoring.\n",
        "\n",
        "### Summary\n",
        "\n",
        "Each cluster reveals important patterns that can guide clinical decisions:\n",
        "- **Cluster 0** may need attention for moderate CD4 levels and health management.\n",
        "- **Cluster 1** appears stable and well-managed, possibly requiring less intensive monitoring.\n",
        "- **Cluster 2** may necessitate more aggressive treatment or interventions due to low CD4 counts and higher BMI.\n"
      ]
    },
    {
      "cell_type": "code",
      "execution_count": null,
      "metadata": {
        "id": "8038EhVtkLnZ"
      },
      "outputs": [],
      "source": [
        "# Quiz no.10\n",
        "#Set the visual aesthetics\n",
        "sns.set(style='whitegrid')\n",
        "\n",
        "# 1. Scatter Plot of Age vs. BMI\n",
        "plt.figure(figsize=(10, 6))\n",
        "sns.scatterplot(data=df, x='Age at Reporting', y='BMI', hue='cluster_labels', palette='viridis', style='cluster_labels', markers=[\"o\", \"s\", \"D\"])\n",
        "plt.title('Scatter Plot of Age vs. BMI')\n",
        "plt.xlabel('Age at Reporting')\n",
        "plt.ylabel('BMI')\n",
        "plt.legend(title='Cluster Labels')\n",
        "plt.show()\n",
        "\n",
        "# 2. Scatter Plot of Baseline CD4 vs. Last VL\n",
        "plt.figure(figsize=(10, 6))\n",
        "sns.scatterplot(data=df, x='Baseline CD4 result', y='Last VL', hue='cluster_labels', palette='viridis', style='cluster_labels', markers=[\"o\", \"s\", \"D\"])\n",
        "plt.title('Scatter Plot of Baseline CD4 vs. Last Viral Load')\n",
        "plt.xlabel('Baseline CD4 Result')\n",
        "plt.ylabel('Last Viral Load')\n",
        "plt.legend(title='Cluster Labels')\n",
        "plt.show()\n",
        "\n",
        "# 3. Histogram of Age Distribution by Cluster\n",
        "plt.figure(figsize=(10, 6))\n",
        "sns.histplot(data=df, x='Age at Reporting', hue='cluster_labels', multiple='stack', palette='viridis', bins=30)\n",
        "plt.title('Histogram of Age Distribution by Cluster')\n",
        "plt.xlabel('Age at Reporting')\n",
        "plt.ylabel('Frequency')\n",
        "plt.legend(title='Cluster Labels')\n",
        "plt.show()\n",
        "\n",
        "# 4. Histogram of BMI Distribution by Cluster\n",
        "plt.figure(figsize=(10, 6))\n",
        "sns.histplot(data=df, x='BMI', hue='cluster_labels', multiple='stack', palette='viridis', bins=30)\n",
        "plt.title('Histogram of BMI Distribution by Cluster')\n",
        "plt.xlabel('BMI')\n",
        "plt.ylabel('Frequency')\n",
        "plt.legend(title='Cluster Labels')\n",
        "plt.show()\n",
        "\n",
        "# 5. Heatmap of Feature Correlations\n",
        "correlation_matrix = df[['Age at Reporting', 'BMI', 'Baseline CD4 result', 'Last VL']].corr()\n",
        "plt.figure(figsize=(8, 6))\n",
        "sns.heatmap(correlation_matrix, annot=True, cmap='coolwarm', fmt=\".2f\")\n",
        "plt.title('Correlation Heatmap of Features')\n",
        "plt.show()\n",
        "\n",
        "# 6. Box Plot of Baseline CD4 Result by Cluster\n",
        "plt.figure(figsize=(10, 6))\n",
        "sns.boxplot(data=df, x='cluster_labels', y='Baseline CD4 result', palette='viridis')\n",
        "plt.title('Box Plot of Baseline CD4 Result by Cluster')\n",
        "plt.xlabel('Cluster Labels')\n",
        "plt.ylabel('Baseline CD4 Result')\n",
        "plt.show()\n"
      ]
    },
    {
      "cell_type": "code",
      "execution_count": null,
      "metadata": {
        "id": "NJAYmx_bH3KY"
      },
      "outputs": [],
      "source": []
    },
    {
      "cell_type": "code",
      "execution_count": null,
      "metadata": {
        "id": "HeTvoZVXn-LI"
      },
      "outputs": [],
      "source": [
        "#Q11 Convert pca_transformed_data to a DataFrame with appropriate column names\n",
        "pca_transformed_data = pd.DataFrame(pca_transformed_data[:, :2], columns=['PC1', 'PC2']) # Select the first two principal components\n",
        "\n",
        "# Assuming 'cluster_labels' is in your original DataFrame (df)\n",
        "pca_transformed_data['cluster_labels'] = df['cluster_labels']\n",
        "\n",
        "# Plot the PCA results\n",
        "plt.figure(figsize=(10, 6))\n",
        "sns.scatterplot(data=pca_transformed_data, x='PC1', y='PC2', hue='cluster_labels', palette='viridis', style='cluster_labels', markers=[\"o\", \"s\", \"D\"])\n",
        "plt.title('PCA of Clusters')\n",
        "plt.xlabel('Principal Component 1')\n",
        "plt.ylabel('Principal Component 2')\n",
        "plt.legend(title='Cluster Labels')\n",
        "plt.grid()\n",
        "plt.show()"
      ]
    },
    {
      "cell_type": "code",
      "execution_count": null,
      "metadata": {
        "id": "H7s2sITKrdAn"
      },
      "outputs": [],
      "source": [
        "from sklearn.metrics import silhouette_score\n",
        "\n",
        "\n",
        "# Calculate the silhouette score\n",
        "silhouette_avg = silhouette_score(scaled_features, df['cluster_labels'])\n",
        "print(f'Silhouette Score: {silhouette_avg:.3f}')\n"
      ]
    },
    {
      "cell_type": "markdown",
      "metadata": {
        "id": "5FW_oOL7tfj0"
      },
      "source": [
        "Moderate Overlap: A score of 0.289 indicates moderate overlap among the clusters. It’s not as low as 0 (which would indicate that points are very close to the cluster boundaries), but it's also not high enough to suggest well-defined clusters."
      ]
    },
    {
      "cell_type": "code",
      "execution_count": null,
      "metadata": {
        "id": "DiKx1yRsQPly"
      },
      "outputs": [],
      "source": [
        "import joblib\n",
        "joblib_file = \"/content/drive/My Drive/Karatina Project/CLIENTS_LIST_Model.joblib\"\n",
        "model = kmeans\n",
        "joblib.dump(model, joblib_file)"
      ]
    },
    {
      "cell_type": "code",
      "execution_count": null,
      "metadata": {
        "id": "RzosOnFqlgDx"
      },
      "outputs": [],
      "source": [
        "joblib.dump(scaler, \"/content/drive/My Drive/Karatina Project/scaler.joblib\")"
      ]
    },
    {
      "cell_type": "code",
      "execution_count": null,
      "metadata": {
        "id": "GOd10DDSE4hF"
      },
      "outputs": [],
      "source": [
        "!pip install streamlit"
      ]
    },
    {
      "cell_type": "code",
      "execution_count": null,
      "metadata": {
        "id": "uNNe07bFE_4J"
      },
      "outputs": [],
      "source": [
        "# Importing the necessary libraries\n",
        "import streamlit as st\n",
        "import joblib\n",
        "import numpy as np\n",
        "\n",
        "# Loading your saved K-Means model and scaler. Be sure to change the paths if needed\n",
        "kmeans_model = joblib.load(\"/content/drive/My Drive/Karatina Project/CLIENTS_LIST_Model.joblib\")\n",
        "scaler = joblib.load(\"/content/drive/My Drive/Karatina Project/scaler.joblib\")  # Load the scaler\n",
        "\n",
        "st.title('Patient Clustering App')\n",
        "st.write(\"This app assigns a patient to a health risk cluster based on their characteristics.\")\n",
        "\n",
        "# Input fields for patient characteristics\n",
        "age = st.number_input('Age at Reporting', min_value=0.0, max_value=100.0, value=30.0)\n",
        "bmi = st.number_input('BMI', min_value=10.0, max_value=50.0, value=25.0)\n",
        "baseline_cd4 = st.number_input('Baseline CD4 Count', min_value=0.0, max_value=2000.0, value=500.0)\n",
        "#viral_load = st.number_input('Last Viral Load', min_value=0.0, max_value=1000000.0, value=5000.0)\n",
        "\n",
        "# Assuming other features such as sex, population type, regimen line, etc. are also needed.\n",
        "#sex = st.selectbox('Sex (0=Male, 1=Female)', options=[0, 1], index=0)\n",
        "#current_regimen = st.selectbox('Current Treatment Regimen', options=[0, 1, 2], index=0)  # Example options\n",
        "\n",
        "if st.button('Predict Cluster'):\n",
        "    # Prepare input features for prediction\n",
        "    input_features = np.array([[age, bmi, baseline_cd4]])  # Ensure this is a 2D array\n",
        "\n",
        "    # Scale the input features using the loaded scaler\n",
        "    input_features_scaled = scaler.transform(input_features)\n",
        "\n",
        "    # Make prediction using K-Means\n",
        "    cluster_label = kmeans_model.predict(input_features_scaled)\n",
        "\n",
        "    # Display the predicted cluster\n",
        "    st.write(f'Predicted Cluster: {cluster_label[0]}')\n",
        "\n",
        "    # Optional: Display insights about the cluster (if available)\n",
        "    # For instance, you could fetch cluster characteristics from your analysis\n",
        "    # Example (you would need to define these insights based on your analysis):\n",
        "    # cluster_characteristics = get_cluster_characteristics(cluster_label[0])\n",
        "    # st.write(f'Cluster Characteristics: {cluster_characteristics}')\n"
      ]
    },
    {
      "cell_type": "code",
      "execution_count": null,
      "metadata": {
        "id": "QkzgofC3FWc6"
      },
      "outputs": [],
      "source": [
        "!npm install -g localtunnel"
      ]
    },
    {
      "cell_type": "code",
      "execution_count": null,
      "metadata": {
        "id": "XgWuuZdfFhjb"
      },
      "outputs": [],
      "source": [
        "!streamlit run /content/app.py &>/content/app_logs.txt &"
      ]
    },
    {
      "cell_type": "code",
      "execution_count": null,
      "metadata": {
        "id": "vT7pNZBEFpCE"
      },
      "outputs": [],
      "source": [
        "!npx localtunnel --port 8501"
      ]
    }
  ],
  "metadata": {
    "colab": {
      "provenance": [],
      "authorship_tag": "ABX9TyOp8sBSqg2JsjJY/gFAYfQZ",
      "include_colab_link": true
    },
    "kernelspec": {
      "display_name": "Python 3",
      "name": "python3"
    },
    "language_info": {
      "name": "python"
    }
  },
  "nbformat": 4,
  "nbformat_minor": 0
}