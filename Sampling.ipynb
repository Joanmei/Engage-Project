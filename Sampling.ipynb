{
  "nbformat": 4,
  "nbformat_minor": 0,
  "metadata": {
    "colab": {
      "provenance": [],
      "authorship_tag": "ABX9TyOOI39b5lM0B1bD4WeD0Fuf",
      "include_colab_link": true
    },
    "kernelspec": {
      "name": "python3",
      "display_name": "Python 3"
    },
    "language_info": {
      "name": "python"
    }
  },
  "cells": [
    {
      "cell_type": "markdown",
      "metadata": {
        "id": "view-in-github",
        "colab_type": "text"
      },
      "source": [
        "<a href=\"https://colab.research.google.com/github/Joanmei/Engage-Project/blob/main/Sampling.ipynb\" target=\"_parent\"><img src=\"https://colab.research.google.com/assets/colab-badge.svg\" alt=\"Open In Colab\"/></a>"
      ]
    },
    {
      "cell_type": "code",
      "execution_count": 3,
      "metadata": {
        "id": "4zaQwm6raMX1"
      },
      "outputs": [],
      "source": [
        "import numpy as np  # Import the NumPy library and give it the alias 'np'\n",
        "\n",
        "population = np.arange(1, 1001)  # Now you can use np.arange()\n"
      ]
    },
    {
      "cell_type": "code",
      "source": [
        "sample_size = 100"
      ],
      "metadata": {
        "id": "pqCVZkUHejNJ"
      },
      "execution_count": 4,
      "outputs": []
    },
    {
      "cell_type": "code",
      "source": [
        "np.random.seed(123)"
      ],
      "metadata": {
        "id": "ngXJCvLEe4vS"
      },
      "execution_count": 5,
      "outputs": []
    },
    {
      "cell_type": "code",
      "source": [
        "sample = np.random.choice(population, sample_size,\n",
        "replace=False)\n",
        "print(\"Sample:\", sample)"
      ],
      "metadata": {
        "colab": {
          "base_uri": "https://localhost:8080/"
        },
        "id": "zH6k_4R2fDKR",
        "outputId": "a359d062-d702-4335-d6a2-6545d8554ba0"
      },
      "execution_count": 7,
      "outputs": [
        {
          "output_type": "stream",
          "name": "stdout",
          "text": [
            "Sample: [198  44 694 777  47  42 493 452 905 221 558 907 285 239 358 557 651 207\n",
            "  65 882 566 227 886 855 692 535 818 329 156 664 949 658 743 788 342 656\n",
            "  13 127 302  26 751 792 603 183 828 190  92 970 232 561 680 681 910 108\n",
            " 526 307 590 967 844 223 362 249 653 336 270 105  93 869 801  29 262 965\n",
            " 714 562 908 809 798 616 866 373  48 311 739 233 806 344 565 998 654 384\n",
            " 628 700 310 350 703 619 313 953 430 389]\n"
          ]
        }
      ]
    },
    {
      "cell_type": "code",
      "source": [
        "import pandas as pd\n",
        "df=pd.read_csv('/content/childhealthdata.csv')\n",
        "df.info()"
      ],
      "metadata": {
        "colab": {
          "base_uri": "https://localhost:8080/"
        },
        "id": "d1Fi1CF1fURK",
        "outputId": "9eab8aa8-887a-4748-f8c3-49bc7b2a5de1"
      },
      "execution_count": 14,
      "outputs": [
        {
          "output_type": "stream",
          "name": "stdout",
          "text": [
            "<class 'pandas.core.frame.DataFrame'>\n",
            "RangeIndex: 799 entries, 0 to 798\n",
            "Data columns (total 10 columns):\n",
            " #   Column                                            Non-Null Count  Dtype  \n",
            "---  ------                                            --------------  -----  \n",
            " 0   Child participated in POLIO campaign August 2013  799 non-null    int64  \n",
            " 1    diarrhea_status                                  799 non-null    object \n",
            " 2   weight                                            799 non-null    float64\n",
            " 3   height                                            799 non-null    float64\n",
            " 4   residence                                         799 non-null    object \n",
            " 5   Sex                                               799 non-null    object \n",
            " 6   age                                               799 non-null    int64  \n",
            " 7   age_category                                      799 non-null    object \n",
            " 8   education                                         768 non-null    object \n",
            " 9   wealth_index                                      799 non-null    object \n",
            "dtypes: float64(2), int64(2), object(6)\n",
            "memory usage: 62.5+ KB\n"
          ]
        }
      ]
    },
    {
      "cell_type": "code",
      "source": [
        "height_sample=df['height']\n",
        "sample=np.random.choice(height_sample,200, replace=False)\n",
        "sample"
      ],
      "metadata": {
        "colab": {
          "base_uri": "https://localhost:8080/"
        },
        "id": "XeL_7TJNgUJb",
        "outputId": "c033a6b2-3724-403f-ff84-dab2db9281b2"
      },
      "execution_count": 17,
      "outputs": [
        {
          "output_type": "execute_result",
          "data": {
            "text/plain": [
              "array([102.3,  87.7,  66.4,  85.4,  82.5,  85.4,  71. ,  68.9, 104.8,\n",
              "        89. ,  84.6,  75.7,  67.5,  98.4, 103.3,  91.5,  80.9,  91.3,\n",
              "       101.5,  89. ,  76.5,  78.2,  98.7,  73.8,  86.2, 108.9,  72. ,\n",
              "        81.6,  94. ,  74.2, 102.8,  98.2,  57. ,  60.6,  90.8,  83.8,\n",
              "        70.2,  74.6,  98.6,  62.5,  87.8,  72. ,  72.2, 114.3,  89. ,\n",
              "        82.8,  78.1,  51. ,  91.7, 100.4,  58.6,  87. ,  88.1,  99.3,\n",
              "        67.9,  86.1,  77.6,  96.7,  75. ,  88. ,  89.7,  75.9,  78.5,\n",
              "        96.4,  71.9,  90. ,  78.3,  79. ,  94.3,  80.5,  77.5,  77.9,\n",
              "        85.3,  90.2, 103.8,  79. ,  82. ,  94.4,  89.3,  99.4,  76.6,\n",
              "        64.8,  92.2,  75. ,  79. ,  85.5,  90.4, 104. , 102.5, 102.9,\n",
              "        73. ,  66. , 103.5,  70.3,  90.1,  93.8,  90. ,  72. ,  81.5,\n",
              "        75. ,  95.4,  81.1, 100.3,  81.4,  87.3,  80.6,  88.7,  83.5,\n",
              "        66.3,  57.9, 104.1,  87. ,  73.4,  69. , 103.5,  99.6, 100. ,\n",
              "       102.3,  86.5,  68.5,  52. ,  85.6,  65.1,  97.2,  48.2,  89.5,\n",
              "        93. ,  70.9,  84. ,  63.3,  99.5,  64.5,  91.7,  92. ,  70.3,\n",
              "        50.1,  87.3,  91.5,  77.6,  88.8, 101.3,  90.5,  87. ,  95. ,\n",
              "        72.3,  51.5, 110.1,  76.5,  51.5,  86. ,  95. ,  93.6,  69.5,\n",
              "        75.2, 109.6,  96.4,  88.4,  91.8,  74. ,  69.1,  83.6,  76.8,\n",
              "        96.5, 112. ,  94.3,  63.7,  67.3,  79. ,  67. ,  63.8, 100.1,\n",
              "        79.3,  85.4,  98.2,  87.5, 101.5,  87.3,  85.6,  99.2,  80.1,\n",
              "        63.3, 101.9,  95.2,  87.1,  77.6,  89.5, 104.6,  85.2, 105.8,\n",
              "        74.5,  75.1,  95.5,  80. ,  72.5,  66.3,  99.4,  67. , 100.5,\n",
              "        89.5,  93.2])"
            ]
          },
          "metadata": {},
          "execution_count": 17
        }
      ]
    }
  ]
}